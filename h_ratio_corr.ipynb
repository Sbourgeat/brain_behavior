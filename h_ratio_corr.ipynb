{
 "cells": [
  {
   "cell_type": "code",
   "execution_count": 19,
   "id": "2df50272-aaf8-4763-be8f-403467db6463",
   "metadata": {},
   "outputs": [],
   "source": [
    "import pandas as pd"
   ]
  },
  {
   "cell_type": "code",
   "execution_count": 20,
   "id": "202f666e-4d53-4aab-a7a7-cd2596fc1df4",
   "metadata": {
    "tags": []
   },
   "outputs": [
    {
     "data": {
      "text/html": [
       "<div>\n",
       "<style scoped>\n",
       "    .dataframe tbody tr th:only-of-type {\n",
       "        vertical-align: middle;\n",
       "    }\n",
       "\n",
       "    .dataframe tbody tr th {\n",
       "        vertical-align: top;\n",
       "    }\n",
       "\n",
       "    .dataframe thead th {\n",
       "        text-align: right;\n",
       "    }\n",
       "</style>\n",
       "<table border=\"1\" class=\"dataframe\">\n",
       "  <thead>\n",
       "    <tr style=\"text-align: right;\">\n",
       "      <th></th>\n",
       "      <th>id</th>\n",
       "      <th>genotype</th>\n",
       "      <th>sex</th>\n",
       "      <th>exp_type</th>\n",
       "      <th>shock_color</th>\n",
       "      <th>shock_arm</th>\n",
       "      <th>treatment</th>\n",
       "      <th>replicates</th>\n",
       "      <th>ZT0</th>\n",
       "      <th>ZT</th>\n",
       "      <th>...</th>\n",
       "      <th>post_incorrect_choices</th>\n",
       "      <th>post_analysis_time</th>\n",
       "      <th>group</th>\n",
       "      <th>group_sex</th>\n",
       "      <th>folder</th>\n",
       "      <th>experiment_date</th>\n",
       "      <th>experiment_by</th>\n",
       "      <th>head_scanned</th>\n",
       "      <th>abs_dev</th>\n",
       "      <th>abs_dev_sex</th>\n",
       "    </tr>\n",
       "  </thead>\n",
       "  <tbody>\n",
       "    <tr>\n",
       "      <th>0</th>\n",
       "      <td>17</td>\n",
       "      <td>dgrp100</td>\n",
       "      <td>female</td>\n",
       "      <td>operant_place</td>\n",
       "      <td>green</td>\n",
       "      <td>M</td>\n",
       "      <td>noShock</td>\n",
       "      <td>1</td>\n",
       "      <td>11:00:00</td>\n",
       "      <td>NaN</td>\n",
       "      <td>...</td>\n",
       "      <td>NaN</td>\n",
       "      <td>NaN</td>\n",
       "      <td>dgrp100_noShock</td>\n",
       "      <td>dgrp100_noShock_female</td>\n",
       "      <td>operant_place/20221222/csv/dgrp100_noShock/female</td>\n",
       "      <td>20221222</td>\n",
       "      <td>riddha</td>\n",
       "      <td>False</td>\n",
       "      <td>0.159876</td>\n",
       "      <td>0.172520</td>\n",
       "    </tr>\n",
       "    <tr>\n",
       "      <th>1</th>\n",
       "      <td>18</td>\n",
       "      <td>dgrp100</td>\n",
       "      <td>female</td>\n",
       "      <td>operant_place</td>\n",
       "      <td>green</td>\n",
       "      <td>R</td>\n",
       "      <td>noShock</td>\n",
       "      <td>1</td>\n",
       "      <td>11:00:00</td>\n",
       "      <td>NaN</td>\n",
       "      <td>...</td>\n",
       "      <td>NaN</td>\n",
       "      <td>NaN</td>\n",
       "      <td>dgrp100_noShock</td>\n",
       "      <td>dgrp100_noShock_female</td>\n",
       "      <td>operant_place/20221222/csv/dgrp100_noShock/female</td>\n",
       "      <td>20221222</td>\n",
       "      <td>riddha</td>\n",
       "      <td>False</td>\n",
       "      <td>0.030237</td>\n",
       "      <td>0.042881</td>\n",
       "    </tr>\n",
       "    <tr>\n",
       "      <th>2</th>\n",
       "      <td>19</td>\n",
       "      <td>dgrp100</td>\n",
       "      <td>female</td>\n",
       "      <td>operant_place</td>\n",
       "      <td>green</td>\n",
       "      <td>L</td>\n",
       "      <td>noShock</td>\n",
       "      <td>1</td>\n",
       "      <td>11:00:00</td>\n",
       "      <td>NaN</td>\n",
       "      <td>...</td>\n",
       "      <td>NaN</td>\n",
       "      <td>NaN</td>\n",
       "      <td>dgrp100_noShock</td>\n",
       "      <td>dgrp100_noShock_female</td>\n",
       "      <td>operant_place/20221222/csv/dgrp100_noShock/female</td>\n",
       "      <td>20221222</td>\n",
       "      <td>riddha</td>\n",
       "      <td>False</td>\n",
       "      <td>0.239896</td>\n",
       "      <td>0.227253</td>\n",
       "    </tr>\n",
       "    <tr>\n",
       "      <th>3</th>\n",
       "      <td>20</td>\n",
       "      <td>dgrp100</td>\n",
       "      <td>female</td>\n",
       "      <td>operant_place</td>\n",
       "      <td>green</td>\n",
       "      <td>M</td>\n",
       "      <td>noShock</td>\n",
       "      <td>1</td>\n",
       "      <td>11:00:00</td>\n",
       "      <td>NaN</td>\n",
       "      <td>...</td>\n",
       "      <td>NaN</td>\n",
       "      <td>NaN</td>\n",
       "      <td>dgrp100_noShock</td>\n",
       "      <td>dgrp100_noShock_female</td>\n",
       "      <td>operant_place/20221222/csv/dgrp100_noShock/female</td>\n",
       "      <td>20221222</td>\n",
       "      <td>riddha</td>\n",
       "      <td>False</td>\n",
       "      <td>0.025809</td>\n",
       "      <td>0.013166</td>\n",
       "    </tr>\n",
       "    <tr>\n",
       "      <th>4</th>\n",
       "      <td>21</td>\n",
       "      <td>dgrp100</td>\n",
       "      <td>female</td>\n",
       "      <td>operant_place</td>\n",
       "      <td>green</td>\n",
       "      <td>R</td>\n",
       "      <td>noShock</td>\n",
       "      <td>1</td>\n",
       "      <td>11:00:00</td>\n",
       "      <td>NaN</td>\n",
       "      <td>...</td>\n",
       "      <td>NaN</td>\n",
       "      <td>NaN</td>\n",
       "      <td>dgrp100_noShock</td>\n",
       "      <td>dgrp100_noShock_female</td>\n",
       "      <td>operant_place/20221222/csv/dgrp100_noShock/female</td>\n",
       "      <td>20221222</td>\n",
       "      <td>riddha</td>\n",
       "      <td>False</td>\n",
       "      <td>0.094741</td>\n",
       "      <td>0.107385</td>\n",
       "    </tr>\n",
       "    <tr>\n",
       "      <th>...</th>\n",
       "      <td>...</td>\n",
       "      <td>...</td>\n",
       "      <td>...</td>\n",
       "      <td>...</td>\n",
       "      <td>...</td>\n",
       "      <td>...</td>\n",
       "      <td>...</td>\n",
       "      <td>...</td>\n",
       "      <td>...</td>\n",
       "      <td>...</td>\n",
       "      <td>...</td>\n",
       "      <td>...</td>\n",
       "      <td>...</td>\n",
       "      <td>...</td>\n",
       "      <td>...</td>\n",
       "      <td>...</td>\n",
       "      <td>...</td>\n",
       "      <td>...</td>\n",
       "      <td>...</td>\n",
       "      <td>...</td>\n",
       "      <td>...</td>\n",
       "    </tr>\n",
       "    <tr>\n",
       "      <th>5307</th>\n",
       "      <td>44</td>\n",
       "      <td>dnc1</td>\n",
       "      <td>male</td>\n",
       "      <td>operant_color</td>\n",
       "      <td>blue</td>\n",
       "      <td>NaN</td>\n",
       "      <td>shock</td>\n",
       "      <td>2</td>\n",
       "      <td>11:00:00</td>\n",
       "      <td>18:21:41</td>\n",
       "      <td>...</td>\n",
       "      <td>27.0</td>\n",
       "      <td>600.0</td>\n",
       "      <td>dnc1_shock</td>\n",
       "      <td>dnc1_shock_male</td>\n",
       "      <td>operant_color/20230806/csv/dnc1_shock/male</td>\n",
       "      <td>20230806</td>\n",
       "      <td>riddha</td>\n",
       "      <td>False</td>\n",
       "      <td>0.099280</td>\n",
       "      <td>0.087237</td>\n",
       "    </tr>\n",
       "    <tr>\n",
       "      <th>5308</th>\n",
       "      <td>45</td>\n",
       "      <td>dnc1</td>\n",
       "      <td>male</td>\n",
       "      <td>operant_color</td>\n",
       "      <td>blue</td>\n",
       "      <td>NaN</td>\n",
       "      <td>shock</td>\n",
       "      <td>2</td>\n",
       "      <td>11:00:00</td>\n",
       "      <td>18:21:41</td>\n",
       "      <td>...</td>\n",
       "      <td>70.0</td>\n",
       "      <td>600.0</td>\n",
       "      <td>dnc1_shock</td>\n",
       "      <td>dnc1_shock_male</td>\n",
       "      <td>operant_color/20230806/csv/dnc1_shock/male</td>\n",
       "      <td>20230806</td>\n",
       "      <td>riddha</td>\n",
       "      <td>False</td>\n",
       "      <td>0.082689</td>\n",
       "      <td>0.070646</td>\n",
       "    </tr>\n",
       "    <tr>\n",
       "      <th>5309</th>\n",
       "      <td>46</td>\n",
       "      <td>dnc1</td>\n",
       "      <td>male</td>\n",
       "      <td>operant_color</td>\n",
       "      <td>blue</td>\n",
       "      <td>NaN</td>\n",
       "      <td>shock</td>\n",
       "      <td>2</td>\n",
       "      <td>11:00:00</td>\n",
       "      <td>18:21:41</td>\n",
       "      <td>...</td>\n",
       "      <td>45.0</td>\n",
       "      <td>600.0</td>\n",
       "      <td>dnc1_shock</td>\n",
       "      <td>dnc1_shock_male</td>\n",
       "      <td>operant_color/20230806/csv/dnc1_shock/male</td>\n",
       "      <td>20230806</td>\n",
       "      <td>riddha</td>\n",
       "      <td>False</td>\n",
       "      <td>0.082759</td>\n",
       "      <td>0.070715</td>\n",
       "    </tr>\n",
       "    <tr>\n",
       "      <th>5310</th>\n",
       "      <td>47</td>\n",
       "      <td>dnc1</td>\n",
       "      <td>male</td>\n",
       "      <td>operant_color</td>\n",
       "      <td>blue</td>\n",
       "      <td>NaN</td>\n",
       "      <td>shock</td>\n",
       "      <td>2</td>\n",
       "      <td>11:00:00</td>\n",
       "      <td>18:21:41</td>\n",
       "      <td>...</td>\n",
       "      <td>49.0</td>\n",
       "      <td>600.0</td>\n",
       "      <td>dnc1_shock</td>\n",
       "      <td>dnc1_shock_male</td>\n",
       "      <td>operant_color/20230806/csv/dnc1_shock/male</td>\n",
       "      <td>20230806</td>\n",
       "      <td>riddha</td>\n",
       "      <td>False</td>\n",
       "      <td>0.164981</td>\n",
       "      <td>0.152937</td>\n",
       "    </tr>\n",
       "    <tr>\n",
       "      <th>5311</th>\n",
       "      <td>48</td>\n",
       "      <td>dnc1</td>\n",
       "      <td>male</td>\n",
       "      <td>operant_color</td>\n",
       "      <td>blue</td>\n",
       "      <td>NaN</td>\n",
       "      <td>shock</td>\n",
       "      <td>2</td>\n",
       "      <td>11:00:00</td>\n",
       "      <td>18:21:41</td>\n",
       "      <td>...</td>\n",
       "      <td>10.0</td>\n",
       "      <td>600.0</td>\n",
       "      <td>dnc1_shock</td>\n",
       "      <td>dnc1_shock_male</td>\n",
       "      <td>operant_color/20230806/csv/dnc1_shock/male</td>\n",
       "      <td>20230806</td>\n",
       "      <td>riddha</td>\n",
       "      <td>False</td>\n",
       "      <td>0.074083</td>\n",
       "      <td>0.062040</td>\n",
       "    </tr>\n",
       "  </tbody>\n",
       "</table>\n",
       "<p>5312 rows × 48 columns</p>\n",
       "</div>"
      ],
      "text/plain": [
       "      id genotype     sex       exp_type shock_color shock_arm treatment  \\\n",
       "0     17  dgrp100  female  operant_place       green         M   noShock   \n",
       "1     18  dgrp100  female  operant_place       green         R   noShock   \n",
       "2     19  dgrp100  female  operant_place       green         L   noShock   \n",
       "3     20  dgrp100  female  operant_place       green         M   noShock   \n",
       "4     21  dgrp100  female  operant_place       green         R   noShock   \n",
       "...   ..      ...     ...            ...         ...       ...       ...   \n",
       "5307  44     dnc1    male  operant_color        blue       NaN     shock   \n",
       "5308  45     dnc1    male  operant_color        blue       NaN     shock   \n",
       "5309  46     dnc1    male  operant_color        blue       NaN     shock   \n",
       "5310  47     dnc1    male  operant_color        blue       NaN     shock   \n",
       "5311  48     dnc1    male  operant_color        blue       NaN     shock   \n",
       "\n",
       "      replicates       ZT0        ZT  ...  post_incorrect_choices  \\\n",
       "0              1  11:00:00       NaN  ...                     NaN   \n",
       "1              1  11:00:00       NaN  ...                     NaN   \n",
       "2              1  11:00:00       NaN  ...                     NaN   \n",
       "3              1  11:00:00       NaN  ...                     NaN   \n",
       "4              1  11:00:00       NaN  ...                     NaN   \n",
       "...          ...       ...       ...  ...                     ...   \n",
       "5307           2  11:00:00  18:21:41  ...                    27.0   \n",
       "5308           2  11:00:00  18:21:41  ...                    70.0   \n",
       "5309           2  11:00:00  18:21:41  ...                    45.0   \n",
       "5310           2  11:00:00  18:21:41  ...                    49.0   \n",
       "5311           2  11:00:00  18:21:41  ...                    10.0   \n",
       "\n",
       "      post_analysis_time            group               group_sex  \\\n",
       "0                    NaN  dgrp100_noShock  dgrp100_noShock_female   \n",
       "1                    NaN  dgrp100_noShock  dgrp100_noShock_female   \n",
       "2                    NaN  dgrp100_noShock  dgrp100_noShock_female   \n",
       "3                    NaN  dgrp100_noShock  dgrp100_noShock_female   \n",
       "4                    NaN  dgrp100_noShock  dgrp100_noShock_female   \n",
       "...                  ...              ...                     ...   \n",
       "5307               600.0       dnc1_shock         dnc1_shock_male   \n",
       "5308               600.0       dnc1_shock         dnc1_shock_male   \n",
       "5309               600.0       dnc1_shock         dnc1_shock_male   \n",
       "5310               600.0       dnc1_shock         dnc1_shock_male   \n",
       "5311               600.0       dnc1_shock         dnc1_shock_male   \n",
       "\n",
       "                                                 folder  experiment_date  \\\n",
       "0     operant_place/20221222/csv/dgrp100_noShock/female         20221222   \n",
       "1     operant_place/20221222/csv/dgrp100_noShock/female         20221222   \n",
       "2     operant_place/20221222/csv/dgrp100_noShock/female         20221222   \n",
       "3     operant_place/20221222/csv/dgrp100_noShock/female         20221222   \n",
       "4     operant_place/20221222/csv/dgrp100_noShock/female         20221222   \n",
       "...                                                 ...              ...   \n",
       "5307         operant_color/20230806/csv/dnc1_shock/male         20230806   \n",
       "5308         operant_color/20230806/csv/dnc1_shock/male         20230806   \n",
       "5309         operant_color/20230806/csv/dnc1_shock/male         20230806   \n",
       "5310         operant_color/20230806/csv/dnc1_shock/male         20230806   \n",
       "5311         operant_color/20230806/csv/dnc1_shock/male         20230806   \n",
       "\n",
       "      experiment_by  head_scanned   abs_dev  abs_dev_sex  \n",
       "0            riddha         False  0.159876     0.172520  \n",
       "1            riddha         False  0.030237     0.042881  \n",
       "2            riddha         False  0.239896     0.227253  \n",
       "3            riddha         False  0.025809     0.013166  \n",
       "4            riddha         False  0.094741     0.107385  \n",
       "...             ...           ...       ...          ...  \n",
       "5307         riddha         False  0.099280     0.087237  \n",
       "5308         riddha         False  0.082689     0.070646  \n",
       "5309         riddha         False  0.082759     0.070715  \n",
       "5310         riddha         False  0.164981     0.152937  \n",
       "5311         riddha         False  0.074083     0.062040  \n",
       "\n",
       "[5312 rows x 48 columns]"
      ]
     },
     "execution_count": 20,
     "metadata": {},
     "output_type": "execute_result"
    }
   ],
   "source": [
    "behav = pd.read_csv(\"/Users/skumar/Documents/PhD/BrainAnalysis/Behavior/summary.csv\")\n",
    "behav"
   ]
  },
  {
   "cell_type": "code",
   "execution_count": 21,
   "id": "a4b1a921-9fae-4644-8338-02550acacd20",
   "metadata": {
    "tags": []
   },
   "outputs": [
    {
     "data": {
      "text/html": [
       "<div>\n",
       "<style scoped>\n",
       "    .dataframe tbody tr th:only-of-type {\n",
       "        vertical-align: middle;\n",
       "    }\n",
       "\n",
       "    .dataframe tbody tr th {\n",
       "        vertical-align: top;\n",
       "    }\n",
       "\n",
       "    .dataframe thead th {\n",
       "        text-align: right;\n",
       "    }\n",
       "</style>\n",
       "<table border=\"1\" class=\"dataframe\">\n",
       "  <thead>\n",
       "    <tr style=\"text-align: right;\">\n",
       "      <th></th>\n",
       "      <th>DGRP</th>\n",
       "      <th>sex</th>\n",
       "      <th>abs_volume</th>\n",
       "      <th>h_ratio</th>\n",
       "    </tr>\n",
       "  </thead>\n",
       "  <tbody>\n",
       "    <tr>\n",
       "      <th>0</th>\n",
       "      <td>228</td>\n",
       "      <td>female</td>\n",
       "      <td>0.010634</td>\n",
       "      <td>0.009527</td>\n",
       "    </tr>\n",
       "    <tr>\n",
       "      <th>1</th>\n",
       "      <td>332</td>\n",
       "      <td>female</td>\n",
       "      <td>0.015221</td>\n",
       "      <td>0.012052</td>\n",
       "    </tr>\n",
       "    <tr>\n",
       "      <th>2</th>\n",
       "      <td>228</td>\n",
       "      <td>male</td>\n",
       "      <td>0.010962</td>\n",
       "      <td>0.012418</td>\n",
       "    </tr>\n",
       "    <tr>\n",
       "      <th>3</th>\n",
       "      <td>390</td>\n",
       "      <td>female</td>\n",
       "      <td>0.015531</td>\n",
       "      <td>0.012578</td>\n",
       "    </tr>\n",
       "    <tr>\n",
       "      <th>4</th>\n",
       "      <td>332</td>\n",
       "      <td>male</td>\n",
       "      <td>0.012916</td>\n",
       "      <td>0.013225</td>\n",
       "    </tr>\n",
       "    <tr>\n",
       "      <th>...</th>\n",
       "      <td>...</td>\n",
       "      <td>...</td>\n",
       "      <td>...</td>\n",
       "      <td>...</td>\n",
       "    </tr>\n",
       "    <tr>\n",
       "      <th>120</th>\n",
       "      <td>93</td>\n",
       "      <td>female</td>\n",
       "      <td>0.020374</td>\n",
       "      <td>0.031324</td>\n",
       "    </tr>\n",
       "    <tr>\n",
       "      <th>121</th>\n",
       "      <td>790</td>\n",
       "      <td>male</td>\n",
       "      <td>0.031894</td>\n",
       "      <td>0.031896</td>\n",
       "    </tr>\n",
       "    <tr>\n",
       "      <th>122</th>\n",
       "      <td>26</td>\n",
       "      <td>female</td>\n",
       "      <td>0.019917</td>\n",
       "      <td>0.032023</td>\n",
       "    </tr>\n",
       "    <tr>\n",
       "      <th>123</th>\n",
       "      <td>195</td>\n",
       "      <td>female</td>\n",
       "      <td>0.019900</td>\n",
       "      <td>0.032727</td>\n",
       "    </tr>\n",
       "    <tr>\n",
       "      <th>124</th>\n",
       "      <td>31</td>\n",
       "      <td>female</td>\n",
       "      <td>0.020520</td>\n",
       "      <td>0.034060</td>\n",
       "    </tr>\n",
       "  </tbody>\n",
       "</table>\n",
       "<p>125 rows × 4 columns</p>\n",
       "</div>"
      ],
      "text/plain": [
       "    DGRP     sex  abs_volume   h_ratio\n",
       "0    228  female    0.010634  0.009527\n",
       "1    332  female    0.015221  0.012052\n",
       "2    228    male    0.010962  0.012418\n",
       "3    390  female    0.015531  0.012578\n",
       "4    332    male    0.012916  0.013225\n",
       "..   ...     ...         ...       ...\n",
       "120   93  female    0.020374  0.031324\n",
       "121  790    male    0.031894  0.031896\n",
       "122   26  female    0.019917  0.032023\n",
       "123  195  female    0.019900  0.032727\n",
       "124   31  female    0.020520  0.034060\n",
       "\n",
       "[125 rows x 4 columns]"
      ]
     },
     "execution_count": 21,
     "metadata": {},
     "output_type": "execute_result"
    }
   ],
   "source": [
    "#brain = pd.read_csv(\"/Users/skumar/Documents/PhD/BrainAnalysis/Results_Vol_Entropy/GWAS_Normalized_EntropyVol.tsv\", sep=\"\\t\")\n",
    "brain = pd.read_csv(\"/Users/skumar/Project/PHD_work/GWAS/dataset/vol_hratio.csv\", sep=\",\")\n",
    "brain"
   ]
  },
  {
   "cell_type": "code",
   "execution_count": 22,
   "id": "a431ebed-6364-4030-8643-b82ec19e7e02",
   "metadata": {
    "tags": []
   },
   "outputs": [],
   "source": [
    "def split_string_with_dgrp(df):\n",
    "    DGRP=[]\n",
    "    sex = []\n",
    "    for i in range(len(df)):\n",
    "        if 'dgrp' in df.iloc[i, 1]:\n",
    "            #print(df.iloc[i, 1])\n",
    "            #DGRP.append(df.iloc[i, 1].split('dgrp')[1])\n",
    "            DGRP.append(df.iloc[i, 1])\n",
    "            s= df.iloc[i,2]\n",
    "            #if s == \"male\" : s=\"M\"\n",
    "            #else: s=\"F\"\n",
    "            sex.append(s)\n",
    "    return DGRP,sex\n",
    "DGRP,sex = split_string_with_dgrp(behav)"
   ]
  },
  {
   "cell_type": "code",
   "execution_count": 23,
   "id": "563c1870-88df-448a-ab12-1a296d061409",
   "metadata": {
    "tags": []
   },
   "outputs": [],
   "source": [
    "data = behav[behav['genotype'].isin(DGRP) & behav['sex'].isin(sex) & behav[\"head_scanned\"]==True]\n"
   ]
  },
  {
   "cell_type": "code",
   "execution_count": 24,
   "id": "f6c1e245-7d48-43ff-9328-7f13a40dc591",
   "metadata": {
    "tags": []
   },
   "outputs": [
    {
     "data": {
      "text/html": [
       "<div>\n",
       "<style scoped>\n",
       "    .dataframe tbody tr th:only-of-type {\n",
       "        vertical-align: middle;\n",
       "    }\n",
       "\n",
       "    .dataframe tbody tr th {\n",
       "        vertical-align: top;\n",
       "    }\n",
       "\n",
       "    .dataframe thead th {\n",
       "        text-align: right;\n",
       "    }\n",
       "</style>\n",
       "<table border=\"1\" class=\"dataframe\">\n",
       "  <thead>\n",
       "    <tr style=\"text-align: right;\">\n",
       "      <th></th>\n",
       "      <th>id</th>\n",
       "      <th>genotype</th>\n",
       "      <th>sex</th>\n",
       "      <th>exp_type</th>\n",
       "      <th>shock_color</th>\n",
       "      <th>shock_arm</th>\n",
       "      <th>treatment</th>\n",
       "      <th>replicates</th>\n",
       "      <th>ZT0</th>\n",
       "      <th>ZT</th>\n",
       "      <th>...</th>\n",
       "      <th>post_incorrect_choices</th>\n",
       "      <th>post_analysis_time</th>\n",
       "      <th>group</th>\n",
       "      <th>group_sex</th>\n",
       "      <th>folder</th>\n",
       "      <th>experiment_date</th>\n",
       "      <th>experiment_by</th>\n",
       "      <th>head_scanned</th>\n",
       "      <th>abs_dev</th>\n",
       "      <th>abs_dev_sex</th>\n",
       "    </tr>\n",
       "  </thead>\n",
       "  <tbody>\n",
       "    <tr>\n",
       "      <th>2528</th>\n",
       "      <td>1</td>\n",
       "      <td>dgrp153</td>\n",
       "      <td>female</td>\n",
       "      <td>operant_place</td>\n",
       "      <td>green</td>\n",
       "      <td>L</td>\n",
       "      <td>shock</td>\n",
       "      <td>1</td>\n",
       "      <td>16:00:00</td>\n",
       "      <td>17:42:50</td>\n",
       "      <td>...</td>\n",
       "      <td>NaN</td>\n",
       "      <td>NaN</td>\n",
       "      <td>dgrp153_shock</td>\n",
       "      <td>dgrp153_shock_female</td>\n",
       "      <td>operant_place/20230414/csv/dgrp153_shock/female</td>\n",
       "      <td>20230414</td>\n",
       "      <td>riddha</td>\n",
       "      <td>True</td>\n",
       "      <td>0.168387</td>\n",
       "      <td>0.130132</td>\n",
       "    </tr>\n",
       "    <tr>\n",
       "      <th>2544</th>\n",
       "      <td>9</td>\n",
       "      <td>dgrp153</td>\n",
       "      <td>male</td>\n",
       "      <td>operant_place</td>\n",
       "      <td>green</td>\n",
       "      <td>R</td>\n",
       "      <td>shock</td>\n",
       "      <td>1</td>\n",
       "      <td>16:00:00</td>\n",
       "      <td>17:42:50</td>\n",
       "      <td>...</td>\n",
       "      <td>NaN</td>\n",
       "      <td>NaN</td>\n",
       "      <td>dgrp153_shock</td>\n",
       "      <td>dgrp153_shock_male</td>\n",
       "      <td>operant_place/20230414/csv/dgrp153_shock/male</td>\n",
       "      <td>20230414</td>\n",
       "      <td>riddha</td>\n",
       "      <td>True</td>\n",
       "      <td>0.047087</td>\n",
       "      <td>0.008831</td>\n",
       "    </tr>\n",
       "    <tr>\n",
       "      <th>2592</th>\n",
       "      <td>1</td>\n",
       "      <td>dgrp313</td>\n",
       "      <td>female</td>\n",
       "      <td>operant_place</td>\n",
       "      <td>green</td>\n",
       "      <td>L</td>\n",
       "      <td>shock</td>\n",
       "      <td>1</td>\n",
       "      <td>11:00:00</td>\n",
       "      <td>13:00:22</td>\n",
       "      <td>...</td>\n",
       "      <td>NaN</td>\n",
       "      <td>NaN</td>\n",
       "      <td>dgrp313_shock</td>\n",
       "      <td>dgrp313_shock_female</td>\n",
       "      <td>operant_place/20230414/csv/dgrp313_shock/female</td>\n",
       "      <td>20230414</td>\n",
       "      <td>riddha</td>\n",
       "      <td>True</td>\n",
       "      <td>0.235604</td>\n",
       "      <td>0.245171</td>\n",
       "    </tr>\n",
       "    <tr>\n",
       "      <th>2608</th>\n",
       "      <td>9</td>\n",
       "      <td>dgrp313</td>\n",
       "      <td>male</td>\n",
       "      <td>operant_place</td>\n",
       "      <td>green</td>\n",
       "      <td>R</td>\n",
       "      <td>shock</td>\n",
       "      <td>1</td>\n",
       "      <td>11:00:00</td>\n",
       "      <td>13:00:22</td>\n",
       "      <td>...</td>\n",
       "      <td>NaN</td>\n",
       "      <td>NaN</td>\n",
       "      <td>dgrp313_shock</td>\n",
       "      <td>dgrp313_shock_male</td>\n",
       "      <td>operant_place/20230414/csv/dgrp313_shock/male</td>\n",
       "      <td>20230414</td>\n",
       "      <td>riddha</td>\n",
       "      <td>True</td>\n",
       "      <td>0.103920</td>\n",
       "      <td>0.113488</td>\n",
       "    </tr>\n",
       "    <tr>\n",
       "      <th>2656</th>\n",
       "      <td>1</td>\n",
       "      <td>dgrp721</td>\n",
       "      <td>female</td>\n",
       "      <td>operant_place</td>\n",
       "      <td>green</td>\n",
       "      <td>L</td>\n",
       "      <td>shock</td>\n",
       "      <td>1</td>\n",
       "      <td>11:00:00</td>\n",
       "      <td>14:09:47</td>\n",
       "      <td>...</td>\n",
       "      <td>NaN</td>\n",
       "      <td>NaN</td>\n",
       "      <td>dgrp721_shock</td>\n",
       "      <td>dgrp721_shock_female</td>\n",
       "      <td>operant_place/20230414/csv/dgrp721_shock/female</td>\n",
       "      <td>20230414</td>\n",
       "      <td>riddha</td>\n",
       "      <td>True</td>\n",
       "      <td>0.236740</td>\n",
       "      <td>0.205605</td>\n",
       "    </tr>\n",
       "    <tr>\n",
       "      <th>...</th>\n",
       "      <td>...</td>\n",
       "      <td>...</td>\n",
       "      <td>...</td>\n",
       "      <td>...</td>\n",
       "      <td>...</td>\n",
       "      <td>...</td>\n",
       "      <td>...</td>\n",
       "      <td>...</td>\n",
       "      <td>...</td>\n",
       "      <td>...</td>\n",
       "      <td>...</td>\n",
       "      <td>...</td>\n",
       "      <td>...</td>\n",
       "      <td>...</td>\n",
       "      <td>...</td>\n",
       "      <td>...</td>\n",
       "      <td>...</td>\n",
       "      <td>...</td>\n",
       "      <td>...</td>\n",
       "      <td>...</td>\n",
       "      <td>...</td>\n",
       "    </tr>\n",
       "    <tr>\n",
       "      <th>5049</th>\n",
       "      <td>42</td>\n",
       "      <td>dgrp818</td>\n",
       "      <td>male</td>\n",
       "      <td>operant_place</td>\n",
       "      <td>green</td>\n",
       "      <td>R</td>\n",
       "      <td>shock</td>\n",
       "      <td>2</td>\n",
       "      <td>16:00:00</td>\n",
       "      <td>17:28:50</td>\n",
       "      <td>...</td>\n",
       "      <td>NaN</td>\n",
       "      <td>NaN</td>\n",
       "      <td>dgrp818_shock</td>\n",
       "      <td>dgrp818_shock_male</td>\n",
       "      <td>operant_place/20230710/csv/dgrp818_shock/male</td>\n",
       "      <td>20230710</td>\n",
       "      <td>riddha</td>\n",
       "      <td>True</td>\n",
       "      <td>0.088770</td>\n",
       "      <td>0.061299</td>\n",
       "    </tr>\n",
       "    <tr>\n",
       "      <th>5097</th>\n",
       "      <td>34</td>\n",
       "      <td>dgrp853</td>\n",
       "      <td>female</td>\n",
       "      <td>operant_place</td>\n",
       "      <td>green</td>\n",
       "      <td>L</td>\n",
       "      <td>shock</td>\n",
       "      <td>2</td>\n",
       "      <td>16:00:00</td>\n",
       "      <td>18:33:26</td>\n",
       "      <td>...</td>\n",
       "      <td>NaN</td>\n",
       "      <td>NaN</td>\n",
       "      <td>dgrp853_shock</td>\n",
       "      <td>dgrp853_shock_female</td>\n",
       "      <td>operant_place/20230710/csv/dgrp853_shock/female</td>\n",
       "      <td>20230710</td>\n",
       "      <td>riddha</td>\n",
       "      <td>True</td>\n",
       "      <td>0.221883</td>\n",
       "      <td>0.235297</td>\n",
       "    </tr>\n",
       "    <tr>\n",
       "      <th>5113</th>\n",
       "      <td>42</td>\n",
       "      <td>dgrp853</td>\n",
       "      <td>male</td>\n",
       "      <td>operant_place</td>\n",
       "      <td>green</td>\n",
       "      <td>R</td>\n",
       "      <td>shock</td>\n",
       "      <td>2</td>\n",
       "      <td>16:00:00</td>\n",
       "      <td>18:33:26</td>\n",
       "      <td>...</td>\n",
       "      <td>NaN</td>\n",
       "      <td>NaN</td>\n",
       "      <td>dgrp853_shock</td>\n",
       "      <td>dgrp853_shock_male</td>\n",
       "      <td>operant_place/20230710/csv/dgrp853_shock/male</td>\n",
       "      <td>20230710</td>\n",
       "      <td>riddha</td>\n",
       "      <td>True</td>\n",
       "      <td>0.173586</td>\n",
       "      <td>0.160172</td>\n",
       "    </tr>\n",
       "    <tr>\n",
       "      <th>5161</th>\n",
       "      <td>34</td>\n",
       "      <td>dgrp913</td>\n",
       "      <td>female</td>\n",
       "      <td>operant_place</td>\n",
       "      <td>green</td>\n",
       "      <td>L</td>\n",
       "      <td>shock</td>\n",
       "      <td>2</td>\n",
       "      <td>11:00:00</td>\n",
       "      <td>13:16:11</td>\n",
       "      <td>...</td>\n",
       "      <td>NaN</td>\n",
       "      <td>NaN</td>\n",
       "      <td>dgrp913_shock</td>\n",
       "      <td>dgrp913_shock_female</td>\n",
       "      <td>operant_place/20230710/csv/dgrp913_shock/female</td>\n",
       "      <td>20230710</td>\n",
       "      <td>riddha</td>\n",
       "      <td>True</td>\n",
       "      <td>0.184951</td>\n",
       "      <td>0.162527</td>\n",
       "    </tr>\n",
       "    <tr>\n",
       "      <th>5177</th>\n",
       "      <td>42</td>\n",
       "      <td>dgrp913</td>\n",
       "      <td>male</td>\n",
       "      <td>operant_place</td>\n",
       "      <td>green</td>\n",
       "      <td>R</td>\n",
       "      <td>shock</td>\n",
       "      <td>2</td>\n",
       "      <td>11:00:00</td>\n",
       "      <td>13:16:11</td>\n",
       "      <td>...</td>\n",
       "      <td>NaN</td>\n",
       "      <td>NaN</td>\n",
       "      <td>dgrp913_shock</td>\n",
       "      <td>dgrp913_shock_male</td>\n",
       "      <td>operant_place/20230710/csv/dgrp913_shock/male</td>\n",
       "      <td>20230710</td>\n",
       "      <td>riddha</td>\n",
       "      <td>True</td>\n",
       "      <td>0.147875</td>\n",
       "      <td>0.125452</td>\n",
       "    </tr>\n",
       "  </tbody>\n",
       "</table>\n",
       "<p>84 rows × 48 columns</p>\n",
       "</div>"
      ],
      "text/plain": [
       "      id genotype     sex       exp_type shock_color shock_arm treatment  \\\n",
       "2528   1  dgrp153  female  operant_place       green         L     shock   \n",
       "2544   9  dgrp153    male  operant_place       green         R     shock   \n",
       "2592   1  dgrp313  female  operant_place       green         L     shock   \n",
       "2608   9  dgrp313    male  operant_place       green         R     shock   \n",
       "2656   1  dgrp721  female  operant_place       green         L     shock   \n",
       "...   ..      ...     ...            ...         ...       ...       ...   \n",
       "5049  42  dgrp818    male  operant_place       green         R     shock   \n",
       "5097  34  dgrp853  female  operant_place       green         L     shock   \n",
       "5113  42  dgrp853    male  operant_place       green         R     shock   \n",
       "5161  34  dgrp913  female  operant_place       green         L     shock   \n",
       "5177  42  dgrp913    male  operant_place       green         R     shock   \n",
       "\n",
       "      replicates       ZT0        ZT  ...  post_incorrect_choices  \\\n",
       "2528           1  16:00:00  17:42:50  ...                     NaN   \n",
       "2544           1  16:00:00  17:42:50  ...                     NaN   \n",
       "2592           1  11:00:00  13:00:22  ...                     NaN   \n",
       "2608           1  11:00:00  13:00:22  ...                     NaN   \n",
       "2656           1  11:00:00  14:09:47  ...                     NaN   \n",
       "...          ...       ...       ...  ...                     ...   \n",
       "5049           2  16:00:00  17:28:50  ...                     NaN   \n",
       "5097           2  16:00:00  18:33:26  ...                     NaN   \n",
       "5113           2  16:00:00  18:33:26  ...                     NaN   \n",
       "5161           2  11:00:00  13:16:11  ...                     NaN   \n",
       "5177           2  11:00:00  13:16:11  ...                     NaN   \n",
       "\n",
       "      post_analysis_time          group             group_sex  \\\n",
       "2528                 NaN  dgrp153_shock  dgrp153_shock_female   \n",
       "2544                 NaN  dgrp153_shock    dgrp153_shock_male   \n",
       "2592                 NaN  dgrp313_shock  dgrp313_shock_female   \n",
       "2608                 NaN  dgrp313_shock    dgrp313_shock_male   \n",
       "2656                 NaN  dgrp721_shock  dgrp721_shock_female   \n",
       "...                  ...            ...                   ...   \n",
       "5049                 NaN  dgrp818_shock    dgrp818_shock_male   \n",
       "5097                 NaN  dgrp853_shock  dgrp853_shock_female   \n",
       "5113                 NaN  dgrp853_shock    dgrp853_shock_male   \n",
       "5161                 NaN  dgrp913_shock  dgrp913_shock_female   \n",
       "5177                 NaN  dgrp913_shock    dgrp913_shock_male   \n",
       "\n",
       "                                               folder  experiment_date  \\\n",
       "2528  operant_place/20230414/csv/dgrp153_shock/female         20230414   \n",
       "2544    operant_place/20230414/csv/dgrp153_shock/male         20230414   \n",
       "2592  operant_place/20230414/csv/dgrp313_shock/female         20230414   \n",
       "2608    operant_place/20230414/csv/dgrp313_shock/male         20230414   \n",
       "2656  operant_place/20230414/csv/dgrp721_shock/female         20230414   \n",
       "...                                               ...              ...   \n",
       "5049    operant_place/20230710/csv/dgrp818_shock/male         20230710   \n",
       "5097  operant_place/20230710/csv/dgrp853_shock/female         20230710   \n",
       "5113    operant_place/20230710/csv/dgrp853_shock/male         20230710   \n",
       "5161  operant_place/20230710/csv/dgrp913_shock/female         20230710   \n",
       "5177    operant_place/20230710/csv/dgrp913_shock/male         20230710   \n",
       "\n",
       "      experiment_by  head_scanned   abs_dev  abs_dev_sex  \n",
       "2528         riddha          True  0.168387     0.130132  \n",
       "2544         riddha          True  0.047087     0.008831  \n",
       "2592         riddha          True  0.235604     0.245171  \n",
       "2608         riddha          True  0.103920     0.113488  \n",
       "2656         riddha          True  0.236740     0.205605  \n",
       "...             ...           ...       ...          ...  \n",
       "5049         riddha          True  0.088770     0.061299  \n",
       "5097         riddha          True  0.221883     0.235297  \n",
       "5113         riddha          True  0.173586     0.160172  \n",
       "5161         riddha          True  0.184951     0.162527  \n",
       "5177         riddha          True  0.147875     0.125452  \n",
       "\n",
       "[84 rows x 48 columns]"
      ]
     },
     "execution_count": 24,
     "metadata": {},
     "output_type": "execute_result"
    }
   ],
   "source": [
    "data"
   ]
  },
  {
   "cell_type": "code",
   "execution_count": 25,
   "id": "9146db55",
   "metadata": {},
   "outputs": [
    {
     "data": {
      "text/html": [
       "<div>\n",
       "<style scoped>\n",
       "    .dataframe tbody tr th:only-of-type {\n",
       "        vertical-align: middle;\n",
       "    }\n",
       "\n",
       "    .dataframe tbody tr th {\n",
       "        vertical-align: top;\n",
       "    }\n",
       "\n",
       "    .dataframe thead th {\n",
       "        text-align: right;\n",
       "    }\n",
       "</style>\n",
       "<table border=\"1\" class=\"dataframe\">\n",
       "  <thead>\n",
       "    <tr style=\"text-align: right;\">\n",
       "      <th></th>\n",
       "      <th>DGRP</th>\n",
       "      <th>sex</th>\n",
       "      <th>abs_volume</th>\n",
       "      <th>h_ratio</th>\n",
       "    </tr>\n",
       "  </thead>\n",
       "  <tbody>\n",
       "    <tr>\n",
       "      <th>0</th>\n",
       "      <td>228</td>\n",
       "      <td>female</td>\n",
       "      <td>0.010634</td>\n",
       "      <td>0.009527</td>\n",
       "    </tr>\n",
       "    <tr>\n",
       "      <th>1</th>\n",
       "      <td>332</td>\n",
       "      <td>female</td>\n",
       "      <td>0.015221</td>\n",
       "      <td>0.012052</td>\n",
       "    </tr>\n",
       "    <tr>\n",
       "      <th>2</th>\n",
       "      <td>228</td>\n",
       "      <td>male</td>\n",
       "      <td>0.010962</td>\n",
       "      <td>0.012418</td>\n",
       "    </tr>\n",
       "    <tr>\n",
       "      <th>3</th>\n",
       "      <td>390</td>\n",
       "      <td>female</td>\n",
       "      <td>0.015531</td>\n",
       "      <td>0.012578</td>\n",
       "    </tr>\n",
       "    <tr>\n",
       "      <th>4</th>\n",
       "      <td>332</td>\n",
       "      <td>male</td>\n",
       "      <td>0.012916</td>\n",
       "      <td>0.013225</td>\n",
       "    </tr>\n",
       "    <tr>\n",
       "      <th>...</th>\n",
       "      <td>...</td>\n",
       "      <td>...</td>\n",
       "      <td>...</td>\n",
       "      <td>...</td>\n",
       "    </tr>\n",
       "    <tr>\n",
       "      <th>120</th>\n",
       "      <td>93</td>\n",
       "      <td>female</td>\n",
       "      <td>0.020374</td>\n",
       "      <td>0.031324</td>\n",
       "    </tr>\n",
       "    <tr>\n",
       "      <th>121</th>\n",
       "      <td>790</td>\n",
       "      <td>male</td>\n",
       "      <td>0.031894</td>\n",
       "      <td>0.031896</td>\n",
       "    </tr>\n",
       "    <tr>\n",
       "      <th>122</th>\n",
       "      <td>26</td>\n",
       "      <td>female</td>\n",
       "      <td>0.019917</td>\n",
       "      <td>0.032023</td>\n",
       "    </tr>\n",
       "    <tr>\n",
       "      <th>123</th>\n",
       "      <td>195</td>\n",
       "      <td>female</td>\n",
       "      <td>0.019900</td>\n",
       "      <td>0.032727</td>\n",
       "    </tr>\n",
       "    <tr>\n",
       "      <th>124</th>\n",
       "      <td>31</td>\n",
       "      <td>female</td>\n",
       "      <td>0.020520</td>\n",
       "      <td>0.034060</td>\n",
       "    </tr>\n",
       "  </tbody>\n",
       "</table>\n",
       "<p>125 rows × 4 columns</p>\n",
       "</div>"
      ],
      "text/plain": [
       "    DGRP     sex  abs_volume   h_ratio\n",
       "0    228  female    0.010634  0.009527\n",
       "1    332  female    0.015221  0.012052\n",
       "2    228    male    0.010962  0.012418\n",
       "3    390  female    0.015531  0.012578\n",
       "4    332    male    0.012916  0.013225\n",
       "..   ...     ...         ...       ...\n",
       "120   93  female    0.020374  0.031324\n",
       "121  790    male    0.031894  0.031896\n",
       "122   26  female    0.019917  0.032023\n",
       "123  195  female    0.019900  0.032727\n",
       "124   31  female    0.020520  0.034060\n",
       "\n",
       "[125 rows x 4 columns]"
      ]
     },
     "execution_count": 25,
     "metadata": {},
     "output_type": "execute_result"
    }
   ],
   "source": [
    "brain"
   ]
  },
  {
   "cell_type": "code",
   "execution_count": 26,
   "id": "5b26a1ee-3601-4e94-9e10-a602ef3da0ac",
   "metadata": {
    "tags": []
   },
   "outputs": [
    {
     "name": "stderr",
     "output_type": "stream",
     "text": [
      "/var/folders/jc/23tmvmc554b_hqpgl1mn9wch0000gq/T/ipykernel_73284/488061867.py:3: SettingWithCopyWarning: \n",
      "A value is trying to be set on a copy of a slice from a DataFrame.\n",
      "Try using .loc[row_indexer,col_indexer] = value instead\n",
      "\n",
      "See the caveats in the documentation: https://pandas.pydata.org/pandas-docs/stable/user_guide/indexing.html#returning-a-view-versus-a-copy\n",
      "  data['genotype'] = data['genotype'].apply(lambda x: 'DGRP_0' + x.split('dgrp')[1] if len(x.split('dgrp')[1]) == 2 else 'DGRP_' + x.split('dgrp')[1])\n"
     ]
    }
   ],
   "source": [
    "#data['genotype'] = \"DGRP_\"+data['genotype'].str.split('dgrp').str.get(1)\n",
    "\n",
    "data['genotype'] = data['genotype'].apply(lambda x: 'DGRP_0' + x.split('dgrp')[1] if len(x.split('dgrp')[1]) == 2 else 'DGRP_' + x.split('dgrp')[1])\n",
    "\n"
   ]
  },
  {
   "cell_type": "code",
   "execution_count": 27,
   "id": "a93d9a17",
   "metadata": {},
   "outputs": [],
   "source": [
    "brain['DGRP'] = brain['DGRP'].apply(lambda x: 'DGRP_0' + x if len(x) == 2 else 'DGRP_'+ x)"
   ]
  },
  {
   "cell_type": "code",
   "execution_count": 28,
   "id": "033ca18a-987a-48b3-bafc-eaa35a7fc569",
   "metadata": {
    "tags": []
   },
   "outputs": [
    {
     "data": {
      "text/html": [
       "<div>\n",
       "<style scoped>\n",
       "    .dataframe tbody tr th:only-of-type {\n",
       "        vertical-align: middle;\n",
       "    }\n",
       "\n",
       "    .dataframe tbody tr th {\n",
       "        vertical-align: top;\n",
       "    }\n",
       "\n",
       "    .dataframe thead th {\n",
       "        text-align: right;\n",
       "    }\n",
       "</style>\n",
       "<table border=\"1\" class=\"dataframe\">\n",
       "  <thead>\n",
       "    <tr style=\"text-align: right;\">\n",
       "      <th></th>\n",
       "      <th>id</th>\n",
       "      <th>genotype</th>\n",
       "      <th>sex</th>\n",
       "      <th>exp_type</th>\n",
       "      <th>shock_color</th>\n",
       "      <th>shock_arm</th>\n",
       "      <th>treatment</th>\n",
       "      <th>replicates</th>\n",
       "      <th>ZT0</th>\n",
       "      <th>ZT</th>\n",
       "      <th>...</th>\n",
       "      <th>post_incorrect_choices</th>\n",
       "      <th>post_analysis_time</th>\n",
       "      <th>group</th>\n",
       "      <th>group_sex</th>\n",
       "      <th>folder</th>\n",
       "      <th>experiment_date</th>\n",
       "      <th>experiment_by</th>\n",
       "      <th>head_scanned</th>\n",
       "      <th>abs_dev</th>\n",
       "      <th>abs_dev_sex</th>\n",
       "    </tr>\n",
       "  </thead>\n",
       "  <tbody>\n",
       "    <tr>\n",
       "      <th>2528</th>\n",
       "      <td>1</td>\n",
       "      <td>DGRP_153</td>\n",
       "      <td>female</td>\n",
       "      <td>operant_place</td>\n",
       "      <td>green</td>\n",
       "      <td>L</td>\n",
       "      <td>shock</td>\n",
       "      <td>1</td>\n",
       "      <td>16:00:00</td>\n",
       "      <td>17:42:50</td>\n",
       "      <td>...</td>\n",
       "      <td>NaN</td>\n",
       "      <td>NaN</td>\n",
       "      <td>dgrp153_shock</td>\n",
       "      <td>dgrp153_shock_female</td>\n",
       "      <td>operant_place/20230414/csv/dgrp153_shock/female</td>\n",
       "      <td>20230414</td>\n",
       "      <td>riddha</td>\n",
       "      <td>True</td>\n",
       "      <td>0.168387</td>\n",
       "      <td>0.130132</td>\n",
       "    </tr>\n",
       "    <tr>\n",
       "      <th>2544</th>\n",
       "      <td>9</td>\n",
       "      <td>DGRP_153</td>\n",
       "      <td>male</td>\n",
       "      <td>operant_place</td>\n",
       "      <td>green</td>\n",
       "      <td>R</td>\n",
       "      <td>shock</td>\n",
       "      <td>1</td>\n",
       "      <td>16:00:00</td>\n",
       "      <td>17:42:50</td>\n",
       "      <td>...</td>\n",
       "      <td>NaN</td>\n",
       "      <td>NaN</td>\n",
       "      <td>dgrp153_shock</td>\n",
       "      <td>dgrp153_shock_male</td>\n",
       "      <td>operant_place/20230414/csv/dgrp153_shock/male</td>\n",
       "      <td>20230414</td>\n",
       "      <td>riddha</td>\n",
       "      <td>True</td>\n",
       "      <td>0.047087</td>\n",
       "      <td>0.008831</td>\n",
       "    </tr>\n",
       "    <tr>\n",
       "      <th>2592</th>\n",
       "      <td>1</td>\n",
       "      <td>DGRP_313</td>\n",
       "      <td>female</td>\n",
       "      <td>operant_place</td>\n",
       "      <td>green</td>\n",
       "      <td>L</td>\n",
       "      <td>shock</td>\n",
       "      <td>1</td>\n",
       "      <td>11:00:00</td>\n",
       "      <td>13:00:22</td>\n",
       "      <td>...</td>\n",
       "      <td>NaN</td>\n",
       "      <td>NaN</td>\n",
       "      <td>dgrp313_shock</td>\n",
       "      <td>dgrp313_shock_female</td>\n",
       "      <td>operant_place/20230414/csv/dgrp313_shock/female</td>\n",
       "      <td>20230414</td>\n",
       "      <td>riddha</td>\n",
       "      <td>True</td>\n",
       "      <td>0.235604</td>\n",
       "      <td>0.245171</td>\n",
       "    </tr>\n",
       "    <tr>\n",
       "      <th>2608</th>\n",
       "      <td>9</td>\n",
       "      <td>DGRP_313</td>\n",
       "      <td>male</td>\n",
       "      <td>operant_place</td>\n",
       "      <td>green</td>\n",
       "      <td>R</td>\n",
       "      <td>shock</td>\n",
       "      <td>1</td>\n",
       "      <td>11:00:00</td>\n",
       "      <td>13:00:22</td>\n",
       "      <td>...</td>\n",
       "      <td>NaN</td>\n",
       "      <td>NaN</td>\n",
       "      <td>dgrp313_shock</td>\n",
       "      <td>dgrp313_shock_male</td>\n",
       "      <td>operant_place/20230414/csv/dgrp313_shock/male</td>\n",
       "      <td>20230414</td>\n",
       "      <td>riddha</td>\n",
       "      <td>True</td>\n",
       "      <td>0.103920</td>\n",
       "      <td>0.113488</td>\n",
       "    </tr>\n",
       "    <tr>\n",
       "      <th>2656</th>\n",
       "      <td>1</td>\n",
       "      <td>DGRP_721</td>\n",
       "      <td>female</td>\n",
       "      <td>operant_place</td>\n",
       "      <td>green</td>\n",
       "      <td>L</td>\n",
       "      <td>shock</td>\n",
       "      <td>1</td>\n",
       "      <td>11:00:00</td>\n",
       "      <td>14:09:47</td>\n",
       "      <td>...</td>\n",
       "      <td>NaN</td>\n",
       "      <td>NaN</td>\n",
       "      <td>dgrp721_shock</td>\n",
       "      <td>dgrp721_shock_female</td>\n",
       "      <td>operant_place/20230414/csv/dgrp721_shock/female</td>\n",
       "      <td>20230414</td>\n",
       "      <td>riddha</td>\n",
       "      <td>True</td>\n",
       "      <td>0.236740</td>\n",
       "      <td>0.205605</td>\n",
       "    </tr>\n",
       "    <tr>\n",
       "      <th>...</th>\n",
       "      <td>...</td>\n",
       "      <td>...</td>\n",
       "      <td>...</td>\n",
       "      <td>...</td>\n",
       "      <td>...</td>\n",
       "      <td>...</td>\n",
       "      <td>...</td>\n",
       "      <td>...</td>\n",
       "      <td>...</td>\n",
       "      <td>...</td>\n",
       "      <td>...</td>\n",
       "      <td>...</td>\n",
       "      <td>...</td>\n",
       "      <td>...</td>\n",
       "      <td>...</td>\n",
       "      <td>...</td>\n",
       "      <td>...</td>\n",
       "      <td>...</td>\n",
       "      <td>...</td>\n",
       "      <td>...</td>\n",
       "      <td>...</td>\n",
       "    </tr>\n",
       "    <tr>\n",
       "      <th>5049</th>\n",
       "      <td>42</td>\n",
       "      <td>DGRP_818</td>\n",
       "      <td>male</td>\n",
       "      <td>operant_place</td>\n",
       "      <td>green</td>\n",
       "      <td>R</td>\n",
       "      <td>shock</td>\n",
       "      <td>2</td>\n",
       "      <td>16:00:00</td>\n",
       "      <td>17:28:50</td>\n",
       "      <td>...</td>\n",
       "      <td>NaN</td>\n",
       "      <td>NaN</td>\n",
       "      <td>dgrp818_shock</td>\n",
       "      <td>dgrp818_shock_male</td>\n",
       "      <td>operant_place/20230710/csv/dgrp818_shock/male</td>\n",
       "      <td>20230710</td>\n",
       "      <td>riddha</td>\n",
       "      <td>True</td>\n",
       "      <td>0.088770</td>\n",
       "      <td>0.061299</td>\n",
       "    </tr>\n",
       "    <tr>\n",
       "      <th>5097</th>\n",
       "      <td>34</td>\n",
       "      <td>DGRP_853</td>\n",
       "      <td>female</td>\n",
       "      <td>operant_place</td>\n",
       "      <td>green</td>\n",
       "      <td>L</td>\n",
       "      <td>shock</td>\n",
       "      <td>2</td>\n",
       "      <td>16:00:00</td>\n",
       "      <td>18:33:26</td>\n",
       "      <td>...</td>\n",
       "      <td>NaN</td>\n",
       "      <td>NaN</td>\n",
       "      <td>dgrp853_shock</td>\n",
       "      <td>dgrp853_shock_female</td>\n",
       "      <td>operant_place/20230710/csv/dgrp853_shock/female</td>\n",
       "      <td>20230710</td>\n",
       "      <td>riddha</td>\n",
       "      <td>True</td>\n",
       "      <td>0.221883</td>\n",
       "      <td>0.235297</td>\n",
       "    </tr>\n",
       "    <tr>\n",
       "      <th>5113</th>\n",
       "      <td>42</td>\n",
       "      <td>DGRP_853</td>\n",
       "      <td>male</td>\n",
       "      <td>operant_place</td>\n",
       "      <td>green</td>\n",
       "      <td>R</td>\n",
       "      <td>shock</td>\n",
       "      <td>2</td>\n",
       "      <td>16:00:00</td>\n",
       "      <td>18:33:26</td>\n",
       "      <td>...</td>\n",
       "      <td>NaN</td>\n",
       "      <td>NaN</td>\n",
       "      <td>dgrp853_shock</td>\n",
       "      <td>dgrp853_shock_male</td>\n",
       "      <td>operant_place/20230710/csv/dgrp853_shock/male</td>\n",
       "      <td>20230710</td>\n",
       "      <td>riddha</td>\n",
       "      <td>True</td>\n",
       "      <td>0.173586</td>\n",
       "      <td>0.160172</td>\n",
       "    </tr>\n",
       "    <tr>\n",
       "      <th>5161</th>\n",
       "      <td>34</td>\n",
       "      <td>DGRP_913</td>\n",
       "      <td>female</td>\n",
       "      <td>operant_place</td>\n",
       "      <td>green</td>\n",
       "      <td>L</td>\n",
       "      <td>shock</td>\n",
       "      <td>2</td>\n",
       "      <td>11:00:00</td>\n",
       "      <td>13:16:11</td>\n",
       "      <td>...</td>\n",
       "      <td>NaN</td>\n",
       "      <td>NaN</td>\n",
       "      <td>dgrp913_shock</td>\n",
       "      <td>dgrp913_shock_female</td>\n",
       "      <td>operant_place/20230710/csv/dgrp913_shock/female</td>\n",
       "      <td>20230710</td>\n",
       "      <td>riddha</td>\n",
       "      <td>True</td>\n",
       "      <td>0.184951</td>\n",
       "      <td>0.162527</td>\n",
       "    </tr>\n",
       "    <tr>\n",
       "      <th>5177</th>\n",
       "      <td>42</td>\n",
       "      <td>DGRP_913</td>\n",
       "      <td>male</td>\n",
       "      <td>operant_place</td>\n",
       "      <td>green</td>\n",
       "      <td>R</td>\n",
       "      <td>shock</td>\n",
       "      <td>2</td>\n",
       "      <td>11:00:00</td>\n",
       "      <td>13:16:11</td>\n",
       "      <td>...</td>\n",
       "      <td>NaN</td>\n",
       "      <td>NaN</td>\n",
       "      <td>dgrp913_shock</td>\n",
       "      <td>dgrp913_shock_male</td>\n",
       "      <td>operant_place/20230710/csv/dgrp913_shock/male</td>\n",
       "      <td>20230710</td>\n",
       "      <td>riddha</td>\n",
       "      <td>True</td>\n",
       "      <td>0.147875</td>\n",
       "      <td>0.125452</td>\n",
       "    </tr>\n",
       "  </tbody>\n",
       "</table>\n",
       "<p>84 rows × 48 columns</p>\n",
       "</div>"
      ],
      "text/plain": [
       "      id  genotype     sex       exp_type shock_color shock_arm treatment  \\\n",
       "2528   1  DGRP_153  female  operant_place       green         L     shock   \n",
       "2544   9  DGRP_153    male  operant_place       green         R     shock   \n",
       "2592   1  DGRP_313  female  operant_place       green         L     shock   \n",
       "2608   9  DGRP_313    male  operant_place       green         R     shock   \n",
       "2656   1  DGRP_721  female  operant_place       green         L     shock   \n",
       "...   ..       ...     ...            ...         ...       ...       ...   \n",
       "5049  42  DGRP_818    male  operant_place       green         R     shock   \n",
       "5097  34  DGRP_853  female  operant_place       green         L     shock   \n",
       "5113  42  DGRP_853    male  operant_place       green         R     shock   \n",
       "5161  34  DGRP_913  female  operant_place       green         L     shock   \n",
       "5177  42  DGRP_913    male  operant_place       green         R     shock   \n",
       "\n",
       "      replicates       ZT0        ZT  ...  post_incorrect_choices  \\\n",
       "2528           1  16:00:00  17:42:50  ...                     NaN   \n",
       "2544           1  16:00:00  17:42:50  ...                     NaN   \n",
       "2592           1  11:00:00  13:00:22  ...                     NaN   \n",
       "2608           1  11:00:00  13:00:22  ...                     NaN   \n",
       "2656           1  11:00:00  14:09:47  ...                     NaN   \n",
       "...          ...       ...       ...  ...                     ...   \n",
       "5049           2  16:00:00  17:28:50  ...                     NaN   \n",
       "5097           2  16:00:00  18:33:26  ...                     NaN   \n",
       "5113           2  16:00:00  18:33:26  ...                     NaN   \n",
       "5161           2  11:00:00  13:16:11  ...                     NaN   \n",
       "5177           2  11:00:00  13:16:11  ...                     NaN   \n",
       "\n",
       "      post_analysis_time          group             group_sex  \\\n",
       "2528                 NaN  dgrp153_shock  dgrp153_shock_female   \n",
       "2544                 NaN  dgrp153_shock    dgrp153_shock_male   \n",
       "2592                 NaN  dgrp313_shock  dgrp313_shock_female   \n",
       "2608                 NaN  dgrp313_shock    dgrp313_shock_male   \n",
       "2656                 NaN  dgrp721_shock  dgrp721_shock_female   \n",
       "...                  ...            ...                   ...   \n",
       "5049                 NaN  dgrp818_shock    dgrp818_shock_male   \n",
       "5097                 NaN  dgrp853_shock  dgrp853_shock_female   \n",
       "5113                 NaN  dgrp853_shock    dgrp853_shock_male   \n",
       "5161                 NaN  dgrp913_shock  dgrp913_shock_female   \n",
       "5177                 NaN  dgrp913_shock    dgrp913_shock_male   \n",
       "\n",
       "                                               folder  experiment_date  \\\n",
       "2528  operant_place/20230414/csv/dgrp153_shock/female         20230414   \n",
       "2544    operant_place/20230414/csv/dgrp153_shock/male         20230414   \n",
       "2592  operant_place/20230414/csv/dgrp313_shock/female         20230414   \n",
       "2608    operant_place/20230414/csv/dgrp313_shock/male         20230414   \n",
       "2656  operant_place/20230414/csv/dgrp721_shock/female         20230414   \n",
       "...                                               ...              ...   \n",
       "5049    operant_place/20230710/csv/dgrp818_shock/male         20230710   \n",
       "5097  operant_place/20230710/csv/dgrp853_shock/female         20230710   \n",
       "5113    operant_place/20230710/csv/dgrp853_shock/male         20230710   \n",
       "5161  operant_place/20230710/csv/dgrp913_shock/female         20230710   \n",
       "5177    operant_place/20230710/csv/dgrp913_shock/male         20230710   \n",
       "\n",
       "      experiment_by  head_scanned   abs_dev  abs_dev_sex  \n",
       "2528         riddha          True  0.168387     0.130132  \n",
       "2544         riddha          True  0.047087     0.008831  \n",
       "2592         riddha          True  0.235604     0.245171  \n",
       "2608         riddha          True  0.103920     0.113488  \n",
       "2656         riddha          True  0.236740     0.205605  \n",
       "...             ...           ...       ...          ...  \n",
       "5049         riddha          True  0.088770     0.061299  \n",
       "5097         riddha          True  0.221883     0.235297  \n",
       "5113         riddha          True  0.173586     0.160172  \n",
       "5161         riddha          True  0.184951     0.162527  \n",
       "5177         riddha          True  0.147875     0.125452  \n",
       "\n",
       "[84 rows x 48 columns]"
      ]
     },
     "execution_count": 28,
     "metadata": {},
     "output_type": "execute_result"
    }
   ],
   "source": [
    "data"
   ]
  },
  {
   "cell_type": "code",
   "execution_count": 29,
   "id": "9b24146a",
   "metadata": {},
   "outputs": [
    {
     "data": {
      "text/html": [
       "<div>\n",
       "<style scoped>\n",
       "    .dataframe tbody tr th:only-of-type {\n",
       "        vertical-align: middle;\n",
       "    }\n",
       "\n",
       "    .dataframe tbody tr th {\n",
       "        vertical-align: top;\n",
       "    }\n",
       "\n",
       "    .dataframe thead th {\n",
       "        text-align: right;\n",
       "    }\n",
       "</style>\n",
       "<table border=\"1\" class=\"dataframe\">\n",
       "  <thead>\n",
       "    <tr style=\"text-align: right;\">\n",
       "      <th></th>\n",
       "      <th>DGRP</th>\n",
       "      <th>sex</th>\n",
       "      <th>abs_volume</th>\n",
       "      <th>h_ratio</th>\n",
       "    </tr>\n",
       "  </thead>\n",
       "  <tbody>\n",
       "    <tr>\n",
       "      <th>0</th>\n",
       "      <td>DGRP_228</td>\n",
       "      <td>female</td>\n",
       "      <td>0.010634</td>\n",
       "      <td>0.009527</td>\n",
       "    </tr>\n",
       "    <tr>\n",
       "      <th>1</th>\n",
       "      <td>DGRP_332</td>\n",
       "      <td>female</td>\n",
       "      <td>0.015221</td>\n",
       "      <td>0.012052</td>\n",
       "    </tr>\n",
       "    <tr>\n",
       "      <th>2</th>\n",
       "      <td>DGRP_228</td>\n",
       "      <td>male</td>\n",
       "      <td>0.010962</td>\n",
       "      <td>0.012418</td>\n",
       "    </tr>\n",
       "    <tr>\n",
       "      <th>3</th>\n",
       "      <td>DGRP_390</td>\n",
       "      <td>female</td>\n",
       "      <td>0.015531</td>\n",
       "      <td>0.012578</td>\n",
       "    </tr>\n",
       "    <tr>\n",
       "      <th>4</th>\n",
       "      <td>DGRP_332</td>\n",
       "      <td>male</td>\n",
       "      <td>0.012916</td>\n",
       "      <td>0.013225</td>\n",
       "    </tr>\n",
       "    <tr>\n",
       "      <th>...</th>\n",
       "      <td>...</td>\n",
       "      <td>...</td>\n",
       "      <td>...</td>\n",
       "      <td>...</td>\n",
       "    </tr>\n",
       "    <tr>\n",
       "      <th>120</th>\n",
       "      <td>DGRP_093</td>\n",
       "      <td>female</td>\n",
       "      <td>0.020374</td>\n",
       "      <td>0.031324</td>\n",
       "    </tr>\n",
       "    <tr>\n",
       "      <th>121</th>\n",
       "      <td>DGRP_790</td>\n",
       "      <td>male</td>\n",
       "      <td>0.031894</td>\n",
       "      <td>0.031896</td>\n",
       "    </tr>\n",
       "    <tr>\n",
       "      <th>122</th>\n",
       "      <td>DGRP_026</td>\n",
       "      <td>female</td>\n",
       "      <td>0.019917</td>\n",
       "      <td>0.032023</td>\n",
       "    </tr>\n",
       "    <tr>\n",
       "      <th>123</th>\n",
       "      <td>DGRP_195</td>\n",
       "      <td>female</td>\n",
       "      <td>0.019900</td>\n",
       "      <td>0.032727</td>\n",
       "    </tr>\n",
       "    <tr>\n",
       "      <th>124</th>\n",
       "      <td>DGRP_031</td>\n",
       "      <td>female</td>\n",
       "      <td>0.020520</td>\n",
       "      <td>0.034060</td>\n",
       "    </tr>\n",
       "  </tbody>\n",
       "</table>\n",
       "<p>125 rows × 4 columns</p>\n",
       "</div>"
      ],
      "text/plain": [
       "         DGRP     sex  abs_volume   h_ratio\n",
       "0    DGRP_228  female    0.010634  0.009527\n",
       "1    DGRP_332  female    0.015221  0.012052\n",
       "2    DGRP_228    male    0.010962  0.012418\n",
       "3    DGRP_390  female    0.015531  0.012578\n",
       "4    DGRP_332    male    0.012916  0.013225\n",
       "..        ...     ...         ...       ...\n",
       "120  DGRP_093  female    0.020374  0.031324\n",
       "121  DGRP_790    male    0.031894  0.031896\n",
       "122  DGRP_026  female    0.019917  0.032023\n",
       "123  DGRP_195  female    0.019900  0.032727\n",
       "124  DGRP_031  female    0.020520  0.034060\n",
       "\n",
       "[125 rows x 4 columns]"
      ]
     },
     "execution_count": 29,
     "metadata": {},
     "output_type": "execute_result"
    }
   ],
   "source": [
    "brain"
   ]
  },
  {
   "cell_type": "code",
   "execution_count": 30,
   "id": "48a232bc-4741-4689-9cae-c5bfc042db4a",
   "metadata": {
    "tags": []
   },
   "outputs": [
    {
     "name": "stderr",
     "output_type": "stream",
     "text": [
      "/var/folders/jc/23tmvmc554b_hqpgl1mn9wch0000gq/T/ipykernel_73284/3106402434.py:1: SettingWithCopyWarning: \n",
      "A value is trying to be set on a copy of a slice from a DataFrame\n",
      "\n",
      "See the caveats in the documentation: https://pandas.pydata.org/pandas-docs/stable/user_guide/indexing.html#returning-a-view-versus-a-copy\n",
      "  data.rename(columns={'genotype': 'DGRP'}, inplace=True)\n"
     ]
    }
   ],
   "source": [
    "data.rename(columns={'genotype': 'DGRP'}, inplace=True)"
   ]
  },
  {
   "cell_type": "code",
   "execution_count": 31,
   "id": "5d534b56-e335-4c54-af8e-12372438fe73",
   "metadata": {
    "tags": []
   },
   "outputs": [],
   "source": [
    "merged_df = pd.merge(brain, data, on=['DGRP', 'sex'])"
   ]
  },
  {
   "cell_type": "code",
   "execution_count": 32,
   "id": "a0f78747",
   "metadata": {},
   "outputs": [
    {
     "data": {
      "text/html": [
       "<div>\n",
       "<style scoped>\n",
       "    .dataframe tbody tr th:only-of-type {\n",
       "        vertical-align: middle;\n",
       "    }\n",
       "\n",
       "    .dataframe tbody tr th {\n",
       "        vertical-align: top;\n",
       "    }\n",
       "\n",
       "    .dataframe thead th {\n",
       "        text-align: right;\n",
       "    }\n",
       "</style>\n",
       "<table border=\"1\" class=\"dataframe\">\n",
       "  <thead>\n",
       "    <tr style=\"text-align: right;\">\n",
       "      <th></th>\n",
       "      <th>DGRP</th>\n",
       "      <th>sex</th>\n",
       "      <th>abs_volume</th>\n",
       "      <th>h_ratio</th>\n",
       "      <th>id</th>\n",
       "      <th>exp_type</th>\n",
       "      <th>shock_color</th>\n",
       "      <th>shock_arm</th>\n",
       "      <th>treatment</th>\n",
       "      <th>replicates</th>\n",
       "      <th>...</th>\n",
       "      <th>post_incorrect_choices</th>\n",
       "      <th>post_analysis_time</th>\n",
       "      <th>group</th>\n",
       "      <th>group_sex</th>\n",
       "      <th>folder</th>\n",
       "      <th>experiment_date</th>\n",
       "      <th>experiment_by</th>\n",
       "      <th>head_scanned</th>\n",
       "      <th>abs_dev</th>\n",
       "      <th>abs_dev_sex</th>\n",
       "    </tr>\n",
       "  </thead>\n",
       "  <tbody>\n",
       "    <tr>\n",
       "      <th>0</th>\n",
       "      <td>DGRP_737</td>\n",
       "      <td>female</td>\n",
       "      <td>0.015415</td>\n",
       "      <td>0.014041</td>\n",
       "      <td>2</td>\n",
       "      <td>operant_place</td>\n",
       "      <td>blue</td>\n",
       "      <td>M</td>\n",
       "      <td>shock</td>\n",
       "      <td>1</td>\n",
       "      <td>...</td>\n",
       "      <td>NaN</td>\n",
       "      <td>NaN</td>\n",
       "      <td>dgrp737_shock</td>\n",
       "      <td>dgrp737_shock_female</td>\n",
       "      <td>operant_place/20230707/csv/dgrp737_shock/female</td>\n",
       "      <td>20230707</td>\n",
       "      <td>riddha</td>\n",
       "      <td>True</td>\n",
       "      <td>0.207584</td>\n",
       "      <td>0.196769</td>\n",
       "    </tr>\n",
       "    <tr>\n",
       "      <th>1</th>\n",
       "      <td>DGRP_732</td>\n",
       "      <td>female</td>\n",
       "      <td>0.015346</td>\n",
       "      <td>0.014382</td>\n",
       "      <td>40</td>\n",
       "      <td>operant_place</td>\n",
       "      <td>blue</td>\n",
       "      <td>L</td>\n",
       "      <td>shock</td>\n",
       "      <td>2</td>\n",
       "      <td>...</td>\n",
       "      <td>NaN</td>\n",
       "      <td>NaN</td>\n",
       "      <td>dgrp732_shock</td>\n",
       "      <td>dgrp732_shock_female</td>\n",
       "      <td>operant_place/20230621/csv/dgrp732_shock/female</td>\n",
       "      <td>20230621</td>\n",
       "      <td>riddha</td>\n",
       "      <td>True</td>\n",
       "      <td>0.164331</td>\n",
       "      <td>0.167038</td>\n",
       "    </tr>\n",
       "    <tr>\n",
       "      <th>2</th>\n",
       "      <td>DGRP_354</td>\n",
       "      <td>female</td>\n",
       "      <td>0.018734</td>\n",
       "      <td>0.016683</td>\n",
       "      <td>40</td>\n",
       "      <td>operant_place</td>\n",
       "      <td>green</td>\n",
       "      <td>L</td>\n",
       "      <td>shock</td>\n",
       "      <td>1</td>\n",
       "      <td>...</td>\n",
       "      <td>NaN</td>\n",
       "      <td>NaN</td>\n",
       "      <td>dgrp354_shock</td>\n",
       "      <td>dgrp354_shock_female</td>\n",
       "      <td>operant_place/20230621/csv/dgrp354_shock/female</td>\n",
       "      <td>20230621</td>\n",
       "      <td>riddha</td>\n",
       "      <td>True</td>\n",
       "      <td>0.017099</td>\n",
       "      <td>0.002430</td>\n",
       "    </tr>\n",
       "    <tr>\n",
       "      <th>3</th>\n",
       "      <td>DGRP_786</td>\n",
       "      <td>female</td>\n",
       "      <td>0.018789</td>\n",
       "      <td>0.017888</td>\n",
       "      <td>2</td>\n",
       "      <td>operant_place</td>\n",
       "      <td>blue</td>\n",
       "      <td>M</td>\n",
       "      <td>shock</td>\n",
       "      <td>1</td>\n",
       "      <td>...</td>\n",
       "      <td>NaN</td>\n",
       "      <td>NaN</td>\n",
       "      <td>dgrp786_shock</td>\n",
       "      <td>dgrp786_shock_female</td>\n",
       "      <td>operant_place/20230705/csv/dgrp786_shock/female</td>\n",
       "      <td>20230705</td>\n",
       "      <td>riddha</td>\n",
       "      <td>True</td>\n",
       "      <td>0.148576</td>\n",
       "      <td>0.154391</td>\n",
       "    </tr>\n",
       "    <tr>\n",
       "      <th>4</th>\n",
       "      <td>DGRP_732</td>\n",
       "      <td>male</td>\n",
       "      <td>0.016771</td>\n",
       "      <td>0.018079</td>\n",
       "      <td>48</td>\n",
       "      <td>operant_place</td>\n",
       "      <td>blue</td>\n",
       "      <td>R</td>\n",
       "      <td>shock</td>\n",
       "      <td>2</td>\n",
       "      <td>...</td>\n",
       "      <td>NaN</td>\n",
       "      <td>NaN</td>\n",
       "      <td>dgrp732_shock</td>\n",
       "      <td>dgrp732_shock_male</td>\n",
       "      <td>operant_place/20230621/csv/dgrp732_shock/male</td>\n",
       "      <td>20230621</td>\n",
       "      <td>riddha</td>\n",
       "      <td>True</td>\n",
       "      <td>0.140436</td>\n",
       "      <td>0.137686</td>\n",
       "    </tr>\n",
       "    <tr>\n",
       "      <th>5</th>\n",
       "      <td>DGRP_309</td>\n",
       "      <td>female</td>\n",
       "      <td>0.017028</td>\n",
       "      <td>0.018391</td>\n",
       "      <td>1</td>\n",
       "      <td>operant_place</td>\n",
       "      <td>blue</td>\n",
       "      <td>L</td>\n",
       "      <td>shock</td>\n",
       "      <td>1</td>\n",
       "      <td>...</td>\n",
       "      <td>NaN</td>\n",
       "      <td>NaN</td>\n",
       "      <td>dgrp309_shock</td>\n",
       "      <td>dgrp309_shock_female</td>\n",
       "      <td>operant_place/20230703/csv/dgrp309_shock/female</td>\n",
       "      <td>20230703</td>\n",
       "      <td>riddha</td>\n",
       "      <td>True</td>\n",
       "      <td>0.053567</td>\n",
       "      <td>0.057445</td>\n",
       "    </tr>\n",
       "    <tr>\n",
       "      <th>6</th>\n",
       "      <td>DGRP_437</td>\n",
       "      <td>female</td>\n",
       "      <td>0.019896</td>\n",
       "      <td>0.019245</td>\n",
       "      <td>2</td>\n",
       "      <td>operant_place</td>\n",
       "      <td>blue</td>\n",
       "      <td>M</td>\n",
       "      <td>shock</td>\n",
       "      <td>1</td>\n",
       "      <td>...</td>\n",
       "      <td>NaN</td>\n",
       "      <td>NaN</td>\n",
       "      <td>dgrp437_shock</td>\n",
       "      <td>dgrp437_shock_female</td>\n",
       "      <td>operant_place/20230705/csv/dgrp437_shock/female</td>\n",
       "      <td>20230705</td>\n",
       "      <td>riddha</td>\n",
       "      <td>True</td>\n",
       "      <td>0.157227</td>\n",
       "      <td>0.158835</td>\n",
       "    </tr>\n",
       "    <tr>\n",
       "      <th>7</th>\n",
       "      <td>DGRP_850</td>\n",
       "      <td>male</td>\n",
       "      <td>0.021624</td>\n",
       "      <td>0.019396</td>\n",
       "      <td>9</td>\n",
       "      <td>operant_place</td>\n",
       "      <td>green</td>\n",
       "      <td>R</td>\n",
       "      <td>shock</td>\n",
       "      <td>1</td>\n",
       "      <td>...</td>\n",
       "      <td>NaN</td>\n",
       "      <td>NaN</td>\n",
       "      <td>dgrp850_shock</td>\n",
       "      <td>dgrp850_shock_male</td>\n",
       "      <td>operant_place/20230703/csv/dgrp850_shock/male</td>\n",
       "      <td>20230703</td>\n",
       "      <td>riddha</td>\n",
       "      <td>True</td>\n",
       "      <td>0.072065</td>\n",
       "      <td>0.069440</td>\n",
       "    </tr>\n",
       "    <tr>\n",
       "      <th>8</th>\n",
       "      <td>DGRP_031</td>\n",
       "      <td>male</td>\n",
       "      <td>0.019653</td>\n",
       "      <td>0.019432</td>\n",
       "      <td>48</td>\n",
       "      <td>operant_place</td>\n",
       "      <td>green</td>\n",
       "      <td>R</td>\n",
       "      <td>shock</td>\n",
       "      <td>2</td>\n",
       "      <td>...</td>\n",
       "      <td>NaN</td>\n",
       "      <td>NaN</td>\n",
       "      <td>dgrp31_shock</td>\n",
       "      <td>dgrp31_shock_male</td>\n",
       "      <td>operant_place/20230621/csv/dgrp31_shock/male</td>\n",
       "      <td>20230621</td>\n",
       "      <td>riddha</td>\n",
       "      <td>True</td>\n",
       "      <td>0.062256</td>\n",
       "      <td>0.066204</td>\n",
       "    </tr>\n",
       "    <tr>\n",
       "      <th>9</th>\n",
       "      <td>DGRP_737</td>\n",
       "      <td>male</td>\n",
       "      <td>0.018805</td>\n",
       "      <td>0.019528</td>\n",
       "      <td>10</td>\n",
       "      <td>operant_place</td>\n",
       "      <td>blue</td>\n",
       "      <td>L</td>\n",
       "      <td>shock</td>\n",
       "      <td>1</td>\n",
       "      <td>...</td>\n",
       "      <td>NaN</td>\n",
       "      <td>NaN</td>\n",
       "      <td>dgrp737_shock</td>\n",
       "      <td>dgrp737_shock_male</td>\n",
       "      <td>operant_place/20230707/csv/dgrp737_shock/male</td>\n",
       "      <td>20230707</td>\n",
       "      <td>riddha</td>\n",
       "      <td>True</td>\n",
       "      <td>0.080066</td>\n",
       "      <td>0.069080</td>\n",
       "    </tr>\n",
       "    <tr>\n",
       "      <th>10</th>\n",
       "      <td>DGRP_309</td>\n",
       "      <td>male</td>\n",
       "      <td>0.017826</td>\n",
       "      <td>0.019712</td>\n",
       "      <td>9</td>\n",
       "      <td>operant_place</td>\n",
       "      <td>blue</td>\n",
       "      <td>R</td>\n",
       "      <td>shock</td>\n",
       "      <td>1</td>\n",
       "      <td>...</td>\n",
       "      <td>NaN</td>\n",
       "      <td>NaN</td>\n",
       "      <td>dgrp309_shock</td>\n",
       "      <td>dgrp309_shock_male</td>\n",
       "      <td>operant_place/20230703/csv/dgrp309_shock/male</td>\n",
       "      <td>20230703</td>\n",
       "      <td>riddha</td>\n",
       "      <td>True</td>\n",
       "      <td>0.110822</td>\n",
       "      <td>0.106943</td>\n",
       "    </tr>\n",
       "    <tr>\n",
       "      <th>11</th>\n",
       "      <td>DGRP_786</td>\n",
       "      <td>male</td>\n",
       "      <td>0.021380</td>\n",
       "      <td>0.021185</td>\n",
       "      <td>10</td>\n",
       "      <td>operant_place</td>\n",
       "      <td>blue</td>\n",
       "      <td>L</td>\n",
       "      <td>shock</td>\n",
       "      <td>1</td>\n",
       "      <td>...</td>\n",
       "      <td>NaN</td>\n",
       "      <td>NaN</td>\n",
       "      <td>dgrp786_shock</td>\n",
       "      <td>dgrp786_shock_male</td>\n",
       "      <td>operant_place/20230705/csv/dgrp786_shock/male</td>\n",
       "      <td>20230705</td>\n",
       "      <td>riddha</td>\n",
       "      <td>True</td>\n",
       "      <td>0.228288</td>\n",
       "      <td>0.222473</td>\n",
       "    </tr>\n",
       "    <tr>\n",
       "      <th>12</th>\n",
       "      <td>DGRP_091</td>\n",
       "      <td>male</td>\n",
       "      <td>0.020577</td>\n",
       "      <td>0.021292</td>\n",
       "      <td>48</td>\n",
       "      <td>operant_place</td>\n",
       "      <td>blue</td>\n",
       "      <td>R</td>\n",
       "      <td>shock</td>\n",
       "      <td>2</td>\n",
       "      <td>...</td>\n",
       "      <td>NaN</td>\n",
       "      <td>NaN</td>\n",
       "      <td>dgrp91_shock</td>\n",
       "      <td>dgrp91_shock_male</td>\n",
       "      <td>operant_place/20230621/csv/dgrp91_shock/male</td>\n",
       "      <td>20230621</td>\n",
       "      <td>riddha</td>\n",
       "      <td>True</td>\n",
       "      <td>0.008511</td>\n",
       "      <td>0.010111</td>\n",
       "    </tr>\n",
       "    <tr>\n",
       "      <th>13</th>\n",
       "      <td>DGRP_853</td>\n",
       "      <td>female</td>\n",
       "      <td>0.023340</td>\n",
       "      <td>0.021805</td>\n",
       "      <td>34</td>\n",
       "      <td>operant_place</td>\n",
       "      <td>green</td>\n",
       "      <td>L</td>\n",
       "      <td>shock</td>\n",
       "      <td>2</td>\n",
       "      <td>...</td>\n",
       "      <td>NaN</td>\n",
       "      <td>NaN</td>\n",
       "      <td>dgrp853_shock</td>\n",
       "      <td>dgrp853_shock_female</td>\n",
       "      <td>operant_place/20230710/csv/dgrp853_shock/female</td>\n",
       "      <td>20230710</td>\n",
       "      <td>riddha</td>\n",
       "      <td>True</td>\n",
       "      <td>0.221883</td>\n",
       "      <td>0.235297</td>\n",
       "    </tr>\n",
       "    <tr>\n",
       "      <th>14</th>\n",
       "      <td>DGRP_437</td>\n",
       "      <td>male</td>\n",
       "      <td>0.017706</td>\n",
       "      <td>0.022201</td>\n",
       "      <td>10</td>\n",
       "      <td>operant_place</td>\n",
       "      <td>blue</td>\n",
       "      <td>L</td>\n",
       "      <td>shock</td>\n",
       "      <td>1</td>\n",
       "      <td>...</td>\n",
       "      <td>NaN</td>\n",
       "      <td>NaN</td>\n",
       "      <td>dgrp437_shock</td>\n",
       "      <td>dgrp437_shock_male</td>\n",
       "      <td>operant_place/20230705/csv/dgrp437_shock/male</td>\n",
       "      <td>20230705</td>\n",
       "      <td>riddha</td>\n",
       "      <td>True</td>\n",
       "      <td>0.042431</td>\n",
       "      <td>0.040824</td>\n",
       "    </tr>\n",
       "    <tr>\n",
       "      <th>15</th>\n",
       "      <td>DGRP_354</td>\n",
       "      <td>male</td>\n",
       "      <td>0.019798</td>\n",
       "      <td>0.022556</td>\n",
       "      <td>48</td>\n",
       "      <td>operant_place</td>\n",
       "      <td>green</td>\n",
       "      <td>R</td>\n",
       "      <td>shock</td>\n",
       "      <td>2</td>\n",
       "      <td>...</td>\n",
       "      <td>NaN</td>\n",
       "      <td>NaN</td>\n",
       "      <td>dgrp354_shock</td>\n",
       "      <td>dgrp354_shock_male</td>\n",
       "      <td>operant_place/20230621/csv/dgrp354_shock/male</td>\n",
       "      <td>20230621</td>\n",
       "      <td>riddha</td>\n",
       "      <td>True</td>\n",
       "      <td>0.094630</td>\n",
       "      <td>0.113490</td>\n",
       "    </tr>\n",
       "    <tr>\n",
       "      <th>16</th>\n",
       "      <td>DGRP_853</td>\n",
       "      <td>male</td>\n",
       "      <td>0.019990</td>\n",
       "      <td>0.022627</td>\n",
       "      <td>42</td>\n",
       "      <td>operant_place</td>\n",
       "      <td>green</td>\n",
       "      <td>R</td>\n",
       "      <td>shock</td>\n",
       "      <td>2</td>\n",
       "      <td>...</td>\n",
       "      <td>NaN</td>\n",
       "      <td>NaN</td>\n",
       "      <td>dgrp853_shock</td>\n",
       "      <td>dgrp853_shock_male</td>\n",
       "      <td>operant_place/20230710/csv/dgrp853_shock/male</td>\n",
       "      <td>20230710</td>\n",
       "      <td>riddha</td>\n",
       "      <td>True</td>\n",
       "      <td>0.173586</td>\n",
       "      <td>0.160172</td>\n",
       "    </tr>\n",
       "    <tr>\n",
       "      <th>17</th>\n",
       "      <td>DGRP_405</td>\n",
       "      <td>male</td>\n",
       "      <td>0.019484</td>\n",
       "      <td>0.023194</td>\n",
       "      <td>9</td>\n",
       "      <td>operant_place</td>\n",
       "      <td>blue</td>\n",
       "      <td>R</td>\n",
       "      <td>shock</td>\n",
       "      <td>1</td>\n",
       "      <td>...</td>\n",
       "      <td>NaN</td>\n",
       "      <td>NaN</td>\n",
       "      <td>dgrp405_shock</td>\n",
       "      <td>dgrp405_shock_male</td>\n",
       "      <td>operant_place/20230703/csv/dgrp405_shock/male</td>\n",
       "      <td>20230703</td>\n",
       "      <td>riddha</td>\n",
       "      <td>True</td>\n",
       "      <td>0.164897</td>\n",
       "      <td>0.171137</td>\n",
       "    </tr>\n",
       "    <tr>\n",
       "      <th>18</th>\n",
       "      <td>DGRP_026</td>\n",
       "      <td>female</td>\n",
       "      <td>0.025922</td>\n",
       "      <td>0.023202</td>\n",
       "      <td>2</td>\n",
       "      <td>operant_place</td>\n",
       "      <td>blue</td>\n",
       "      <td>M</td>\n",
       "      <td>shock</td>\n",
       "      <td>1</td>\n",
       "      <td>...</td>\n",
       "      <td>NaN</td>\n",
       "      <td>NaN</td>\n",
       "      <td>dgrp26_shock</td>\n",
       "      <td>dgrp26_shock_female</td>\n",
       "      <td>operant_place/20230707/csv/dgrp26_shock/female</td>\n",
       "      <td>20230707</td>\n",
       "      <td>riddha</td>\n",
       "      <td>True</td>\n",
       "      <td>0.070751</td>\n",
       "      <td>0.077445</td>\n",
       "    </tr>\n",
       "    <tr>\n",
       "      <th>19</th>\n",
       "      <td>DGRP_026</td>\n",
       "      <td>female</td>\n",
       "      <td>0.019917</td>\n",
       "      <td>0.032023</td>\n",
       "      <td>2</td>\n",
       "      <td>operant_place</td>\n",
       "      <td>blue</td>\n",
       "      <td>M</td>\n",
       "      <td>shock</td>\n",
       "      <td>1</td>\n",
       "      <td>...</td>\n",
       "      <td>NaN</td>\n",
       "      <td>NaN</td>\n",
       "      <td>dgrp26_shock</td>\n",
       "      <td>dgrp26_shock_female</td>\n",
       "      <td>operant_place/20230707/csv/dgrp26_shock/female</td>\n",
       "      <td>20230707</td>\n",
       "      <td>riddha</td>\n",
       "      <td>True</td>\n",
       "      <td>0.070751</td>\n",
       "      <td>0.077445</td>\n",
       "    </tr>\n",
       "    <tr>\n",
       "      <th>20</th>\n",
       "      <td>DGRP_026</td>\n",
       "      <td>male</td>\n",
       "      <td>0.023203</td>\n",
       "      <td>0.025067</td>\n",
       "      <td>10</td>\n",
       "      <td>operant_place</td>\n",
       "      <td>blue</td>\n",
       "      <td>L</td>\n",
       "      <td>shock</td>\n",
       "      <td>1</td>\n",
       "      <td>...</td>\n",
       "      <td>NaN</td>\n",
       "      <td>NaN</td>\n",
       "      <td>dgrp26_shock</td>\n",
       "      <td>dgrp26_shock_male</td>\n",
       "      <td>operant_place/20230707/csv/dgrp26_shock/male</td>\n",
       "      <td>20230707</td>\n",
       "      <td>riddha</td>\n",
       "      <td>True</td>\n",
       "      <td>0.202045</td>\n",
       "      <td>0.208740</td>\n",
       "    </tr>\n",
       "    <tr>\n",
       "      <th>21</th>\n",
       "      <td>DGRP_026</td>\n",
       "      <td>male</td>\n",
       "      <td>0.016612</td>\n",
       "      <td>0.029966</td>\n",
       "      <td>10</td>\n",
       "      <td>operant_place</td>\n",
       "      <td>blue</td>\n",
       "      <td>L</td>\n",
       "      <td>shock</td>\n",
       "      <td>1</td>\n",
       "      <td>...</td>\n",
       "      <td>NaN</td>\n",
       "      <td>NaN</td>\n",
       "      <td>dgrp26_shock</td>\n",
       "      <td>dgrp26_shock_male</td>\n",
       "      <td>operant_place/20230707/csv/dgrp26_shock/male</td>\n",
       "      <td>20230707</td>\n",
       "      <td>riddha</td>\n",
       "      <td>True</td>\n",
       "      <td>0.202045</td>\n",
       "      <td>0.208740</td>\n",
       "    </tr>\n",
       "    <tr>\n",
       "      <th>22</th>\n",
       "      <td>DGRP_405</td>\n",
       "      <td>female</td>\n",
       "      <td>0.022453</td>\n",
       "      <td>0.027143</td>\n",
       "      <td>1</td>\n",
       "      <td>operant_place</td>\n",
       "      <td>blue</td>\n",
       "      <td>L</td>\n",
       "      <td>shock</td>\n",
       "      <td>1</td>\n",
       "      <td>...</td>\n",
       "      <td>NaN</td>\n",
       "      <td>NaN</td>\n",
       "      <td>dgrp405_shock</td>\n",
       "      <td>dgrp405_shock_female</td>\n",
       "      <td>operant_place/20230703/csv/dgrp405_shock/female</td>\n",
       "      <td>20230703</td>\n",
       "      <td>riddha</td>\n",
       "      <td>True</td>\n",
       "      <td>0.172414</td>\n",
       "      <td>0.178654</td>\n",
       "    </tr>\n",
       "    <tr>\n",
       "      <th>23</th>\n",
       "      <td>DGRP_091</td>\n",
       "      <td>female</td>\n",
       "      <td>0.029890</td>\n",
       "      <td>0.027459</td>\n",
       "      <td>40</td>\n",
       "      <td>operant_place</td>\n",
       "      <td>blue</td>\n",
       "      <td>L</td>\n",
       "      <td>shock</td>\n",
       "      <td>2</td>\n",
       "      <td>...</td>\n",
       "      <td>NaN</td>\n",
       "      <td>NaN</td>\n",
       "      <td>dgrp91_shock</td>\n",
       "      <td>dgrp91_shock_female</td>\n",
       "      <td>operant_place/20230621/csv/dgrp91_shock/female</td>\n",
       "      <td>20230621</td>\n",
       "      <td>riddha</td>\n",
       "      <td>True</td>\n",
       "      <td>0.124777</td>\n",
       "      <td>0.123178</td>\n",
       "    </tr>\n",
       "    <tr>\n",
       "      <th>24</th>\n",
       "      <td>DGRP_153</td>\n",
       "      <td>female</td>\n",
       "      <td>0.019196</td>\n",
       "      <td>0.029364</td>\n",
       "      <td>1</td>\n",
       "      <td>operant_place</td>\n",
       "      <td>green</td>\n",
       "      <td>L</td>\n",
       "      <td>shock</td>\n",
       "      <td>1</td>\n",
       "      <td>...</td>\n",
       "      <td>NaN</td>\n",
       "      <td>NaN</td>\n",
       "      <td>dgrp153_shock</td>\n",
       "      <td>dgrp153_shock_female</td>\n",
       "      <td>operant_place/20230414/csv/dgrp153_shock/female</td>\n",
       "      <td>20230414</td>\n",
       "      <td>riddha</td>\n",
       "      <td>True</td>\n",
       "      <td>0.168387</td>\n",
       "      <td>0.130132</td>\n",
       "    </tr>\n",
       "    <tr>\n",
       "      <th>25</th>\n",
       "      <td>DGRP_850</td>\n",
       "      <td>female</td>\n",
       "      <td>0.033936</td>\n",
       "      <td>0.029802</td>\n",
       "      <td>1</td>\n",
       "      <td>operant_place</td>\n",
       "      <td>green</td>\n",
       "      <td>L</td>\n",
       "      <td>shock</td>\n",
       "      <td>1</td>\n",
       "      <td>...</td>\n",
       "      <td>NaN</td>\n",
       "      <td>NaN</td>\n",
       "      <td>dgrp850_shock</td>\n",
       "      <td>dgrp850_shock_female</td>\n",
       "      <td>operant_place/20230703/csv/dgrp850_shock/female</td>\n",
       "      <td>20230703</td>\n",
       "      <td>riddha</td>\n",
       "      <td>True</td>\n",
       "      <td>0.115575</td>\n",
       "      <td>0.118200</td>\n",
       "    </tr>\n",
       "    <tr>\n",
       "      <th>26</th>\n",
       "      <td>DGRP_093</td>\n",
       "      <td>female</td>\n",
       "      <td>0.020374</td>\n",
       "      <td>0.031324</td>\n",
       "      <td>5</td>\n",
       "      <td>operant_place</td>\n",
       "      <td>green</td>\n",
       "      <td>M</td>\n",
       "      <td>shock</td>\n",
       "      <td>1</td>\n",
       "      <td>...</td>\n",
       "      <td>NaN</td>\n",
       "      <td>NaN</td>\n",
       "      <td>dgrp93_shock</td>\n",
       "      <td>dgrp93_shock_female</td>\n",
       "      <td>operant_place/20230609/csv/dgrp93_shock/female</td>\n",
       "      <td>20230609</td>\n",
       "      <td>riddha</td>\n",
       "      <td>True</td>\n",
       "      <td>0.154204</td>\n",
       "      <td>0.137037</td>\n",
       "    </tr>\n",
       "    <tr>\n",
       "      <th>27</th>\n",
       "      <td>DGRP_031</td>\n",
       "      <td>female</td>\n",
       "      <td>0.020520</td>\n",
       "      <td>0.034060</td>\n",
       "      <td>40</td>\n",
       "      <td>operant_place</td>\n",
       "      <td>green</td>\n",
       "      <td>L</td>\n",
       "      <td>shock</td>\n",
       "      <td>2</td>\n",
       "      <td>...</td>\n",
       "      <td>NaN</td>\n",
       "      <td>NaN</td>\n",
       "      <td>dgrp31_shock</td>\n",
       "      <td>dgrp31_shock_female</td>\n",
       "      <td>operant_place/20230621/csv/dgrp31_shock/female</td>\n",
       "      <td>20230621</td>\n",
       "      <td>riddha</td>\n",
       "      <td>True</td>\n",
       "      <td>0.068335</td>\n",
       "      <td>0.072473</td>\n",
       "    </tr>\n",
       "  </tbody>\n",
       "</table>\n",
       "<p>28 rows × 50 columns</p>\n",
       "</div>"
      ],
      "text/plain": [
       "        DGRP     sex  abs_volume   h_ratio  id       exp_type shock_color  \\\n",
       "0   DGRP_737  female    0.015415  0.014041   2  operant_place        blue   \n",
       "1   DGRP_732  female    0.015346  0.014382  40  operant_place        blue   \n",
       "2   DGRP_354  female    0.018734  0.016683  40  operant_place       green   \n",
       "3   DGRP_786  female    0.018789  0.017888   2  operant_place        blue   \n",
       "4   DGRP_732    male    0.016771  0.018079  48  operant_place        blue   \n",
       "5   DGRP_309  female    0.017028  0.018391   1  operant_place        blue   \n",
       "6   DGRP_437  female    0.019896  0.019245   2  operant_place        blue   \n",
       "7   DGRP_850    male    0.021624  0.019396   9  operant_place       green   \n",
       "8   DGRP_031    male    0.019653  0.019432  48  operant_place       green   \n",
       "9   DGRP_737    male    0.018805  0.019528  10  operant_place        blue   \n",
       "10  DGRP_309    male    0.017826  0.019712   9  operant_place        blue   \n",
       "11  DGRP_786    male    0.021380  0.021185  10  operant_place        blue   \n",
       "12  DGRP_091    male    0.020577  0.021292  48  operant_place        blue   \n",
       "13  DGRP_853  female    0.023340  0.021805  34  operant_place       green   \n",
       "14  DGRP_437    male    0.017706  0.022201  10  operant_place        blue   \n",
       "15  DGRP_354    male    0.019798  0.022556  48  operant_place       green   \n",
       "16  DGRP_853    male    0.019990  0.022627  42  operant_place       green   \n",
       "17  DGRP_405    male    0.019484  0.023194   9  operant_place        blue   \n",
       "18  DGRP_026  female    0.025922  0.023202   2  operant_place        blue   \n",
       "19  DGRP_026  female    0.019917  0.032023   2  operant_place        blue   \n",
       "20  DGRP_026    male    0.023203  0.025067  10  operant_place        blue   \n",
       "21  DGRP_026    male    0.016612  0.029966  10  operant_place        blue   \n",
       "22  DGRP_405  female    0.022453  0.027143   1  operant_place        blue   \n",
       "23  DGRP_091  female    0.029890  0.027459  40  operant_place        blue   \n",
       "24  DGRP_153  female    0.019196  0.029364   1  operant_place       green   \n",
       "25  DGRP_850  female    0.033936  0.029802   1  operant_place       green   \n",
       "26  DGRP_093  female    0.020374  0.031324   5  operant_place       green   \n",
       "27  DGRP_031  female    0.020520  0.034060  40  operant_place       green   \n",
       "\n",
       "   shock_arm treatment  replicates  ... post_incorrect_choices  \\\n",
       "0          M     shock           1  ...                    NaN   \n",
       "1          L     shock           2  ...                    NaN   \n",
       "2          L     shock           1  ...                    NaN   \n",
       "3          M     shock           1  ...                    NaN   \n",
       "4          R     shock           2  ...                    NaN   \n",
       "5          L     shock           1  ...                    NaN   \n",
       "6          M     shock           1  ...                    NaN   \n",
       "7          R     shock           1  ...                    NaN   \n",
       "8          R     shock           2  ...                    NaN   \n",
       "9          L     shock           1  ...                    NaN   \n",
       "10         R     shock           1  ...                    NaN   \n",
       "11         L     shock           1  ...                    NaN   \n",
       "12         R     shock           2  ...                    NaN   \n",
       "13         L     shock           2  ...                    NaN   \n",
       "14         L     shock           1  ...                    NaN   \n",
       "15         R     shock           2  ...                    NaN   \n",
       "16         R     shock           2  ...                    NaN   \n",
       "17         R     shock           1  ...                    NaN   \n",
       "18         M     shock           1  ...                    NaN   \n",
       "19         M     shock           1  ...                    NaN   \n",
       "20         L     shock           1  ...                    NaN   \n",
       "21         L     shock           1  ...                    NaN   \n",
       "22         L     shock           1  ...                    NaN   \n",
       "23         L     shock           2  ...                    NaN   \n",
       "24         L     shock           1  ...                    NaN   \n",
       "25         L     shock           1  ...                    NaN   \n",
       "26         M     shock           1  ...                    NaN   \n",
       "27         L     shock           2  ...                    NaN   \n",
       "\n",
       "   post_analysis_time          group             group_sex  \\\n",
       "0                 NaN  dgrp737_shock  dgrp737_shock_female   \n",
       "1                 NaN  dgrp732_shock  dgrp732_shock_female   \n",
       "2                 NaN  dgrp354_shock  dgrp354_shock_female   \n",
       "3                 NaN  dgrp786_shock  dgrp786_shock_female   \n",
       "4                 NaN  dgrp732_shock    dgrp732_shock_male   \n",
       "5                 NaN  dgrp309_shock  dgrp309_shock_female   \n",
       "6                 NaN  dgrp437_shock  dgrp437_shock_female   \n",
       "7                 NaN  dgrp850_shock    dgrp850_shock_male   \n",
       "8                 NaN   dgrp31_shock     dgrp31_shock_male   \n",
       "9                 NaN  dgrp737_shock    dgrp737_shock_male   \n",
       "10                NaN  dgrp309_shock    dgrp309_shock_male   \n",
       "11                NaN  dgrp786_shock    dgrp786_shock_male   \n",
       "12                NaN   dgrp91_shock     dgrp91_shock_male   \n",
       "13                NaN  dgrp853_shock  dgrp853_shock_female   \n",
       "14                NaN  dgrp437_shock    dgrp437_shock_male   \n",
       "15                NaN  dgrp354_shock    dgrp354_shock_male   \n",
       "16                NaN  dgrp853_shock    dgrp853_shock_male   \n",
       "17                NaN  dgrp405_shock    dgrp405_shock_male   \n",
       "18                NaN   dgrp26_shock   dgrp26_shock_female   \n",
       "19                NaN   dgrp26_shock   dgrp26_shock_female   \n",
       "20                NaN   dgrp26_shock     dgrp26_shock_male   \n",
       "21                NaN   dgrp26_shock     dgrp26_shock_male   \n",
       "22                NaN  dgrp405_shock  dgrp405_shock_female   \n",
       "23                NaN   dgrp91_shock   dgrp91_shock_female   \n",
       "24                NaN  dgrp153_shock  dgrp153_shock_female   \n",
       "25                NaN  dgrp850_shock  dgrp850_shock_female   \n",
       "26                NaN   dgrp93_shock   dgrp93_shock_female   \n",
       "27                NaN   dgrp31_shock   dgrp31_shock_female   \n",
       "\n",
       "                                             folder  experiment_date  \\\n",
       "0   operant_place/20230707/csv/dgrp737_shock/female         20230707   \n",
       "1   operant_place/20230621/csv/dgrp732_shock/female         20230621   \n",
       "2   operant_place/20230621/csv/dgrp354_shock/female         20230621   \n",
       "3   operant_place/20230705/csv/dgrp786_shock/female         20230705   \n",
       "4     operant_place/20230621/csv/dgrp732_shock/male         20230621   \n",
       "5   operant_place/20230703/csv/dgrp309_shock/female         20230703   \n",
       "6   operant_place/20230705/csv/dgrp437_shock/female         20230705   \n",
       "7     operant_place/20230703/csv/dgrp850_shock/male         20230703   \n",
       "8      operant_place/20230621/csv/dgrp31_shock/male         20230621   \n",
       "9     operant_place/20230707/csv/dgrp737_shock/male         20230707   \n",
       "10    operant_place/20230703/csv/dgrp309_shock/male         20230703   \n",
       "11    operant_place/20230705/csv/dgrp786_shock/male         20230705   \n",
       "12     operant_place/20230621/csv/dgrp91_shock/male         20230621   \n",
       "13  operant_place/20230710/csv/dgrp853_shock/female         20230710   \n",
       "14    operant_place/20230705/csv/dgrp437_shock/male         20230705   \n",
       "15    operant_place/20230621/csv/dgrp354_shock/male         20230621   \n",
       "16    operant_place/20230710/csv/dgrp853_shock/male         20230710   \n",
       "17    operant_place/20230703/csv/dgrp405_shock/male         20230703   \n",
       "18   operant_place/20230707/csv/dgrp26_shock/female         20230707   \n",
       "19   operant_place/20230707/csv/dgrp26_shock/female         20230707   \n",
       "20     operant_place/20230707/csv/dgrp26_shock/male         20230707   \n",
       "21     operant_place/20230707/csv/dgrp26_shock/male         20230707   \n",
       "22  operant_place/20230703/csv/dgrp405_shock/female         20230703   \n",
       "23   operant_place/20230621/csv/dgrp91_shock/female         20230621   \n",
       "24  operant_place/20230414/csv/dgrp153_shock/female         20230414   \n",
       "25  operant_place/20230703/csv/dgrp850_shock/female         20230703   \n",
       "26   operant_place/20230609/csv/dgrp93_shock/female         20230609   \n",
       "27   operant_place/20230621/csv/dgrp31_shock/female         20230621   \n",
       "\n",
       "    experiment_by  head_scanned   abs_dev  abs_dev_sex  \n",
       "0          riddha          True  0.207584     0.196769  \n",
       "1          riddha          True  0.164331     0.167038  \n",
       "2          riddha          True  0.017099     0.002430  \n",
       "3          riddha          True  0.148576     0.154391  \n",
       "4          riddha          True  0.140436     0.137686  \n",
       "5          riddha          True  0.053567     0.057445  \n",
       "6          riddha          True  0.157227     0.158835  \n",
       "7          riddha          True  0.072065     0.069440  \n",
       "8          riddha          True  0.062256     0.066204  \n",
       "9          riddha          True  0.080066     0.069080  \n",
       "10         riddha          True  0.110822     0.106943  \n",
       "11         riddha          True  0.228288     0.222473  \n",
       "12         riddha          True  0.008511     0.010111  \n",
       "13         riddha          True  0.221883     0.235297  \n",
       "14         riddha          True  0.042431     0.040824  \n",
       "15         riddha          True  0.094630     0.113490  \n",
       "16         riddha          True  0.173586     0.160172  \n",
       "17         riddha          True  0.164897     0.171137  \n",
       "18         riddha          True  0.070751     0.077445  \n",
       "19         riddha          True  0.070751     0.077445  \n",
       "20         riddha          True  0.202045     0.208740  \n",
       "21         riddha          True  0.202045     0.208740  \n",
       "22         riddha          True  0.172414     0.178654  \n",
       "23         riddha          True  0.124777     0.123178  \n",
       "24         riddha          True  0.168387     0.130132  \n",
       "25         riddha          True  0.115575     0.118200  \n",
       "26         riddha          True  0.154204     0.137037  \n",
       "27         riddha          True  0.068335     0.072473  \n",
       "\n",
       "[28 rows x 50 columns]"
      ]
     },
     "execution_count": 32,
     "metadata": {},
     "output_type": "execute_result"
    }
   ],
   "source": [
    "merged_df"
   ]
  },
  {
   "cell_type": "code",
   "execution_count": 34,
   "id": "01734299",
   "metadata": {},
   "outputs": [
    {
     "data": {
      "application/vnd.plotly.v1+json": {
       "config": {
        "plotlyServerURL": "https://plot.ly"
       },
       "data": [
        {
         "coloraxis": "coloraxis",
         "hovertemplate": "x: %{x}<br>y: %{y}<br>color: %{z}<extra></extra>",
         "name": "0",
         "type": "heatmap",
         "x": [
          "abs_volume",
          "h_ratio",
          "activity",
          "correct_choices",
          "frac_time_on_shocked"
         ],
         "xaxis": "x",
         "y": [
          "abs_volume",
          "h_ratio",
          "activity",
          "correct_choices",
          "frac_time_on_shocked"
         ],
         "yaxis": "y",
         "z": [
          [
           1,
           0.44814904187047844,
           0.07484327906661176,
           0.003396216789881136,
           0.495306460373375
          ],
          [
           0.44814904187047844,
           1,
           0.20408486215053262,
           0.09664154160568438,
           0.4458736514945359
          ],
          [
           0.07484327906661176,
           0.20408486215053262,
           1,
           0.9517802558908933,
           0.42034539825933454
          ],
          [
           0.003396216789881136,
           0.09664154160568438,
           0.9517802558908933,
           1,
           0.2935787013051287
          ],
          [
           0.495306460373375,
           0.4458736514945359,
           0.42034539825933454,
           0.2935787013051287,
           1
          ]
         ]
        }
       ],
       "layout": {
        "coloraxis": {
         "colorscale": [
          [
           0,
           "#0d0887"
          ],
          [
           0.1111111111111111,
           "#46039f"
          ],
          [
           0.2222222222222222,
           "#7201a8"
          ],
          [
           0.3333333333333333,
           "#9c179e"
          ],
          [
           0.4444444444444444,
           "#bd3786"
          ],
          [
           0.5555555555555556,
           "#d8576b"
          ],
          [
           0.6666666666666666,
           "#ed7953"
          ],
          [
           0.7777777777777778,
           "#fb9f3a"
          ],
          [
           0.8888888888888888,
           "#fdca26"
          ],
          [
           1,
           "#f0f921"
          ]
         ]
        },
        "margin": {
         "t": 60
        },
        "template": {
         "data": {
          "bar": [
           {
            "error_x": {
             "color": "#2a3f5f"
            },
            "error_y": {
             "color": "#2a3f5f"
            },
            "marker": {
             "line": {
              "color": "#E5ECF6",
              "width": 0.5
             },
             "pattern": {
              "fillmode": "overlay",
              "size": 10,
              "solidity": 0.2
             }
            },
            "type": "bar"
           }
          ],
          "barpolar": [
           {
            "marker": {
             "line": {
              "color": "#E5ECF6",
              "width": 0.5
             },
             "pattern": {
              "fillmode": "overlay",
              "size": 10,
              "solidity": 0.2
             }
            },
            "type": "barpolar"
           }
          ],
          "carpet": [
           {
            "aaxis": {
             "endlinecolor": "#2a3f5f",
             "gridcolor": "white",
             "linecolor": "white",
             "minorgridcolor": "white",
             "startlinecolor": "#2a3f5f"
            },
            "baxis": {
             "endlinecolor": "#2a3f5f",
             "gridcolor": "white",
             "linecolor": "white",
             "minorgridcolor": "white",
             "startlinecolor": "#2a3f5f"
            },
            "type": "carpet"
           }
          ],
          "choropleth": [
           {
            "colorbar": {
             "outlinewidth": 0,
             "ticks": ""
            },
            "type": "choropleth"
           }
          ],
          "contour": [
           {
            "colorbar": {
             "outlinewidth": 0,
             "ticks": ""
            },
            "colorscale": [
             [
              0,
              "#0d0887"
             ],
             [
              0.1111111111111111,
              "#46039f"
             ],
             [
              0.2222222222222222,
              "#7201a8"
             ],
             [
              0.3333333333333333,
              "#9c179e"
             ],
             [
              0.4444444444444444,
              "#bd3786"
             ],
             [
              0.5555555555555556,
              "#d8576b"
             ],
             [
              0.6666666666666666,
              "#ed7953"
             ],
             [
              0.7777777777777778,
              "#fb9f3a"
             ],
             [
              0.8888888888888888,
              "#fdca26"
             ],
             [
              1,
              "#f0f921"
             ]
            ],
            "type": "contour"
           }
          ],
          "contourcarpet": [
           {
            "colorbar": {
             "outlinewidth": 0,
             "ticks": ""
            },
            "type": "contourcarpet"
           }
          ],
          "heatmap": [
           {
            "colorbar": {
             "outlinewidth": 0,
             "ticks": ""
            },
            "colorscale": [
             [
              0,
              "#0d0887"
             ],
             [
              0.1111111111111111,
              "#46039f"
             ],
             [
              0.2222222222222222,
              "#7201a8"
             ],
             [
              0.3333333333333333,
              "#9c179e"
             ],
             [
              0.4444444444444444,
              "#bd3786"
             ],
             [
              0.5555555555555556,
              "#d8576b"
             ],
             [
              0.6666666666666666,
              "#ed7953"
             ],
             [
              0.7777777777777778,
              "#fb9f3a"
             ],
             [
              0.8888888888888888,
              "#fdca26"
             ],
             [
              1,
              "#f0f921"
             ]
            ],
            "type": "heatmap"
           }
          ],
          "heatmapgl": [
           {
            "colorbar": {
             "outlinewidth": 0,
             "ticks": ""
            },
            "colorscale": [
             [
              0,
              "#0d0887"
             ],
             [
              0.1111111111111111,
              "#46039f"
             ],
             [
              0.2222222222222222,
              "#7201a8"
             ],
             [
              0.3333333333333333,
              "#9c179e"
             ],
             [
              0.4444444444444444,
              "#bd3786"
             ],
             [
              0.5555555555555556,
              "#d8576b"
             ],
             [
              0.6666666666666666,
              "#ed7953"
             ],
             [
              0.7777777777777778,
              "#fb9f3a"
             ],
             [
              0.8888888888888888,
              "#fdca26"
             ],
             [
              1,
              "#f0f921"
             ]
            ],
            "type": "heatmapgl"
           }
          ],
          "histogram": [
           {
            "marker": {
             "pattern": {
              "fillmode": "overlay",
              "size": 10,
              "solidity": 0.2
             }
            },
            "type": "histogram"
           }
          ],
          "histogram2d": [
           {
            "colorbar": {
             "outlinewidth": 0,
             "ticks": ""
            },
            "colorscale": [
             [
              0,
              "#0d0887"
             ],
             [
              0.1111111111111111,
              "#46039f"
             ],
             [
              0.2222222222222222,
              "#7201a8"
             ],
             [
              0.3333333333333333,
              "#9c179e"
             ],
             [
              0.4444444444444444,
              "#bd3786"
             ],
             [
              0.5555555555555556,
              "#d8576b"
             ],
             [
              0.6666666666666666,
              "#ed7953"
             ],
             [
              0.7777777777777778,
              "#fb9f3a"
             ],
             [
              0.8888888888888888,
              "#fdca26"
             ],
             [
              1,
              "#f0f921"
             ]
            ],
            "type": "histogram2d"
           }
          ],
          "histogram2dcontour": [
           {
            "colorbar": {
             "outlinewidth": 0,
             "ticks": ""
            },
            "colorscale": [
             [
              0,
              "#0d0887"
             ],
             [
              0.1111111111111111,
              "#46039f"
             ],
             [
              0.2222222222222222,
              "#7201a8"
             ],
             [
              0.3333333333333333,
              "#9c179e"
             ],
             [
              0.4444444444444444,
              "#bd3786"
             ],
             [
              0.5555555555555556,
              "#d8576b"
             ],
             [
              0.6666666666666666,
              "#ed7953"
             ],
             [
              0.7777777777777778,
              "#fb9f3a"
             ],
             [
              0.8888888888888888,
              "#fdca26"
             ],
             [
              1,
              "#f0f921"
             ]
            ],
            "type": "histogram2dcontour"
           }
          ],
          "mesh3d": [
           {
            "colorbar": {
             "outlinewidth": 0,
             "ticks": ""
            },
            "type": "mesh3d"
           }
          ],
          "parcoords": [
           {
            "line": {
             "colorbar": {
              "outlinewidth": 0,
              "ticks": ""
             }
            },
            "type": "parcoords"
           }
          ],
          "pie": [
           {
            "automargin": true,
            "type": "pie"
           }
          ],
          "scatter": [
           {
            "fillpattern": {
             "fillmode": "overlay",
             "size": 10,
             "solidity": 0.2
            },
            "type": "scatter"
           }
          ],
          "scatter3d": [
           {
            "line": {
             "colorbar": {
              "outlinewidth": 0,
              "ticks": ""
             }
            },
            "marker": {
             "colorbar": {
              "outlinewidth": 0,
              "ticks": ""
             }
            },
            "type": "scatter3d"
           }
          ],
          "scattercarpet": [
           {
            "marker": {
             "colorbar": {
              "outlinewidth": 0,
              "ticks": ""
             }
            },
            "type": "scattercarpet"
           }
          ],
          "scattergeo": [
           {
            "marker": {
             "colorbar": {
              "outlinewidth": 0,
              "ticks": ""
             }
            },
            "type": "scattergeo"
           }
          ],
          "scattergl": [
           {
            "marker": {
             "colorbar": {
              "outlinewidth": 0,
              "ticks": ""
             }
            },
            "type": "scattergl"
           }
          ],
          "scattermapbox": [
           {
            "marker": {
             "colorbar": {
              "outlinewidth": 0,
              "ticks": ""
             }
            },
            "type": "scattermapbox"
           }
          ],
          "scatterpolar": [
           {
            "marker": {
             "colorbar": {
              "outlinewidth": 0,
              "ticks": ""
             }
            },
            "type": "scatterpolar"
           }
          ],
          "scatterpolargl": [
           {
            "marker": {
             "colorbar": {
              "outlinewidth": 0,
              "ticks": ""
             }
            },
            "type": "scatterpolargl"
           }
          ],
          "scatterternary": [
           {
            "marker": {
             "colorbar": {
              "outlinewidth": 0,
              "ticks": ""
             }
            },
            "type": "scatterternary"
           }
          ],
          "surface": [
           {
            "colorbar": {
             "outlinewidth": 0,
             "ticks": ""
            },
            "colorscale": [
             [
              0,
              "#0d0887"
             ],
             [
              0.1111111111111111,
              "#46039f"
             ],
             [
              0.2222222222222222,
              "#7201a8"
             ],
             [
              0.3333333333333333,
              "#9c179e"
             ],
             [
              0.4444444444444444,
              "#bd3786"
             ],
             [
              0.5555555555555556,
              "#d8576b"
             ],
             [
              0.6666666666666666,
              "#ed7953"
             ],
             [
              0.7777777777777778,
              "#fb9f3a"
             ],
             [
              0.8888888888888888,
              "#fdca26"
             ],
             [
              1,
              "#f0f921"
             ]
            ],
            "type": "surface"
           }
          ],
          "table": [
           {
            "cells": {
             "fill": {
              "color": "#EBF0F8"
             },
             "line": {
              "color": "white"
             }
            },
            "header": {
             "fill": {
              "color": "#C8D4E3"
             },
             "line": {
              "color": "white"
             }
            },
            "type": "table"
           }
          ]
         },
         "layout": {
          "annotationdefaults": {
           "arrowcolor": "#2a3f5f",
           "arrowhead": 0,
           "arrowwidth": 1
          },
          "autotypenumbers": "strict",
          "coloraxis": {
           "colorbar": {
            "outlinewidth": 0,
            "ticks": ""
           }
          },
          "colorscale": {
           "diverging": [
            [
             0,
             "#8e0152"
            ],
            [
             0.1,
             "#c51b7d"
            ],
            [
             0.2,
             "#de77ae"
            ],
            [
             0.3,
             "#f1b6da"
            ],
            [
             0.4,
             "#fde0ef"
            ],
            [
             0.5,
             "#f7f7f7"
            ],
            [
             0.6,
             "#e6f5d0"
            ],
            [
             0.7,
             "#b8e186"
            ],
            [
             0.8,
             "#7fbc41"
            ],
            [
             0.9,
             "#4d9221"
            ],
            [
             1,
             "#276419"
            ]
           ],
           "sequential": [
            [
             0,
             "#0d0887"
            ],
            [
             0.1111111111111111,
             "#46039f"
            ],
            [
             0.2222222222222222,
             "#7201a8"
            ],
            [
             0.3333333333333333,
             "#9c179e"
            ],
            [
             0.4444444444444444,
             "#bd3786"
            ],
            [
             0.5555555555555556,
             "#d8576b"
            ],
            [
             0.6666666666666666,
             "#ed7953"
            ],
            [
             0.7777777777777778,
             "#fb9f3a"
            ],
            [
             0.8888888888888888,
             "#fdca26"
            ],
            [
             1,
             "#f0f921"
            ]
           ],
           "sequentialminus": [
            [
             0,
             "#0d0887"
            ],
            [
             0.1111111111111111,
             "#46039f"
            ],
            [
             0.2222222222222222,
             "#7201a8"
            ],
            [
             0.3333333333333333,
             "#9c179e"
            ],
            [
             0.4444444444444444,
             "#bd3786"
            ],
            [
             0.5555555555555556,
             "#d8576b"
            ],
            [
             0.6666666666666666,
             "#ed7953"
            ],
            [
             0.7777777777777778,
             "#fb9f3a"
            ],
            [
             0.8888888888888888,
             "#fdca26"
            ],
            [
             1,
             "#f0f921"
            ]
           ]
          },
          "colorway": [
           "#636efa",
           "#EF553B",
           "#00cc96",
           "#ab63fa",
           "#FFA15A",
           "#19d3f3",
           "#FF6692",
           "#B6E880",
           "#FF97FF",
           "#FECB52"
          ],
          "font": {
           "color": "#2a3f5f"
          },
          "geo": {
           "bgcolor": "white",
           "lakecolor": "white",
           "landcolor": "#E5ECF6",
           "showlakes": true,
           "showland": true,
           "subunitcolor": "white"
          },
          "hoverlabel": {
           "align": "left"
          },
          "hovermode": "closest",
          "mapbox": {
           "style": "light"
          },
          "paper_bgcolor": "white",
          "plot_bgcolor": "#E5ECF6",
          "polar": {
           "angularaxis": {
            "gridcolor": "white",
            "linecolor": "white",
            "ticks": ""
           },
           "bgcolor": "#E5ECF6",
           "radialaxis": {
            "gridcolor": "white",
            "linecolor": "white",
            "ticks": ""
           }
          },
          "scene": {
           "xaxis": {
            "backgroundcolor": "#E5ECF6",
            "gridcolor": "white",
            "gridwidth": 2,
            "linecolor": "white",
            "showbackground": true,
            "ticks": "",
            "zerolinecolor": "white"
           },
           "yaxis": {
            "backgroundcolor": "#E5ECF6",
            "gridcolor": "white",
            "gridwidth": 2,
            "linecolor": "white",
            "showbackground": true,
            "ticks": "",
            "zerolinecolor": "white"
           },
           "zaxis": {
            "backgroundcolor": "#E5ECF6",
            "gridcolor": "white",
            "gridwidth": 2,
            "linecolor": "white",
            "showbackground": true,
            "ticks": "",
            "zerolinecolor": "white"
           }
          },
          "shapedefaults": {
           "line": {
            "color": "#2a3f5f"
           }
          },
          "ternary": {
           "aaxis": {
            "gridcolor": "white",
            "linecolor": "white",
            "ticks": ""
           },
           "baxis": {
            "gridcolor": "white",
            "linecolor": "white",
            "ticks": ""
           },
           "bgcolor": "#E5ECF6",
           "caxis": {
            "gridcolor": "white",
            "linecolor": "white",
            "ticks": ""
           }
          },
          "title": {
           "x": 0.05
          },
          "xaxis": {
           "automargin": true,
           "gridcolor": "white",
           "linecolor": "white",
           "ticks": "",
           "title": {
            "standoff": 15
           },
           "zerolinecolor": "white",
           "zerolinewidth": 2
          },
          "yaxis": {
           "automargin": true,
           "gridcolor": "white",
           "linecolor": "white",
           "ticks": "",
           "title": {
            "standoff": 15
           },
           "zerolinecolor": "white",
           "zerolinewidth": 2
          }
         }
        },
        "xaxis": {
         "anchor": "y",
         "constrain": "domain",
         "domain": [
          0,
          1
         ],
         "scaleanchor": "y"
        },
        "yaxis": {
         "anchor": "x",
         "autorange": "reversed",
         "constrain": "domain",
         "domain": [
          0,
          1
         ]
        }
       }
      }
     },
     "metadata": {},
     "output_type": "display_data"
    }
   ],
   "source": [
    "import plotly.express as px\n",
    "\n",
    "# Calculer la matrice de corrélation\n",
    "correlation_matrix = merged_df[[\"abs_volume\",\"h_ratio\",\"activity\",\"correct_choices\",\"frac_time_on_shocked\"]].corr()\n",
    "\n",
    "# Créer un heatmap interactif avec Plotly\n",
    "fig = px.imshow(correlation_matrix)\n",
    "fig.show()"
   ]
  },
  {
   "cell_type": "code",
   "execution_count": 35,
   "id": "a77ad388",
   "metadata": {},
   "outputs": [],
   "source": [
    "from scipy.stats import pearsonr\n",
    "import pandas as pd\n",
    "\n",
    "def calculate_pvalues(df):\n",
    "    dfcols = pd.DataFrame(columns=df.columns)\n",
    "    pvalues = dfcols.transpose().join(dfcols, how='outer')\n",
    "    for r in df.columns:\n",
    "        for c in df.columns:\n",
    "            tmp = df[df[r].notnull() & df[c].notnull()]\n",
    "            pvalues[r][c] = round(pearsonr(tmp[r], tmp[c])[1], 4)\n",
    "    return pvalues"
   ]
  },
  {
   "cell_type": "code",
   "execution_count": 37,
   "id": "d65edc7a",
   "metadata": {},
   "outputs": [
    {
     "data": {
      "application/vnd.plotly.v1+json": {
       "config": {
        "plotlyServerURL": "https://plot.ly"
       },
       "data": [
        {
         "coloraxis": "coloraxis",
         "hovertemplate": "x: %{x}<br>y: %{y}<br>color: %{z}<extra></extra>",
         "name": "0",
         "type": "heatmap",
         "x": [
          "abs_volume",
          "h_ratio",
          "activity",
          "correct_choices",
          "frac_time_on_shocked"
         ],
         "xaxis": "x",
         "y": [
          "abs_volume",
          "h_ratio",
          "activity",
          "correct_choices",
          "frac_time_on_shocked"
         ],
         "yaxis": "y",
         "z": [
          [
           0,
           0.0168,
           0.7051,
           0.9863,
           0.0074
          ],
          [
           0.0168,
           0,
           0.2976,
           0.6247,
           0.0174
          ],
          [
           0.7051,
           0.2976,
           0,
           0,
           0.0259
          ],
          [
           0.9863,
           0.6247,
           0,
           0,
           0.1294
          ],
          [
           0.0074,
           0.0174,
           0.0259,
           0.1294,
           0
          ]
         ]
        }
       ],
       "layout": {
        "coloraxis": {
         "colorscale": [
          [
           0,
           "#0d0887"
          ],
          [
           0.1111111111111111,
           "#46039f"
          ],
          [
           0.2222222222222222,
           "#7201a8"
          ],
          [
           0.3333333333333333,
           "#9c179e"
          ],
          [
           0.4444444444444444,
           "#bd3786"
          ],
          [
           0.5555555555555556,
           "#d8576b"
          ],
          [
           0.6666666666666666,
           "#ed7953"
          ],
          [
           0.7777777777777778,
           "#fb9f3a"
          ],
          [
           0.8888888888888888,
           "#fdca26"
          ],
          [
           1,
           "#f0f921"
          ]
         ]
        },
        "margin": {
         "t": 60
        },
        "template": {
         "data": {
          "bar": [
           {
            "error_x": {
             "color": "#2a3f5f"
            },
            "error_y": {
             "color": "#2a3f5f"
            },
            "marker": {
             "line": {
              "color": "#E5ECF6",
              "width": 0.5
             },
             "pattern": {
              "fillmode": "overlay",
              "size": 10,
              "solidity": 0.2
             }
            },
            "type": "bar"
           }
          ],
          "barpolar": [
           {
            "marker": {
             "line": {
              "color": "#E5ECF6",
              "width": 0.5
             },
             "pattern": {
              "fillmode": "overlay",
              "size": 10,
              "solidity": 0.2
             }
            },
            "type": "barpolar"
           }
          ],
          "carpet": [
           {
            "aaxis": {
             "endlinecolor": "#2a3f5f",
             "gridcolor": "white",
             "linecolor": "white",
             "minorgridcolor": "white",
             "startlinecolor": "#2a3f5f"
            },
            "baxis": {
             "endlinecolor": "#2a3f5f",
             "gridcolor": "white",
             "linecolor": "white",
             "minorgridcolor": "white",
             "startlinecolor": "#2a3f5f"
            },
            "type": "carpet"
           }
          ],
          "choropleth": [
           {
            "colorbar": {
             "outlinewidth": 0,
             "ticks": ""
            },
            "type": "choropleth"
           }
          ],
          "contour": [
           {
            "colorbar": {
             "outlinewidth": 0,
             "ticks": ""
            },
            "colorscale": [
             [
              0,
              "#0d0887"
             ],
             [
              0.1111111111111111,
              "#46039f"
             ],
             [
              0.2222222222222222,
              "#7201a8"
             ],
             [
              0.3333333333333333,
              "#9c179e"
             ],
             [
              0.4444444444444444,
              "#bd3786"
             ],
             [
              0.5555555555555556,
              "#d8576b"
             ],
             [
              0.6666666666666666,
              "#ed7953"
             ],
             [
              0.7777777777777778,
              "#fb9f3a"
             ],
             [
              0.8888888888888888,
              "#fdca26"
             ],
             [
              1,
              "#f0f921"
             ]
            ],
            "type": "contour"
           }
          ],
          "contourcarpet": [
           {
            "colorbar": {
             "outlinewidth": 0,
             "ticks": ""
            },
            "type": "contourcarpet"
           }
          ],
          "heatmap": [
           {
            "colorbar": {
             "outlinewidth": 0,
             "ticks": ""
            },
            "colorscale": [
             [
              0,
              "#0d0887"
             ],
             [
              0.1111111111111111,
              "#46039f"
             ],
             [
              0.2222222222222222,
              "#7201a8"
             ],
             [
              0.3333333333333333,
              "#9c179e"
             ],
             [
              0.4444444444444444,
              "#bd3786"
             ],
             [
              0.5555555555555556,
              "#d8576b"
             ],
             [
              0.6666666666666666,
              "#ed7953"
             ],
             [
              0.7777777777777778,
              "#fb9f3a"
             ],
             [
              0.8888888888888888,
              "#fdca26"
             ],
             [
              1,
              "#f0f921"
             ]
            ],
            "type": "heatmap"
           }
          ],
          "heatmapgl": [
           {
            "colorbar": {
             "outlinewidth": 0,
             "ticks": ""
            },
            "colorscale": [
             [
              0,
              "#0d0887"
             ],
             [
              0.1111111111111111,
              "#46039f"
             ],
             [
              0.2222222222222222,
              "#7201a8"
             ],
             [
              0.3333333333333333,
              "#9c179e"
             ],
             [
              0.4444444444444444,
              "#bd3786"
             ],
             [
              0.5555555555555556,
              "#d8576b"
             ],
             [
              0.6666666666666666,
              "#ed7953"
             ],
             [
              0.7777777777777778,
              "#fb9f3a"
             ],
             [
              0.8888888888888888,
              "#fdca26"
             ],
             [
              1,
              "#f0f921"
             ]
            ],
            "type": "heatmapgl"
           }
          ],
          "histogram": [
           {
            "marker": {
             "pattern": {
              "fillmode": "overlay",
              "size": 10,
              "solidity": 0.2
             }
            },
            "type": "histogram"
           }
          ],
          "histogram2d": [
           {
            "colorbar": {
             "outlinewidth": 0,
             "ticks": ""
            },
            "colorscale": [
             [
              0,
              "#0d0887"
             ],
             [
              0.1111111111111111,
              "#46039f"
             ],
             [
              0.2222222222222222,
              "#7201a8"
             ],
             [
              0.3333333333333333,
              "#9c179e"
             ],
             [
              0.4444444444444444,
              "#bd3786"
             ],
             [
              0.5555555555555556,
              "#d8576b"
             ],
             [
              0.6666666666666666,
              "#ed7953"
             ],
             [
              0.7777777777777778,
              "#fb9f3a"
             ],
             [
              0.8888888888888888,
              "#fdca26"
             ],
             [
              1,
              "#f0f921"
             ]
            ],
            "type": "histogram2d"
           }
          ],
          "histogram2dcontour": [
           {
            "colorbar": {
             "outlinewidth": 0,
             "ticks": ""
            },
            "colorscale": [
             [
              0,
              "#0d0887"
             ],
             [
              0.1111111111111111,
              "#46039f"
             ],
             [
              0.2222222222222222,
              "#7201a8"
             ],
             [
              0.3333333333333333,
              "#9c179e"
             ],
             [
              0.4444444444444444,
              "#bd3786"
             ],
             [
              0.5555555555555556,
              "#d8576b"
             ],
             [
              0.6666666666666666,
              "#ed7953"
             ],
             [
              0.7777777777777778,
              "#fb9f3a"
             ],
             [
              0.8888888888888888,
              "#fdca26"
             ],
             [
              1,
              "#f0f921"
             ]
            ],
            "type": "histogram2dcontour"
           }
          ],
          "mesh3d": [
           {
            "colorbar": {
             "outlinewidth": 0,
             "ticks": ""
            },
            "type": "mesh3d"
           }
          ],
          "parcoords": [
           {
            "line": {
             "colorbar": {
              "outlinewidth": 0,
              "ticks": ""
             }
            },
            "type": "parcoords"
           }
          ],
          "pie": [
           {
            "automargin": true,
            "type": "pie"
           }
          ],
          "scatter": [
           {
            "fillpattern": {
             "fillmode": "overlay",
             "size": 10,
             "solidity": 0.2
            },
            "type": "scatter"
           }
          ],
          "scatter3d": [
           {
            "line": {
             "colorbar": {
              "outlinewidth": 0,
              "ticks": ""
             }
            },
            "marker": {
             "colorbar": {
              "outlinewidth": 0,
              "ticks": ""
             }
            },
            "type": "scatter3d"
           }
          ],
          "scattercarpet": [
           {
            "marker": {
             "colorbar": {
              "outlinewidth": 0,
              "ticks": ""
             }
            },
            "type": "scattercarpet"
           }
          ],
          "scattergeo": [
           {
            "marker": {
             "colorbar": {
              "outlinewidth": 0,
              "ticks": ""
             }
            },
            "type": "scattergeo"
           }
          ],
          "scattergl": [
           {
            "marker": {
             "colorbar": {
              "outlinewidth": 0,
              "ticks": ""
             }
            },
            "type": "scattergl"
           }
          ],
          "scattermapbox": [
           {
            "marker": {
             "colorbar": {
              "outlinewidth": 0,
              "ticks": ""
             }
            },
            "type": "scattermapbox"
           }
          ],
          "scatterpolar": [
           {
            "marker": {
             "colorbar": {
              "outlinewidth": 0,
              "ticks": ""
             }
            },
            "type": "scatterpolar"
           }
          ],
          "scatterpolargl": [
           {
            "marker": {
             "colorbar": {
              "outlinewidth": 0,
              "ticks": ""
             }
            },
            "type": "scatterpolargl"
           }
          ],
          "scatterternary": [
           {
            "marker": {
             "colorbar": {
              "outlinewidth": 0,
              "ticks": ""
             }
            },
            "type": "scatterternary"
           }
          ],
          "surface": [
           {
            "colorbar": {
             "outlinewidth": 0,
             "ticks": ""
            },
            "colorscale": [
             [
              0,
              "#0d0887"
             ],
             [
              0.1111111111111111,
              "#46039f"
             ],
             [
              0.2222222222222222,
              "#7201a8"
             ],
             [
              0.3333333333333333,
              "#9c179e"
             ],
             [
              0.4444444444444444,
              "#bd3786"
             ],
             [
              0.5555555555555556,
              "#d8576b"
             ],
             [
              0.6666666666666666,
              "#ed7953"
             ],
             [
              0.7777777777777778,
              "#fb9f3a"
             ],
             [
              0.8888888888888888,
              "#fdca26"
             ],
             [
              1,
              "#f0f921"
             ]
            ],
            "type": "surface"
           }
          ],
          "table": [
           {
            "cells": {
             "fill": {
              "color": "#EBF0F8"
             },
             "line": {
              "color": "white"
             }
            },
            "header": {
             "fill": {
              "color": "#C8D4E3"
             },
             "line": {
              "color": "white"
             }
            },
            "type": "table"
           }
          ]
         },
         "layout": {
          "annotationdefaults": {
           "arrowcolor": "#2a3f5f",
           "arrowhead": 0,
           "arrowwidth": 1
          },
          "autotypenumbers": "strict",
          "coloraxis": {
           "colorbar": {
            "outlinewidth": 0,
            "ticks": ""
           }
          },
          "colorscale": {
           "diverging": [
            [
             0,
             "#8e0152"
            ],
            [
             0.1,
             "#c51b7d"
            ],
            [
             0.2,
             "#de77ae"
            ],
            [
             0.3,
             "#f1b6da"
            ],
            [
             0.4,
             "#fde0ef"
            ],
            [
             0.5,
             "#f7f7f7"
            ],
            [
             0.6,
             "#e6f5d0"
            ],
            [
             0.7,
             "#b8e186"
            ],
            [
             0.8,
             "#7fbc41"
            ],
            [
             0.9,
             "#4d9221"
            ],
            [
             1,
             "#276419"
            ]
           ],
           "sequential": [
            [
             0,
             "#0d0887"
            ],
            [
             0.1111111111111111,
             "#46039f"
            ],
            [
             0.2222222222222222,
             "#7201a8"
            ],
            [
             0.3333333333333333,
             "#9c179e"
            ],
            [
             0.4444444444444444,
             "#bd3786"
            ],
            [
             0.5555555555555556,
             "#d8576b"
            ],
            [
             0.6666666666666666,
             "#ed7953"
            ],
            [
             0.7777777777777778,
             "#fb9f3a"
            ],
            [
             0.8888888888888888,
             "#fdca26"
            ],
            [
             1,
             "#f0f921"
            ]
           ],
           "sequentialminus": [
            [
             0,
             "#0d0887"
            ],
            [
             0.1111111111111111,
             "#46039f"
            ],
            [
             0.2222222222222222,
             "#7201a8"
            ],
            [
             0.3333333333333333,
             "#9c179e"
            ],
            [
             0.4444444444444444,
             "#bd3786"
            ],
            [
             0.5555555555555556,
             "#d8576b"
            ],
            [
             0.6666666666666666,
             "#ed7953"
            ],
            [
             0.7777777777777778,
             "#fb9f3a"
            ],
            [
             0.8888888888888888,
             "#fdca26"
            ],
            [
             1,
             "#f0f921"
            ]
           ]
          },
          "colorway": [
           "#636efa",
           "#EF553B",
           "#00cc96",
           "#ab63fa",
           "#FFA15A",
           "#19d3f3",
           "#FF6692",
           "#B6E880",
           "#FF97FF",
           "#FECB52"
          ],
          "font": {
           "color": "#2a3f5f"
          },
          "geo": {
           "bgcolor": "white",
           "lakecolor": "white",
           "landcolor": "#E5ECF6",
           "showlakes": true,
           "showland": true,
           "subunitcolor": "white"
          },
          "hoverlabel": {
           "align": "left"
          },
          "hovermode": "closest",
          "mapbox": {
           "style": "light"
          },
          "paper_bgcolor": "white",
          "plot_bgcolor": "#E5ECF6",
          "polar": {
           "angularaxis": {
            "gridcolor": "white",
            "linecolor": "white",
            "ticks": ""
           },
           "bgcolor": "#E5ECF6",
           "radialaxis": {
            "gridcolor": "white",
            "linecolor": "white",
            "ticks": ""
           }
          },
          "scene": {
           "xaxis": {
            "backgroundcolor": "#E5ECF6",
            "gridcolor": "white",
            "gridwidth": 2,
            "linecolor": "white",
            "showbackground": true,
            "ticks": "",
            "zerolinecolor": "white"
           },
           "yaxis": {
            "backgroundcolor": "#E5ECF6",
            "gridcolor": "white",
            "gridwidth": 2,
            "linecolor": "white",
            "showbackground": true,
            "ticks": "",
            "zerolinecolor": "white"
           },
           "zaxis": {
            "backgroundcolor": "#E5ECF6",
            "gridcolor": "white",
            "gridwidth": 2,
            "linecolor": "white",
            "showbackground": true,
            "ticks": "",
            "zerolinecolor": "white"
           }
          },
          "shapedefaults": {
           "line": {
            "color": "#2a3f5f"
           }
          },
          "ternary": {
           "aaxis": {
            "gridcolor": "white",
            "linecolor": "white",
            "ticks": ""
           },
           "baxis": {
            "gridcolor": "white",
            "linecolor": "white",
            "ticks": ""
           },
           "bgcolor": "#E5ECF6",
           "caxis": {
            "gridcolor": "white",
            "linecolor": "white",
            "ticks": ""
           }
          },
          "title": {
           "x": 0.05
          },
          "xaxis": {
           "automargin": true,
           "gridcolor": "white",
           "linecolor": "white",
           "ticks": "",
           "title": {
            "standoff": 15
           },
           "zerolinecolor": "white",
           "zerolinewidth": 2
          },
          "yaxis": {
           "automargin": true,
           "gridcolor": "white",
           "linecolor": "white",
           "ticks": "",
           "title": {
            "standoff": 15
           },
           "zerolinecolor": "white",
           "zerolinewidth": 2
          }
         }
        },
        "xaxis": {
         "anchor": "y",
         "constrain": "domain",
         "domain": [
          0,
          1
         ],
         "scaleanchor": "y"
        },
        "yaxis": {
         "anchor": "x",
         "autorange": "reversed",
         "constrain": "domain",
         "domain": [
          0,
          1
         ]
        }
       }
      }
     },
     "metadata": {},
     "output_type": "display_data"
    }
   ],
   "source": [
    "fig = px.imshow(calculate_pvalues(merged_df[[\"abs_volume\",\"h_ratio\",\"activity\",\"correct_choices\",\"frac_time_on_shocked\"]]))\n",
    "fig.show()"
   ]
  },
  {
   "cell_type": "code",
   "execution_count": null,
   "id": "f88cf57c",
   "metadata": {},
   "outputs": [],
   "source": []
  },
  {
   "cell_type": "code",
   "execution_count": null,
   "id": "f16aa407",
   "metadata": {},
   "outputs": [],
   "source": []
  },
  {
   "cell_type": "code",
   "execution_count": null,
   "id": "d4114b04",
   "metadata": {},
   "outputs": [],
   "source": []
  },
  {
   "cell_type": "code",
   "execution_count": null,
   "id": "db66a927",
   "metadata": {},
   "outputs": [],
   "source": []
  }
 ],
 "metadata": {
  "kernelspec": {
   "display_name": "Python3",
   "language": "python",
   "name": "python3"
  },
  "language_info": {
   "codemirror_mode": {
    "name": "ipython",
    "version": 3
   },
   "file_extension": ".py",
   "mimetype": "text/x-python",
   "name": "python",
   "nbconvert_exporter": "python",
   "pygments_lexer": "ipython3",
   "version": "3.8.17"
  }
 },
 "nbformat": 4,
 "nbformat_minor": 5
}
