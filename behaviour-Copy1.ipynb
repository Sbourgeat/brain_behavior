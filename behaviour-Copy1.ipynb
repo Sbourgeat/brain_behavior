{
 "cells": [
  {
   "cell_type": "code",
   "execution_count": 1,
   "id": "2df50272-aaf8-4763-be8f-403467db6463",
   "metadata": {},
   "outputs": [],
   "source": [
    "import pandas as pd"
   ]
  },
  {
   "cell_type": "code",
   "execution_count": 2,
   "id": "202f666e-4d53-4aab-a7a7-cd2596fc1df4",
   "metadata": {
    "tags": []
   },
   "outputs": [
    {
     "data": {
      "text/html": [
       "<div>\n",
       "<style scoped>\n",
       "    .dataframe tbody tr th:only-of-type {\n",
       "        vertical-align: middle;\n",
       "    }\n",
       "\n",
       "    .dataframe tbody tr th {\n",
       "        vertical-align: top;\n",
       "    }\n",
       "\n",
       "    .dataframe thead th {\n",
       "        text-align: right;\n",
       "    }\n",
       "</style>\n",
       "<table border=\"1\" class=\"dataframe\">\n",
       "  <thead>\n",
       "    <tr style=\"text-align: right;\">\n",
       "      <th></th>\n",
       "      <th>id</th>\n",
       "      <th>genotype</th>\n",
       "      <th>sex</th>\n",
       "      <th>exp_type</th>\n",
       "      <th>shock_color</th>\n",
       "      <th>shock_arm</th>\n",
       "      <th>treatment</th>\n",
       "      <th>replicates</th>\n",
       "      <th>ZT0</th>\n",
       "      <th>ZT</th>\n",
       "      <th>...</th>\n",
       "      <th>post_incorrect_choices</th>\n",
       "      <th>post_analysis_time</th>\n",
       "      <th>group</th>\n",
       "      <th>group_sex</th>\n",
       "      <th>folder</th>\n",
       "      <th>experiment_date</th>\n",
       "      <th>experiment_by</th>\n",
       "      <th>head_scanned</th>\n",
       "      <th>abs_dev</th>\n",
       "      <th>abs_dev_sex</th>\n",
       "    </tr>\n",
       "  </thead>\n",
       "  <tbody>\n",
       "    <tr>\n",
       "      <th>0</th>\n",
       "      <td>17</td>\n",
       "      <td>dgrp100</td>\n",
       "      <td>female</td>\n",
       "      <td>operant_place</td>\n",
       "      <td>green</td>\n",
       "      <td>M</td>\n",
       "      <td>noShock</td>\n",
       "      <td>1</td>\n",
       "      <td>11:00:00</td>\n",
       "      <td>NaN</td>\n",
       "      <td>...</td>\n",
       "      <td>NaN</td>\n",
       "      <td>NaN</td>\n",
       "      <td>dgrp100_noShock</td>\n",
       "      <td>dgrp100_noShock_female</td>\n",
       "      <td>operant_place/20221222/csv/dgrp100_noShock/female</td>\n",
       "      <td>20221222</td>\n",
       "      <td>riddha</td>\n",
       "      <td>False</td>\n",
       "      <td>0.159876</td>\n",
       "      <td>0.172520</td>\n",
       "    </tr>\n",
       "    <tr>\n",
       "      <th>1</th>\n",
       "      <td>18</td>\n",
       "      <td>dgrp100</td>\n",
       "      <td>female</td>\n",
       "      <td>operant_place</td>\n",
       "      <td>green</td>\n",
       "      <td>R</td>\n",
       "      <td>noShock</td>\n",
       "      <td>1</td>\n",
       "      <td>11:00:00</td>\n",
       "      <td>NaN</td>\n",
       "      <td>...</td>\n",
       "      <td>NaN</td>\n",
       "      <td>NaN</td>\n",
       "      <td>dgrp100_noShock</td>\n",
       "      <td>dgrp100_noShock_female</td>\n",
       "      <td>operant_place/20221222/csv/dgrp100_noShock/female</td>\n",
       "      <td>20221222</td>\n",
       "      <td>riddha</td>\n",
       "      <td>False</td>\n",
       "      <td>0.030237</td>\n",
       "      <td>0.042881</td>\n",
       "    </tr>\n",
       "    <tr>\n",
       "      <th>2</th>\n",
       "      <td>19</td>\n",
       "      <td>dgrp100</td>\n",
       "      <td>female</td>\n",
       "      <td>operant_place</td>\n",
       "      <td>green</td>\n",
       "      <td>L</td>\n",
       "      <td>noShock</td>\n",
       "      <td>1</td>\n",
       "      <td>11:00:00</td>\n",
       "      <td>NaN</td>\n",
       "      <td>...</td>\n",
       "      <td>NaN</td>\n",
       "      <td>NaN</td>\n",
       "      <td>dgrp100_noShock</td>\n",
       "      <td>dgrp100_noShock_female</td>\n",
       "      <td>operant_place/20221222/csv/dgrp100_noShock/female</td>\n",
       "      <td>20221222</td>\n",
       "      <td>riddha</td>\n",
       "      <td>False</td>\n",
       "      <td>0.239896</td>\n",
       "      <td>0.227253</td>\n",
       "    </tr>\n",
       "    <tr>\n",
       "      <th>3</th>\n",
       "      <td>20</td>\n",
       "      <td>dgrp100</td>\n",
       "      <td>female</td>\n",
       "      <td>operant_place</td>\n",
       "      <td>green</td>\n",
       "      <td>M</td>\n",
       "      <td>noShock</td>\n",
       "      <td>1</td>\n",
       "      <td>11:00:00</td>\n",
       "      <td>NaN</td>\n",
       "      <td>...</td>\n",
       "      <td>NaN</td>\n",
       "      <td>NaN</td>\n",
       "      <td>dgrp100_noShock</td>\n",
       "      <td>dgrp100_noShock_female</td>\n",
       "      <td>operant_place/20221222/csv/dgrp100_noShock/female</td>\n",
       "      <td>20221222</td>\n",
       "      <td>riddha</td>\n",
       "      <td>False</td>\n",
       "      <td>0.025809</td>\n",
       "      <td>0.013166</td>\n",
       "    </tr>\n",
       "    <tr>\n",
       "      <th>4</th>\n",
       "      <td>21</td>\n",
       "      <td>dgrp100</td>\n",
       "      <td>female</td>\n",
       "      <td>operant_place</td>\n",
       "      <td>green</td>\n",
       "      <td>R</td>\n",
       "      <td>noShock</td>\n",
       "      <td>1</td>\n",
       "      <td>11:00:00</td>\n",
       "      <td>NaN</td>\n",
       "      <td>...</td>\n",
       "      <td>NaN</td>\n",
       "      <td>NaN</td>\n",
       "      <td>dgrp100_noShock</td>\n",
       "      <td>dgrp100_noShock_female</td>\n",
       "      <td>operant_place/20221222/csv/dgrp100_noShock/female</td>\n",
       "      <td>20221222</td>\n",
       "      <td>riddha</td>\n",
       "      <td>False</td>\n",
       "      <td>0.094741</td>\n",
       "      <td>0.107385</td>\n",
       "    </tr>\n",
       "    <tr>\n",
       "      <th>...</th>\n",
       "      <td>...</td>\n",
       "      <td>...</td>\n",
       "      <td>...</td>\n",
       "      <td>...</td>\n",
       "      <td>...</td>\n",
       "      <td>...</td>\n",
       "      <td>...</td>\n",
       "      <td>...</td>\n",
       "      <td>...</td>\n",
       "      <td>...</td>\n",
       "      <td>...</td>\n",
       "      <td>...</td>\n",
       "      <td>...</td>\n",
       "      <td>...</td>\n",
       "      <td>...</td>\n",
       "      <td>...</td>\n",
       "      <td>...</td>\n",
       "      <td>...</td>\n",
       "      <td>...</td>\n",
       "      <td>...</td>\n",
       "      <td>...</td>\n",
       "    </tr>\n",
       "    <tr>\n",
       "      <th>5307</th>\n",
       "      <td>44</td>\n",
       "      <td>dnc1</td>\n",
       "      <td>male</td>\n",
       "      <td>operant_color</td>\n",
       "      <td>blue</td>\n",
       "      <td>NaN</td>\n",
       "      <td>shock</td>\n",
       "      <td>2</td>\n",
       "      <td>11:00:00</td>\n",
       "      <td>18:21:41</td>\n",
       "      <td>...</td>\n",
       "      <td>27.0</td>\n",
       "      <td>600.0</td>\n",
       "      <td>dnc1_shock</td>\n",
       "      <td>dnc1_shock_male</td>\n",
       "      <td>operant_color/20230806/csv/dnc1_shock/male</td>\n",
       "      <td>20230806</td>\n",
       "      <td>riddha</td>\n",
       "      <td>False</td>\n",
       "      <td>0.099280</td>\n",
       "      <td>0.087237</td>\n",
       "    </tr>\n",
       "    <tr>\n",
       "      <th>5308</th>\n",
       "      <td>45</td>\n",
       "      <td>dnc1</td>\n",
       "      <td>male</td>\n",
       "      <td>operant_color</td>\n",
       "      <td>blue</td>\n",
       "      <td>NaN</td>\n",
       "      <td>shock</td>\n",
       "      <td>2</td>\n",
       "      <td>11:00:00</td>\n",
       "      <td>18:21:41</td>\n",
       "      <td>...</td>\n",
       "      <td>70.0</td>\n",
       "      <td>600.0</td>\n",
       "      <td>dnc1_shock</td>\n",
       "      <td>dnc1_shock_male</td>\n",
       "      <td>operant_color/20230806/csv/dnc1_shock/male</td>\n",
       "      <td>20230806</td>\n",
       "      <td>riddha</td>\n",
       "      <td>False</td>\n",
       "      <td>0.082689</td>\n",
       "      <td>0.070646</td>\n",
       "    </tr>\n",
       "    <tr>\n",
       "      <th>5309</th>\n",
       "      <td>46</td>\n",
       "      <td>dnc1</td>\n",
       "      <td>male</td>\n",
       "      <td>operant_color</td>\n",
       "      <td>blue</td>\n",
       "      <td>NaN</td>\n",
       "      <td>shock</td>\n",
       "      <td>2</td>\n",
       "      <td>11:00:00</td>\n",
       "      <td>18:21:41</td>\n",
       "      <td>...</td>\n",
       "      <td>45.0</td>\n",
       "      <td>600.0</td>\n",
       "      <td>dnc1_shock</td>\n",
       "      <td>dnc1_shock_male</td>\n",
       "      <td>operant_color/20230806/csv/dnc1_shock/male</td>\n",
       "      <td>20230806</td>\n",
       "      <td>riddha</td>\n",
       "      <td>False</td>\n",
       "      <td>0.082759</td>\n",
       "      <td>0.070715</td>\n",
       "    </tr>\n",
       "    <tr>\n",
       "      <th>5310</th>\n",
       "      <td>47</td>\n",
       "      <td>dnc1</td>\n",
       "      <td>male</td>\n",
       "      <td>operant_color</td>\n",
       "      <td>blue</td>\n",
       "      <td>NaN</td>\n",
       "      <td>shock</td>\n",
       "      <td>2</td>\n",
       "      <td>11:00:00</td>\n",
       "      <td>18:21:41</td>\n",
       "      <td>...</td>\n",
       "      <td>49.0</td>\n",
       "      <td>600.0</td>\n",
       "      <td>dnc1_shock</td>\n",
       "      <td>dnc1_shock_male</td>\n",
       "      <td>operant_color/20230806/csv/dnc1_shock/male</td>\n",
       "      <td>20230806</td>\n",
       "      <td>riddha</td>\n",
       "      <td>False</td>\n",
       "      <td>0.164981</td>\n",
       "      <td>0.152937</td>\n",
       "    </tr>\n",
       "    <tr>\n",
       "      <th>5311</th>\n",
       "      <td>48</td>\n",
       "      <td>dnc1</td>\n",
       "      <td>male</td>\n",
       "      <td>operant_color</td>\n",
       "      <td>blue</td>\n",
       "      <td>NaN</td>\n",
       "      <td>shock</td>\n",
       "      <td>2</td>\n",
       "      <td>11:00:00</td>\n",
       "      <td>18:21:41</td>\n",
       "      <td>...</td>\n",
       "      <td>10.0</td>\n",
       "      <td>600.0</td>\n",
       "      <td>dnc1_shock</td>\n",
       "      <td>dnc1_shock_male</td>\n",
       "      <td>operant_color/20230806/csv/dnc1_shock/male</td>\n",
       "      <td>20230806</td>\n",
       "      <td>riddha</td>\n",
       "      <td>False</td>\n",
       "      <td>0.074083</td>\n",
       "      <td>0.062040</td>\n",
       "    </tr>\n",
       "  </tbody>\n",
       "</table>\n",
       "<p>5312 rows × 48 columns</p>\n",
       "</div>"
      ],
      "text/plain": [
       "      id genotype     sex       exp_type shock_color shock_arm treatment  \\\n",
       "0     17  dgrp100  female  operant_place       green         M   noShock   \n",
       "1     18  dgrp100  female  operant_place       green         R   noShock   \n",
       "2     19  dgrp100  female  operant_place       green         L   noShock   \n",
       "3     20  dgrp100  female  operant_place       green         M   noShock   \n",
       "4     21  dgrp100  female  operant_place       green         R   noShock   \n",
       "...   ..      ...     ...            ...         ...       ...       ...   \n",
       "5307  44     dnc1    male  operant_color        blue       NaN     shock   \n",
       "5308  45     dnc1    male  operant_color        blue       NaN     shock   \n",
       "5309  46     dnc1    male  operant_color        blue       NaN     shock   \n",
       "5310  47     dnc1    male  operant_color        blue       NaN     shock   \n",
       "5311  48     dnc1    male  operant_color        blue       NaN     shock   \n",
       "\n",
       "      replicates       ZT0        ZT  ...  post_incorrect_choices  \\\n",
       "0              1  11:00:00       NaN  ...                     NaN   \n",
       "1              1  11:00:00       NaN  ...                     NaN   \n",
       "2              1  11:00:00       NaN  ...                     NaN   \n",
       "3              1  11:00:00       NaN  ...                     NaN   \n",
       "4              1  11:00:00       NaN  ...                     NaN   \n",
       "...          ...       ...       ...  ...                     ...   \n",
       "5307           2  11:00:00  18:21:41  ...                    27.0   \n",
       "5308           2  11:00:00  18:21:41  ...                    70.0   \n",
       "5309           2  11:00:00  18:21:41  ...                    45.0   \n",
       "5310           2  11:00:00  18:21:41  ...                    49.0   \n",
       "5311           2  11:00:00  18:21:41  ...                    10.0   \n",
       "\n",
       "      post_analysis_time            group               group_sex  \\\n",
       "0                    NaN  dgrp100_noShock  dgrp100_noShock_female   \n",
       "1                    NaN  dgrp100_noShock  dgrp100_noShock_female   \n",
       "2                    NaN  dgrp100_noShock  dgrp100_noShock_female   \n",
       "3                    NaN  dgrp100_noShock  dgrp100_noShock_female   \n",
       "4                    NaN  dgrp100_noShock  dgrp100_noShock_female   \n",
       "...                  ...              ...                     ...   \n",
       "5307               600.0       dnc1_shock         dnc1_shock_male   \n",
       "5308               600.0       dnc1_shock         dnc1_shock_male   \n",
       "5309               600.0       dnc1_shock         dnc1_shock_male   \n",
       "5310               600.0       dnc1_shock         dnc1_shock_male   \n",
       "5311               600.0       dnc1_shock         dnc1_shock_male   \n",
       "\n",
       "                                                 folder  experiment_date  \\\n",
       "0     operant_place/20221222/csv/dgrp100_noShock/female         20221222   \n",
       "1     operant_place/20221222/csv/dgrp100_noShock/female         20221222   \n",
       "2     operant_place/20221222/csv/dgrp100_noShock/female         20221222   \n",
       "3     operant_place/20221222/csv/dgrp100_noShock/female         20221222   \n",
       "4     operant_place/20221222/csv/dgrp100_noShock/female         20221222   \n",
       "...                                                 ...              ...   \n",
       "5307         operant_color/20230806/csv/dnc1_shock/male         20230806   \n",
       "5308         operant_color/20230806/csv/dnc1_shock/male         20230806   \n",
       "5309         operant_color/20230806/csv/dnc1_shock/male         20230806   \n",
       "5310         operant_color/20230806/csv/dnc1_shock/male         20230806   \n",
       "5311         operant_color/20230806/csv/dnc1_shock/male         20230806   \n",
       "\n",
       "      experiment_by  head_scanned   abs_dev  abs_dev_sex  \n",
       "0            riddha         False  0.159876     0.172520  \n",
       "1            riddha         False  0.030237     0.042881  \n",
       "2            riddha         False  0.239896     0.227253  \n",
       "3            riddha         False  0.025809     0.013166  \n",
       "4            riddha         False  0.094741     0.107385  \n",
       "...             ...           ...       ...          ...  \n",
       "5307         riddha         False  0.099280     0.087237  \n",
       "5308         riddha         False  0.082689     0.070646  \n",
       "5309         riddha         False  0.082759     0.070715  \n",
       "5310         riddha         False  0.164981     0.152937  \n",
       "5311         riddha         False  0.074083     0.062040  \n",
       "\n",
       "[5312 rows x 48 columns]"
      ]
     },
     "execution_count": 2,
     "metadata": {},
     "output_type": "execute_result"
    }
   ],
   "source": [
    "behav = pd.read_csv(\"summary.csv\")\n",
    "behav"
   ]
  },
  {
   "cell_type": "code",
   "execution_count": 3,
   "id": "320736bf-1d60-41ae-b95a-1d4cda1dd088",
   "metadata": {
    "tags": []
   },
   "outputs": [
    {
     "data": {
      "text/plain": [
       "False"
      ]
     },
     "execution_count": 3,
     "metadata": {},
     "output_type": "execute_result"
    }
   ],
   "source": [
    "behav.iloc[0,-3]"
   ]
  },
  {
   "cell_type": "code",
   "execution_count": 32,
   "id": "a4b1a921-9fae-4644-8338-02550acacd20",
   "metadata": {
    "tags": []
   },
   "outputs": [
    {
     "data": {
      "text/html": [
       "<div>\n",
       "<style scoped>\n",
       "    .dataframe tbody tr th:only-of-type {\n",
       "        vertical-align: middle;\n",
       "    }\n",
       "\n",
       "    .dataframe tbody tr th {\n",
       "        vertical-align: top;\n",
       "    }\n",
       "\n",
       "    .dataframe thead th {\n",
       "        text-align: right;\n",
       "    }\n",
       "</style>\n",
       "<table border=\"1\" class=\"dataframe\">\n",
       "  <thead>\n",
       "    <tr style=\"text-align: right;\">\n",
       "      <th></th>\n",
       "      <th>DGRP</th>\n",
       "      <th>sex</th>\n",
       "      <th>Volume</th>\n",
       "      <th>Entropy0</th>\n",
       "      <th>Entropy1</th>\n",
       "      <th>Entropy2</th>\n",
       "    </tr>\n",
       "  </thead>\n",
       "  <tbody>\n",
       "    <tr>\n",
       "      <th>0</th>\n",
       "      <td>DGRP_228</td>\n",
       "      <td>F</td>\n",
       "      <td>0.010634</td>\n",
       "      <td>1.742000</td>\n",
       "      <td>1.856059</td>\n",
       "      <td>1.821565</td>\n",
       "    </tr>\n",
       "    <tr>\n",
       "      <th>1</th>\n",
       "      <td>DGRP_228</td>\n",
       "      <td>M</td>\n",
       "      <td>0.010962</td>\n",
       "      <td>1.789805</td>\n",
       "      <td>1.835055</td>\n",
       "      <td>2.143064</td>\n",
       "    </tr>\n",
       "    <tr>\n",
       "      <th>2</th>\n",
       "      <td>DGRP_332</td>\n",
       "      <td>M</td>\n",
       "      <td>0.012916</td>\n",
       "      <td>1.414558</td>\n",
       "      <td>1.402126</td>\n",
       "      <td>1.227755</td>\n",
       "    </tr>\n",
       "    <tr>\n",
       "      <th>3</th>\n",
       "      <td>DGRP_100</td>\n",
       "      <td>M</td>\n",
       "      <td>0.014155</td>\n",
       "      <td>1.926577</td>\n",
       "      <td>1.925772</td>\n",
       "      <td>2.231003</td>\n",
       "    </tr>\n",
       "    <tr>\n",
       "      <th>4</th>\n",
       "      <td>DGRP_332</td>\n",
       "      <td>F</td>\n",
       "      <td>0.015221</td>\n",
       "      <td>1.505315</td>\n",
       "      <td>1.391551</td>\n",
       "      <td>1.341379</td>\n",
       "    </tr>\n",
       "    <tr>\n",
       "      <th>...</th>\n",
       "      <td>...</td>\n",
       "      <td>...</td>\n",
       "      <td>...</td>\n",
       "      <td>...</td>\n",
       "      <td>...</td>\n",
       "      <td>...</td>\n",
       "    </tr>\n",
       "    <tr>\n",
       "      <th>96</th>\n",
       "      <td>DGRP_359</td>\n",
       "      <td>F</td>\n",
       "      <td>0.028636</td>\n",
       "      <td>1.606484</td>\n",
       "      <td>1.620327</td>\n",
       "      <td>1.595721</td>\n",
       "    </tr>\n",
       "    <tr>\n",
       "      <th>97</th>\n",
       "      <td>DGRP_091</td>\n",
       "      <td>F</td>\n",
       "      <td>0.029890</td>\n",
       "      <td>1.716160</td>\n",
       "      <td>1.765672</td>\n",
       "      <td>1.744629</td>\n",
       "    </tr>\n",
       "    <tr>\n",
       "      <th>98</th>\n",
       "      <td>DGRP_176</td>\n",
       "      <td>F</td>\n",
       "      <td>0.031885</td>\n",
       "      <td>1.664873</td>\n",
       "      <td>1.721217</td>\n",
       "      <td>1.698591</td>\n",
       "    </tr>\n",
       "    <tr>\n",
       "      <th>99</th>\n",
       "      <td>DGRP_790</td>\n",
       "      <td>M</td>\n",
       "      <td>0.031894</td>\n",
       "      <td>1.638082</td>\n",
       "      <td>1.632863</td>\n",
       "      <td>1.792953</td>\n",
       "    </tr>\n",
       "    <tr>\n",
       "      <th>100</th>\n",
       "      <td>DGRP_850</td>\n",
       "      <td>F</td>\n",
       "      <td>0.033936</td>\n",
       "      <td>1.648352</td>\n",
       "      <td>1.698413</td>\n",
       "      <td>1.837693</td>\n",
       "    </tr>\n",
       "  </tbody>\n",
       "</table>\n",
       "<p>101 rows × 6 columns</p>\n",
       "</div>"
      ],
      "text/plain": [
       "         DGRP sex    Volume  Entropy0  Entropy1  Entropy2\n",
       "0    DGRP_228   F  0.010634  1.742000  1.856059  1.821565\n",
       "1    DGRP_228   M  0.010962  1.789805  1.835055  2.143064\n",
       "2    DGRP_332   M  0.012916  1.414558  1.402126  1.227755\n",
       "3    DGRP_100   M  0.014155  1.926577  1.925772  2.231003\n",
       "4    DGRP_332   F  0.015221  1.505315  1.391551  1.341379\n",
       "..        ...  ..       ...       ...       ...       ...\n",
       "96   DGRP_359   F  0.028636  1.606484  1.620327  1.595721\n",
       "97   DGRP_091   F  0.029890  1.716160  1.765672  1.744629\n",
       "98   DGRP_176   F  0.031885  1.664873  1.721217  1.698591\n",
       "99   DGRP_790   M  0.031894  1.638082  1.632863  1.792953\n",
       "100  DGRP_850   F  0.033936  1.648352  1.698413  1.837693\n",
       "\n",
       "[101 rows x 6 columns]"
      ]
     },
     "execution_count": 32,
     "metadata": {},
     "output_type": "execute_result"
    }
   ],
   "source": [
    "brain = pd.read_csv(\"/Users/skumar/Documents/PhD/BrainAnalysis/Results_Vol_Entropy/GWAS_Normalized_EntropyVol.tsv\", sep=\"\\t\")\n",
    "brain"
   ]
  },
  {
   "cell_type": "code",
   "execution_count": 33,
   "id": "a431ebed-6364-4030-8643-b82ec19e7e02",
   "metadata": {
    "tags": []
   },
   "outputs": [],
   "source": [
    "def split_string_with_dgrp(df):\n",
    "    DGRP=[]\n",
    "    sex = []\n",
    "    for i in range(len(df)):\n",
    "        if 'dgrp' in df.iloc[i, 1] and df.iloc[i, -3]==True:\n",
    "            #print(df.iloc[i, 1])\n",
    "            #DGRP.append(df.iloc[i, 1].split('dgrp')[1])\n",
    "            DGRP.append(df.iloc[i, 1])\n",
    "            s= df.iloc[i,2]\n",
    "            #if s == \"male\" : s=\"M\"\n",
    "            #else: s=\"F\"\n",
    "            sex.append(s)\n",
    "    return DGRP,sex\n",
    "DGRP,sex = split_string_with_dgrp(behav)"
   ]
  },
  {
   "cell_type": "code",
   "execution_count": 34,
   "id": "563c1870-88df-448a-ab12-1a296d061409",
   "metadata": {
    "tags": []
   },
   "outputs": [],
   "source": [
    "data = behav[behav['genotype'].isin(DGRP) & behav['sex'].isin(sex) & behav[\"head_scanned\"]==True]"
   ]
  },
  {
   "cell_type": "code",
   "execution_count": 35,
   "id": "f6c1e245-7d48-43ff-9328-7f13a40dc591",
   "metadata": {
    "tags": []
   },
   "outputs": [
    {
     "data": {
      "text/html": [
       "<div>\n",
       "<style scoped>\n",
       "    .dataframe tbody tr th:only-of-type {\n",
       "        vertical-align: middle;\n",
       "    }\n",
       "\n",
       "    .dataframe tbody tr th {\n",
       "        vertical-align: top;\n",
       "    }\n",
       "\n",
       "    .dataframe thead th {\n",
       "        text-align: right;\n",
       "    }\n",
       "</style>\n",
       "<table border=\"1\" class=\"dataframe\">\n",
       "  <thead>\n",
       "    <tr style=\"text-align: right;\">\n",
       "      <th></th>\n",
       "      <th>id</th>\n",
       "      <th>genotype</th>\n",
       "      <th>sex</th>\n",
       "      <th>exp_type</th>\n",
       "      <th>shock_color</th>\n",
       "      <th>shock_arm</th>\n",
       "      <th>treatment</th>\n",
       "      <th>replicates</th>\n",
       "      <th>ZT0</th>\n",
       "      <th>ZT</th>\n",
       "      <th>...</th>\n",
       "      <th>post_incorrect_choices</th>\n",
       "      <th>post_analysis_time</th>\n",
       "      <th>group</th>\n",
       "      <th>group_sex</th>\n",
       "      <th>folder</th>\n",
       "      <th>experiment_date</th>\n",
       "      <th>experiment_by</th>\n",
       "      <th>head_scanned</th>\n",
       "      <th>abs_dev</th>\n",
       "      <th>abs_dev_sex</th>\n",
       "    </tr>\n",
       "  </thead>\n",
       "  <tbody>\n",
       "    <tr>\n",
       "      <th>2528</th>\n",
       "      <td>1</td>\n",
       "      <td>dgrp153</td>\n",
       "      <td>female</td>\n",
       "      <td>operant_place</td>\n",
       "      <td>green</td>\n",
       "      <td>L</td>\n",
       "      <td>shock</td>\n",
       "      <td>1</td>\n",
       "      <td>16:00:00</td>\n",
       "      <td>17:42:50</td>\n",
       "      <td>...</td>\n",
       "      <td>NaN</td>\n",
       "      <td>NaN</td>\n",
       "      <td>dgrp153_shock</td>\n",
       "      <td>dgrp153_shock_female</td>\n",
       "      <td>operant_place/20230414/csv/dgrp153_shock/female</td>\n",
       "      <td>20230414</td>\n",
       "      <td>riddha</td>\n",
       "      <td>True</td>\n",
       "      <td>0.168387</td>\n",
       "      <td>0.130132</td>\n",
       "    </tr>\n",
       "    <tr>\n",
       "      <th>2544</th>\n",
       "      <td>9</td>\n",
       "      <td>dgrp153</td>\n",
       "      <td>male</td>\n",
       "      <td>operant_place</td>\n",
       "      <td>green</td>\n",
       "      <td>R</td>\n",
       "      <td>shock</td>\n",
       "      <td>1</td>\n",
       "      <td>16:00:00</td>\n",
       "      <td>17:42:50</td>\n",
       "      <td>...</td>\n",
       "      <td>NaN</td>\n",
       "      <td>NaN</td>\n",
       "      <td>dgrp153_shock</td>\n",
       "      <td>dgrp153_shock_male</td>\n",
       "      <td>operant_place/20230414/csv/dgrp153_shock/male</td>\n",
       "      <td>20230414</td>\n",
       "      <td>riddha</td>\n",
       "      <td>True</td>\n",
       "      <td>0.047087</td>\n",
       "      <td>0.008831</td>\n",
       "    </tr>\n",
       "    <tr>\n",
       "      <th>2592</th>\n",
       "      <td>1</td>\n",
       "      <td>dgrp313</td>\n",
       "      <td>female</td>\n",
       "      <td>operant_place</td>\n",
       "      <td>green</td>\n",
       "      <td>L</td>\n",
       "      <td>shock</td>\n",
       "      <td>1</td>\n",
       "      <td>11:00:00</td>\n",
       "      <td>13:00:22</td>\n",
       "      <td>...</td>\n",
       "      <td>NaN</td>\n",
       "      <td>NaN</td>\n",
       "      <td>dgrp313_shock</td>\n",
       "      <td>dgrp313_shock_female</td>\n",
       "      <td>operant_place/20230414/csv/dgrp313_shock/female</td>\n",
       "      <td>20230414</td>\n",
       "      <td>riddha</td>\n",
       "      <td>True</td>\n",
       "      <td>0.235604</td>\n",
       "      <td>0.245171</td>\n",
       "    </tr>\n",
       "    <tr>\n",
       "      <th>2608</th>\n",
       "      <td>9</td>\n",
       "      <td>dgrp313</td>\n",
       "      <td>male</td>\n",
       "      <td>operant_place</td>\n",
       "      <td>green</td>\n",
       "      <td>R</td>\n",
       "      <td>shock</td>\n",
       "      <td>1</td>\n",
       "      <td>11:00:00</td>\n",
       "      <td>13:00:22</td>\n",
       "      <td>...</td>\n",
       "      <td>NaN</td>\n",
       "      <td>NaN</td>\n",
       "      <td>dgrp313_shock</td>\n",
       "      <td>dgrp313_shock_male</td>\n",
       "      <td>operant_place/20230414/csv/dgrp313_shock/male</td>\n",
       "      <td>20230414</td>\n",
       "      <td>riddha</td>\n",
       "      <td>True</td>\n",
       "      <td>0.103920</td>\n",
       "      <td>0.113488</td>\n",
       "    </tr>\n",
       "    <tr>\n",
       "      <th>2656</th>\n",
       "      <td>1</td>\n",
       "      <td>dgrp721</td>\n",
       "      <td>female</td>\n",
       "      <td>operant_place</td>\n",
       "      <td>green</td>\n",
       "      <td>L</td>\n",
       "      <td>shock</td>\n",
       "      <td>1</td>\n",
       "      <td>11:00:00</td>\n",
       "      <td>14:09:47</td>\n",
       "      <td>...</td>\n",
       "      <td>NaN</td>\n",
       "      <td>NaN</td>\n",
       "      <td>dgrp721_shock</td>\n",
       "      <td>dgrp721_shock_female</td>\n",
       "      <td>operant_place/20230414/csv/dgrp721_shock/female</td>\n",
       "      <td>20230414</td>\n",
       "      <td>riddha</td>\n",
       "      <td>True</td>\n",
       "      <td>0.236740</td>\n",
       "      <td>0.205605</td>\n",
       "    </tr>\n",
       "    <tr>\n",
       "      <th>...</th>\n",
       "      <td>...</td>\n",
       "      <td>...</td>\n",
       "      <td>...</td>\n",
       "      <td>...</td>\n",
       "      <td>...</td>\n",
       "      <td>...</td>\n",
       "      <td>...</td>\n",
       "      <td>...</td>\n",
       "      <td>...</td>\n",
       "      <td>...</td>\n",
       "      <td>...</td>\n",
       "      <td>...</td>\n",
       "      <td>...</td>\n",
       "      <td>...</td>\n",
       "      <td>...</td>\n",
       "      <td>...</td>\n",
       "      <td>...</td>\n",
       "      <td>...</td>\n",
       "      <td>...</td>\n",
       "      <td>...</td>\n",
       "      <td>...</td>\n",
       "    </tr>\n",
       "    <tr>\n",
       "      <th>5049</th>\n",
       "      <td>42</td>\n",
       "      <td>dgrp818</td>\n",
       "      <td>male</td>\n",
       "      <td>operant_place</td>\n",
       "      <td>green</td>\n",
       "      <td>R</td>\n",
       "      <td>shock</td>\n",
       "      <td>2</td>\n",
       "      <td>16:00:00</td>\n",
       "      <td>17:28:50</td>\n",
       "      <td>...</td>\n",
       "      <td>NaN</td>\n",
       "      <td>NaN</td>\n",
       "      <td>dgrp818_shock</td>\n",
       "      <td>dgrp818_shock_male</td>\n",
       "      <td>operant_place/20230710/csv/dgrp818_shock/male</td>\n",
       "      <td>20230710</td>\n",
       "      <td>riddha</td>\n",
       "      <td>True</td>\n",
       "      <td>0.088770</td>\n",
       "      <td>0.061299</td>\n",
       "    </tr>\n",
       "    <tr>\n",
       "      <th>5097</th>\n",
       "      <td>34</td>\n",
       "      <td>dgrp853</td>\n",
       "      <td>female</td>\n",
       "      <td>operant_place</td>\n",
       "      <td>green</td>\n",
       "      <td>L</td>\n",
       "      <td>shock</td>\n",
       "      <td>2</td>\n",
       "      <td>16:00:00</td>\n",
       "      <td>18:33:26</td>\n",
       "      <td>...</td>\n",
       "      <td>NaN</td>\n",
       "      <td>NaN</td>\n",
       "      <td>dgrp853_shock</td>\n",
       "      <td>dgrp853_shock_female</td>\n",
       "      <td>operant_place/20230710/csv/dgrp853_shock/female</td>\n",
       "      <td>20230710</td>\n",
       "      <td>riddha</td>\n",
       "      <td>True</td>\n",
       "      <td>0.221883</td>\n",
       "      <td>0.235297</td>\n",
       "    </tr>\n",
       "    <tr>\n",
       "      <th>5113</th>\n",
       "      <td>42</td>\n",
       "      <td>dgrp853</td>\n",
       "      <td>male</td>\n",
       "      <td>operant_place</td>\n",
       "      <td>green</td>\n",
       "      <td>R</td>\n",
       "      <td>shock</td>\n",
       "      <td>2</td>\n",
       "      <td>16:00:00</td>\n",
       "      <td>18:33:26</td>\n",
       "      <td>...</td>\n",
       "      <td>NaN</td>\n",
       "      <td>NaN</td>\n",
       "      <td>dgrp853_shock</td>\n",
       "      <td>dgrp853_shock_male</td>\n",
       "      <td>operant_place/20230710/csv/dgrp853_shock/male</td>\n",
       "      <td>20230710</td>\n",
       "      <td>riddha</td>\n",
       "      <td>True</td>\n",
       "      <td>0.173586</td>\n",
       "      <td>0.160172</td>\n",
       "    </tr>\n",
       "    <tr>\n",
       "      <th>5161</th>\n",
       "      <td>34</td>\n",
       "      <td>dgrp913</td>\n",
       "      <td>female</td>\n",
       "      <td>operant_place</td>\n",
       "      <td>green</td>\n",
       "      <td>L</td>\n",
       "      <td>shock</td>\n",
       "      <td>2</td>\n",
       "      <td>11:00:00</td>\n",
       "      <td>13:16:11</td>\n",
       "      <td>...</td>\n",
       "      <td>NaN</td>\n",
       "      <td>NaN</td>\n",
       "      <td>dgrp913_shock</td>\n",
       "      <td>dgrp913_shock_female</td>\n",
       "      <td>operant_place/20230710/csv/dgrp913_shock/female</td>\n",
       "      <td>20230710</td>\n",
       "      <td>riddha</td>\n",
       "      <td>True</td>\n",
       "      <td>0.184951</td>\n",
       "      <td>0.162527</td>\n",
       "    </tr>\n",
       "    <tr>\n",
       "      <th>5177</th>\n",
       "      <td>42</td>\n",
       "      <td>dgrp913</td>\n",
       "      <td>male</td>\n",
       "      <td>operant_place</td>\n",
       "      <td>green</td>\n",
       "      <td>R</td>\n",
       "      <td>shock</td>\n",
       "      <td>2</td>\n",
       "      <td>11:00:00</td>\n",
       "      <td>13:16:11</td>\n",
       "      <td>...</td>\n",
       "      <td>NaN</td>\n",
       "      <td>NaN</td>\n",
       "      <td>dgrp913_shock</td>\n",
       "      <td>dgrp913_shock_male</td>\n",
       "      <td>operant_place/20230710/csv/dgrp913_shock/male</td>\n",
       "      <td>20230710</td>\n",
       "      <td>riddha</td>\n",
       "      <td>True</td>\n",
       "      <td>0.147875</td>\n",
       "      <td>0.125452</td>\n",
       "    </tr>\n",
       "  </tbody>\n",
       "</table>\n",
       "<p>84 rows × 48 columns</p>\n",
       "</div>"
      ],
      "text/plain": [
       "      id genotype     sex       exp_type shock_color shock_arm treatment  \\\n",
       "2528   1  dgrp153  female  operant_place       green         L     shock   \n",
       "2544   9  dgrp153    male  operant_place       green         R     shock   \n",
       "2592   1  dgrp313  female  operant_place       green         L     shock   \n",
       "2608   9  dgrp313    male  operant_place       green         R     shock   \n",
       "2656   1  dgrp721  female  operant_place       green         L     shock   \n",
       "...   ..      ...     ...            ...         ...       ...       ...   \n",
       "5049  42  dgrp818    male  operant_place       green         R     shock   \n",
       "5097  34  dgrp853  female  operant_place       green         L     shock   \n",
       "5113  42  dgrp853    male  operant_place       green         R     shock   \n",
       "5161  34  dgrp913  female  operant_place       green         L     shock   \n",
       "5177  42  dgrp913    male  operant_place       green         R     shock   \n",
       "\n",
       "      replicates       ZT0        ZT  ...  post_incorrect_choices  \\\n",
       "2528           1  16:00:00  17:42:50  ...                     NaN   \n",
       "2544           1  16:00:00  17:42:50  ...                     NaN   \n",
       "2592           1  11:00:00  13:00:22  ...                     NaN   \n",
       "2608           1  11:00:00  13:00:22  ...                     NaN   \n",
       "2656           1  11:00:00  14:09:47  ...                     NaN   \n",
       "...          ...       ...       ...  ...                     ...   \n",
       "5049           2  16:00:00  17:28:50  ...                     NaN   \n",
       "5097           2  16:00:00  18:33:26  ...                     NaN   \n",
       "5113           2  16:00:00  18:33:26  ...                     NaN   \n",
       "5161           2  11:00:00  13:16:11  ...                     NaN   \n",
       "5177           2  11:00:00  13:16:11  ...                     NaN   \n",
       "\n",
       "      post_analysis_time          group             group_sex  \\\n",
       "2528                 NaN  dgrp153_shock  dgrp153_shock_female   \n",
       "2544                 NaN  dgrp153_shock    dgrp153_shock_male   \n",
       "2592                 NaN  dgrp313_shock  dgrp313_shock_female   \n",
       "2608                 NaN  dgrp313_shock    dgrp313_shock_male   \n",
       "2656                 NaN  dgrp721_shock  dgrp721_shock_female   \n",
       "...                  ...            ...                   ...   \n",
       "5049                 NaN  dgrp818_shock    dgrp818_shock_male   \n",
       "5097                 NaN  dgrp853_shock  dgrp853_shock_female   \n",
       "5113                 NaN  dgrp853_shock    dgrp853_shock_male   \n",
       "5161                 NaN  dgrp913_shock  dgrp913_shock_female   \n",
       "5177                 NaN  dgrp913_shock    dgrp913_shock_male   \n",
       "\n",
       "                                               folder  experiment_date  \\\n",
       "2528  operant_place/20230414/csv/dgrp153_shock/female         20230414   \n",
       "2544    operant_place/20230414/csv/dgrp153_shock/male         20230414   \n",
       "2592  operant_place/20230414/csv/dgrp313_shock/female         20230414   \n",
       "2608    operant_place/20230414/csv/dgrp313_shock/male         20230414   \n",
       "2656  operant_place/20230414/csv/dgrp721_shock/female         20230414   \n",
       "...                                               ...              ...   \n",
       "5049    operant_place/20230710/csv/dgrp818_shock/male         20230710   \n",
       "5097  operant_place/20230710/csv/dgrp853_shock/female         20230710   \n",
       "5113    operant_place/20230710/csv/dgrp853_shock/male         20230710   \n",
       "5161  operant_place/20230710/csv/dgrp913_shock/female         20230710   \n",
       "5177    operant_place/20230710/csv/dgrp913_shock/male         20230710   \n",
       "\n",
       "      experiment_by  head_scanned   abs_dev  abs_dev_sex  \n",
       "2528         riddha          True  0.168387     0.130132  \n",
       "2544         riddha          True  0.047087     0.008831  \n",
       "2592         riddha          True  0.235604     0.245171  \n",
       "2608         riddha          True  0.103920     0.113488  \n",
       "2656         riddha          True  0.236740     0.205605  \n",
       "...             ...           ...       ...          ...  \n",
       "5049         riddha          True  0.088770     0.061299  \n",
       "5097         riddha          True  0.221883     0.235297  \n",
       "5113         riddha          True  0.173586     0.160172  \n",
       "5161         riddha          True  0.184951     0.162527  \n",
       "5177         riddha          True  0.147875     0.125452  \n",
       "\n",
       "[84 rows x 48 columns]"
      ]
     },
     "execution_count": 35,
     "metadata": {},
     "output_type": "execute_result"
    }
   ],
   "source": [
    "data"
   ]
  },
  {
   "cell_type": "code",
   "execution_count": 36,
   "id": "5b26a1ee-3601-4e94-9e10-a602ef3da0ac",
   "metadata": {
    "tags": []
   },
   "outputs": [
    {
     "name": "stderr",
     "output_type": "stream",
     "text": [
      "/var/folders/jc/23tmvmc554b_hqpgl1mn9wch0000gq/T/ipykernel_45881/255209310.py:1: SettingWithCopyWarning:\n",
      "\n",
      "\n",
      "A value is trying to be set on a copy of a slice from a DataFrame.\n",
      "Try using .loc[row_indexer,col_indexer] = value instead\n",
      "\n",
      "See the caveats in the documentation: https://pandas.pydata.org/pandas-docs/stable/user_guide/indexing.html#returning-a-view-versus-a-copy\n",
      "\n"
     ]
    }
   ],
   "source": [
    "data['genotype'] = \"DGRP_\"+data['genotype'].str.split('dgrp').str.get(1)"
   ]
  },
  {
   "cell_type": "code",
   "execution_count": 37,
   "id": "48a232bc-4741-4689-9cae-c5bfc042db4a",
   "metadata": {
    "tags": []
   },
   "outputs": [
    {
     "name": "stderr",
     "output_type": "stream",
     "text": [
      "/var/folders/jc/23tmvmc554b_hqpgl1mn9wch0000gq/T/ipykernel_45881/3106402434.py:1: SettingWithCopyWarning:\n",
      "\n",
      "\n",
      "A value is trying to be set on a copy of a slice from a DataFrame\n",
      "\n",
      "See the caveats in the documentation: https://pandas.pydata.org/pandas-docs/stable/user_guide/indexing.html#returning-a-view-versus-a-copy\n",
      "\n"
     ]
    }
   ],
   "source": [
    "data.rename(columns={'genotype': 'DGRP'}, inplace=True)"
   ]
  },
  {
   "cell_type": "code",
   "execution_count": 38,
   "id": "d4f18cfa-54af-4038-89e9-c3571d38afa2",
   "metadata": {
    "tags": []
   },
   "outputs": [
    {
     "name": "stderr",
     "output_type": "stream",
     "text": [
      "/var/folders/jc/23tmvmc554b_hqpgl1mn9wch0000gq/T/ipykernel_45881/264158564.py:1: SettingWithCopyWarning:\n",
      "\n",
      "\n",
      "A value is trying to be set on a copy of a slice from a DataFrame.\n",
      "Try using .loc[row_indexer,col_indexer] = value instead\n",
      "\n",
      "See the caveats in the documentation: https://pandas.pydata.org/pandas-docs/stable/user_guide/indexing.html#returning-a-view-versus-a-copy\n",
      "\n"
     ]
    }
   ],
   "source": [
    "data[\"sex\"] = data[\"sex\"].replace([\"male\", \"female\"], [\"M\", \"F\"])"
   ]
  },
  {
   "cell_type": "code",
   "execution_count": 39,
   "id": "57b9d12d-da17-4e16-b8bd-04defdfaf1c0",
   "metadata": {
    "tags": []
   },
   "outputs": [
    {
     "data": {
      "text/html": [
       "<div>\n",
       "<style scoped>\n",
       "    .dataframe tbody tr th:only-of-type {\n",
       "        vertical-align: middle;\n",
       "    }\n",
       "\n",
       "    .dataframe tbody tr th {\n",
       "        vertical-align: top;\n",
       "    }\n",
       "\n",
       "    .dataframe thead th {\n",
       "        text-align: right;\n",
       "    }\n",
       "</style>\n",
       "<table border=\"1\" class=\"dataframe\">\n",
       "  <thead>\n",
       "    <tr style=\"text-align: right;\">\n",
       "      <th></th>\n",
       "      <th>id</th>\n",
       "      <th>DGRP</th>\n",
       "      <th>sex</th>\n",
       "      <th>exp_type</th>\n",
       "      <th>shock_color</th>\n",
       "      <th>shock_arm</th>\n",
       "      <th>treatment</th>\n",
       "      <th>replicates</th>\n",
       "      <th>ZT0</th>\n",
       "      <th>ZT</th>\n",
       "      <th>...</th>\n",
       "      <th>post_incorrect_choices</th>\n",
       "      <th>post_analysis_time</th>\n",
       "      <th>group</th>\n",
       "      <th>group_sex</th>\n",
       "      <th>folder</th>\n",
       "      <th>experiment_date</th>\n",
       "      <th>experiment_by</th>\n",
       "      <th>head_scanned</th>\n",
       "      <th>abs_dev</th>\n",
       "      <th>abs_dev_sex</th>\n",
       "    </tr>\n",
       "  </thead>\n",
       "  <tbody>\n",
       "    <tr>\n",
       "      <th>2528</th>\n",
       "      <td>1</td>\n",
       "      <td>DGRP_153</td>\n",
       "      <td>F</td>\n",
       "      <td>operant_place</td>\n",
       "      <td>green</td>\n",
       "      <td>L</td>\n",
       "      <td>shock</td>\n",
       "      <td>1</td>\n",
       "      <td>16:00:00</td>\n",
       "      <td>17:42:50</td>\n",
       "      <td>...</td>\n",
       "      <td>NaN</td>\n",
       "      <td>NaN</td>\n",
       "      <td>dgrp153_shock</td>\n",
       "      <td>dgrp153_shock_female</td>\n",
       "      <td>operant_place/20230414/csv/dgrp153_shock/female</td>\n",
       "      <td>20230414</td>\n",
       "      <td>riddha</td>\n",
       "      <td>True</td>\n",
       "      <td>0.168387</td>\n",
       "      <td>0.130132</td>\n",
       "    </tr>\n",
       "    <tr>\n",
       "      <th>2544</th>\n",
       "      <td>9</td>\n",
       "      <td>DGRP_153</td>\n",
       "      <td>M</td>\n",
       "      <td>operant_place</td>\n",
       "      <td>green</td>\n",
       "      <td>R</td>\n",
       "      <td>shock</td>\n",
       "      <td>1</td>\n",
       "      <td>16:00:00</td>\n",
       "      <td>17:42:50</td>\n",
       "      <td>...</td>\n",
       "      <td>NaN</td>\n",
       "      <td>NaN</td>\n",
       "      <td>dgrp153_shock</td>\n",
       "      <td>dgrp153_shock_male</td>\n",
       "      <td>operant_place/20230414/csv/dgrp153_shock/male</td>\n",
       "      <td>20230414</td>\n",
       "      <td>riddha</td>\n",
       "      <td>True</td>\n",
       "      <td>0.047087</td>\n",
       "      <td>0.008831</td>\n",
       "    </tr>\n",
       "    <tr>\n",
       "      <th>2592</th>\n",
       "      <td>1</td>\n",
       "      <td>DGRP_313</td>\n",
       "      <td>F</td>\n",
       "      <td>operant_place</td>\n",
       "      <td>green</td>\n",
       "      <td>L</td>\n",
       "      <td>shock</td>\n",
       "      <td>1</td>\n",
       "      <td>11:00:00</td>\n",
       "      <td>13:00:22</td>\n",
       "      <td>...</td>\n",
       "      <td>NaN</td>\n",
       "      <td>NaN</td>\n",
       "      <td>dgrp313_shock</td>\n",
       "      <td>dgrp313_shock_female</td>\n",
       "      <td>operant_place/20230414/csv/dgrp313_shock/female</td>\n",
       "      <td>20230414</td>\n",
       "      <td>riddha</td>\n",
       "      <td>True</td>\n",
       "      <td>0.235604</td>\n",
       "      <td>0.245171</td>\n",
       "    </tr>\n",
       "    <tr>\n",
       "      <th>2608</th>\n",
       "      <td>9</td>\n",
       "      <td>DGRP_313</td>\n",
       "      <td>M</td>\n",
       "      <td>operant_place</td>\n",
       "      <td>green</td>\n",
       "      <td>R</td>\n",
       "      <td>shock</td>\n",
       "      <td>1</td>\n",
       "      <td>11:00:00</td>\n",
       "      <td>13:00:22</td>\n",
       "      <td>...</td>\n",
       "      <td>NaN</td>\n",
       "      <td>NaN</td>\n",
       "      <td>dgrp313_shock</td>\n",
       "      <td>dgrp313_shock_male</td>\n",
       "      <td>operant_place/20230414/csv/dgrp313_shock/male</td>\n",
       "      <td>20230414</td>\n",
       "      <td>riddha</td>\n",
       "      <td>True</td>\n",
       "      <td>0.103920</td>\n",
       "      <td>0.113488</td>\n",
       "    </tr>\n",
       "    <tr>\n",
       "      <th>2656</th>\n",
       "      <td>1</td>\n",
       "      <td>DGRP_721</td>\n",
       "      <td>F</td>\n",
       "      <td>operant_place</td>\n",
       "      <td>green</td>\n",
       "      <td>L</td>\n",
       "      <td>shock</td>\n",
       "      <td>1</td>\n",
       "      <td>11:00:00</td>\n",
       "      <td>14:09:47</td>\n",
       "      <td>...</td>\n",
       "      <td>NaN</td>\n",
       "      <td>NaN</td>\n",
       "      <td>dgrp721_shock</td>\n",
       "      <td>dgrp721_shock_female</td>\n",
       "      <td>operant_place/20230414/csv/dgrp721_shock/female</td>\n",
       "      <td>20230414</td>\n",
       "      <td>riddha</td>\n",
       "      <td>True</td>\n",
       "      <td>0.236740</td>\n",
       "      <td>0.205605</td>\n",
       "    </tr>\n",
       "    <tr>\n",
       "      <th>...</th>\n",
       "      <td>...</td>\n",
       "      <td>...</td>\n",
       "      <td>...</td>\n",
       "      <td>...</td>\n",
       "      <td>...</td>\n",
       "      <td>...</td>\n",
       "      <td>...</td>\n",
       "      <td>...</td>\n",
       "      <td>...</td>\n",
       "      <td>...</td>\n",
       "      <td>...</td>\n",
       "      <td>...</td>\n",
       "      <td>...</td>\n",
       "      <td>...</td>\n",
       "      <td>...</td>\n",
       "      <td>...</td>\n",
       "      <td>...</td>\n",
       "      <td>...</td>\n",
       "      <td>...</td>\n",
       "      <td>...</td>\n",
       "      <td>...</td>\n",
       "    </tr>\n",
       "    <tr>\n",
       "      <th>5049</th>\n",
       "      <td>42</td>\n",
       "      <td>DGRP_818</td>\n",
       "      <td>M</td>\n",
       "      <td>operant_place</td>\n",
       "      <td>green</td>\n",
       "      <td>R</td>\n",
       "      <td>shock</td>\n",
       "      <td>2</td>\n",
       "      <td>16:00:00</td>\n",
       "      <td>17:28:50</td>\n",
       "      <td>...</td>\n",
       "      <td>NaN</td>\n",
       "      <td>NaN</td>\n",
       "      <td>dgrp818_shock</td>\n",
       "      <td>dgrp818_shock_male</td>\n",
       "      <td>operant_place/20230710/csv/dgrp818_shock/male</td>\n",
       "      <td>20230710</td>\n",
       "      <td>riddha</td>\n",
       "      <td>True</td>\n",
       "      <td>0.088770</td>\n",
       "      <td>0.061299</td>\n",
       "    </tr>\n",
       "    <tr>\n",
       "      <th>5097</th>\n",
       "      <td>34</td>\n",
       "      <td>DGRP_853</td>\n",
       "      <td>F</td>\n",
       "      <td>operant_place</td>\n",
       "      <td>green</td>\n",
       "      <td>L</td>\n",
       "      <td>shock</td>\n",
       "      <td>2</td>\n",
       "      <td>16:00:00</td>\n",
       "      <td>18:33:26</td>\n",
       "      <td>...</td>\n",
       "      <td>NaN</td>\n",
       "      <td>NaN</td>\n",
       "      <td>dgrp853_shock</td>\n",
       "      <td>dgrp853_shock_female</td>\n",
       "      <td>operant_place/20230710/csv/dgrp853_shock/female</td>\n",
       "      <td>20230710</td>\n",
       "      <td>riddha</td>\n",
       "      <td>True</td>\n",
       "      <td>0.221883</td>\n",
       "      <td>0.235297</td>\n",
       "    </tr>\n",
       "    <tr>\n",
       "      <th>5113</th>\n",
       "      <td>42</td>\n",
       "      <td>DGRP_853</td>\n",
       "      <td>M</td>\n",
       "      <td>operant_place</td>\n",
       "      <td>green</td>\n",
       "      <td>R</td>\n",
       "      <td>shock</td>\n",
       "      <td>2</td>\n",
       "      <td>16:00:00</td>\n",
       "      <td>18:33:26</td>\n",
       "      <td>...</td>\n",
       "      <td>NaN</td>\n",
       "      <td>NaN</td>\n",
       "      <td>dgrp853_shock</td>\n",
       "      <td>dgrp853_shock_male</td>\n",
       "      <td>operant_place/20230710/csv/dgrp853_shock/male</td>\n",
       "      <td>20230710</td>\n",
       "      <td>riddha</td>\n",
       "      <td>True</td>\n",
       "      <td>0.173586</td>\n",
       "      <td>0.160172</td>\n",
       "    </tr>\n",
       "    <tr>\n",
       "      <th>5161</th>\n",
       "      <td>34</td>\n",
       "      <td>DGRP_913</td>\n",
       "      <td>F</td>\n",
       "      <td>operant_place</td>\n",
       "      <td>green</td>\n",
       "      <td>L</td>\n",
       "      <td>shock</td>\n",
       "      <td>2</td>\n",
       "      <td>11:00:00</td>\n",
       "      <td>13:16:11</td>\n",
       "      <td>...</td>\n",
       "      <td>NaN</td>\n",
       "      <td>NaN</td>\n",
       "      <td>dgrp913_shock</td>\n",
       "      <td>dgrp913_shock_female</td>\n",
       "      <td>operant_place/20230710/csv/dgrp913_shock/female</td>\n",
       "      <td>20230710</td>\n",
       "      <td>riddha</td>\n",
       "      <td>True</td>\n",
       "      <td>0.184951</td>\n",
       "      <td>0.162527</td>\n",
       "    </tr>\n",
       "    <tr>\n",
       "      <th>5177</th>\n",
       "      <td>42</td>\n",
       "      <td>DGRP_913</td>\n",
       "      <td>M</td>\n",
       "      <td>operant_place</td>\n",
       "      <td>green</td>\n",
       "      <td>R</td>\n",
       "      <td>shock</td>\n",
       "      <td>2</td>\n",
       "      <td>11:00:00</td>\n",
       "      <td>13:16:11</td>\n",
       "      <td>...</td>\n",
       "      <td>NaN</td>\n",
       "      <td>NaN</td>\n",
       "      <td>dgrp913_shock</td>\n",
       "      <td>dgrp913_shock_male</td>\n",
       "      <td>operant_place/20230710/csv/dgrp913_shock/male</td>\n",
       "      <td>20230710</td>\n",
       "      <td>riddha</td>\n",
       "      <td>True</td>\n",
       "      <td>0.147875</td>\n",
       "      <td>0.125452</td>\n",
       "    </tr>\n",
       "  </tbody>\n",
       "</table>\n",
       "<p>84 rows × 48 columns</p>\n",
       "</div>"
      ],
      "text/plain": [
       "      id      DGRP sex       exp_type shock_color shock_arm treatment  \\\n",
       "2528   1  DGRP_153   F  operant_place       green         L     shock   \n",
       "2544   9  DGRP_153   M  operant_place       green         R     shock   \n",
       "2592   1  DGRP_313   F  operant_place       green         L     shock   \n",
       "2608   9  DGRP_313   M  operant_place       green         R     shock   \n",
       "2656   1  DGRP_721   F  operant_place       green         L     shock   \n",
       "...   ..       ...  ..            ...         ...       ...       ...   \n",
       "5049  42  DGRP_818   M  operant_place       green         R     shock   \n",
       "5097  34  DGRP_853   F  operant_place       green         L     shock   \n",
       "5113  42  DGRP_853   M  operant_place       green         R     shock   \n",
       "5161  34  DGRP_913   F  operant_place       green         L     shock   \n",
       "5177  42  DGRP_913   M  operant_place       green         R     shock   \n",
       "\n",
       "      replicates       ZT0        ZT  ...  post_incorrect_choices  \\\n",
       "2528           1  16:00:00  17:42:50  ...                     NaN   \n",
       "2544           1  16:00:00  17:42:50  ...                     NaN   \n",
       "2592           1  11:00:00  13:00:22  ...                     NaN   \n",
       "2608           1  11:00:00  13:00:22  ...                     NaN   \n",
       "2656           1  11:00:00  14:09:47  ...                     NaN   \n",
       "...          ...       ...       ...  ...                     ...   \n",
       "5049           2  16:00:00  17:28:50  ...                     NaN   \n",
       "5097           2  16:00:00  18:33:26  ...                     NaN   \n",
       "5113           2  16:00:00  18:33:26  ...                     NaN   \n",
       "5161           2  11:00:00  13:16:11  ...                     NaN   \n",
       "5177           2  11:00:00  13:16:11  ...                     NaN   \n",
       "\n",
       "      post_analysis_time          group             group_sex  \\\n",
       "2528                 NaN  dgrp153_shock  dgrp153_shock_female   \n",
       "2544                 NaN  dgrp153_shock    dgrp153_shock_male   \n",
       "2592                 NaN  dgrp313_shock  dgrp313_shock_female   \n",
       "2608                 NaN  dgrp313_shock    dgrp313_shock_male   \n",
       "2656                 NaN  dgrp721_shock  dgrp721_shock_female   \n",
       "...                  ...            ...                   ...   \n",
       "5049                 NaN  dgrp818_shock    dgrp818_shock_male   \n",
       "5097                 NaN  dgrp853_shock  dgrp853_shock_female   \n",
       "5113                 NaN  dgrp853_shock    dgrp853_shock_male   \n",
       "5161                 NaN  dgrp913_shock  dgrp913_shock_female   \n",
       "5177                 NaN  dgrp913_shock    dgrp913_shock_male   \n",
       "\n",
       "                                               folder  experiment_date  \\\n",
       "2528  operant_place/20230414/csv/dgrp153_shock/female         20230414   \n",
       "2544    operant_place/20230414/csv/dgrp153_shock/male         20230414   \n",
       "2592  operant_place/20230414/csv/dgrp313_shock/female         20230414   \n",
       "2608    operant_place/20230414/csv/dgrp313_shock/male         20230414   \n",
       "2656  operant_place/20230414/csv/dgrp721_shock/female         20230414   \n",
       "...                                               ...              ...   \n",
       "5049    operant_place/20230710/csv/dgrp818_shock/male         20230710   \n",
       "5097  operant_place/20230710/csv/dgrp853_shock/female         20230710   \n",
       "5113    operant_place/20230710/csv/dgrp853_shock/male         20230710   \n",
       "5161  operant_place/20230710/csv/dgrp913_shock/female         20230710   \n",
       "5177    operant_place/20230710/csv/dgrp913_shock/male         20230710   \n",
       "\n",
       "      experiment_by  head_scanned   abs_dev  abs_dev_sex  \n",
       "2528         riddha          True  0.168387     0.130132  \n",
       "2544         riddha          True  0.047087     0.008831  \n",
       "2592         riddha          True  0.235604     0.245171  \n",
       "2608         riddha          True  0.103920     0.113488  \n",
       "2656         riddha          True  0.236740     0.205605  \n",
       "...             ...           ...       ...          ...  \n",
       "5049         riddha          True  0.088770     0.061299  \n",
       "5097         riddha          True  0.221883     0.235297  \n",
       "5113         riddha          True  0.173586     0.160172  \n",
       "5161         riddha          True  0.184951     0.162527  \n",
       "5177         riddha          True  0.147875     0.125452  \n",
       "\n",
       "[84 rows x 48 columns]"
      ]
     },
     "execution_count": 39,
     "metadata": {},
     "output_type": "execute_result"
    }
   ],
   "source": [
    "data"
   ]
  },
  {
   "cell_type": "code",
   "execution_count": 40,
   "id": "5d534b56-e335-4c54-af8e-12372438fe73",
   "metadata": {
    "tags": []
   },
   "outputs": [],
   "source": [
    "merged_df = pd.merge(brain, data, on=['DGRP', 'sex'])"
   ]
  },
  {
   "cell_type": "code",
   "execution_count": 41,
   "id": "ba734e6d-4692-45c9-b3de-5f43610289e5",
   "metadata": {
    "tags": []
   },
   "outputs": [
    {
     "data": {
      "text/html": [
       "<div>\n",
       "<style scoped>\n",
       "    .dataframe tbody tr th:only-of-type {\n",
       "        vertical-align: middle;\n",
       "    }\n",
       "\n",
       "    .dataframe tbody tr th {\n",
       "        vertical-align: top;\n",
       "    }\n",
       "\n",
       "    .dataframe thead th {\n",
       "        text-align: right;\n",
       "    }\n",
       "</style>\n",
       "<table border=\"1\" class=\"dataframe\">\n",
       "  <thead>\n",
       "    <tr style=\"text-align: right;\">\n",
       "      <th></th>\n",
       "      <th>DGRP</th>\n",
       "      <th>sex</th>\n",
       "      <th>Volume</th>\n",
       "      <th>Entropy0</th>\n",
       "      <th>Entropy1</th>\n",
       "      <th>Entropy2</th>\n",
       "      <th>id</th>\n",
       "      <th>exp_type</th>\n",
       "      <th>shock_color</th>\n",
       "      <th>shock_arm</th>\n",
       "      <th>...</th>\n",
       "      <th>post_incorrect_choices</th>\n",
       "      <th>post_analysis_time</th>\n",
       "      <th>group</th>\n",
       "      <th>group_sex</th>\n",
       "      <th>folder</th>\n",
       "      <th>experiment_date</th>\n",
       "      <th>experiment_by</th>\n",
       "      <th>head_scanned</th>\n",
       "      <th>abs_dev</th>\n",
       "      <th>abs_dev_sex</th>\n",
       "    </tr>\n",
       "  </thead>\n",
       "  <tbody>\n",
       "    <tr>\n",
       "      <th>0</th>\n",
       "      <td>DGRP_732</td>\n",
       "      <td>F</td>\n",
       "      <td>0.015346</td>\n",
       "      <td>1.588548</td>\n",
       "      <td>1.597554</td>\n",
       "      <td>1.260962</td>\n",
       "      <td>40</td>\n",
       "      <td>operant_place</td>\n",
       "      <td>blue</td>\n",
       "      <td>L</td>\n",
       "      <td>...</td>\n",
       "      <td>NaN</td>\n",
       "      <td>NaN</td>\n",
       "      <td>dgrp732_shock</td>\n",
       "      <td>dgrp732_shock_female</td>\n",
       "      <td>operant_place/20230621/csv/dgrp732_shock/female</td>\n",
       "      <td>20230621</td>\n",
       "      <td>riddha</td>\n",
       "      <td>True</td>\n",
       "      <td>0.164331</td>\n",
       "      <td>0.167038</td>\n",
       "    </tr>\n",
       "    <tr>\n",
       "      <th>1</th>\n",
       "      <td>DGRP_737</td>\n",
       "      <td>F</td>\n",
       "      <td>0.015415</td>\n",
       "      <td>1.872372</td>\n",
       "      <td>1.885794</td>\n",
       "      <td>2.107636</td>\n",
       "      <td>2</td>\n",
       "      <td>operant_place</td>\n",
       "      <td>blue</td>\n",
       "      <td>M</td>\n",
       "      <td>...</td>\n",
       "      <td>NaN</td>\n",
       "      <td>NaN</td>\n",
       "      <td>dgrp737_shock</td>\n",
       "      <td>dgrp737_shock_female</td>\n",
       "      <td>operant_place/20230707/csv/dgrp737_shock/female</td>\n",
       "      <td>20230707</td>\n",
       "      <td>riddha</td>\n",
       "      <td>True</td>\n",
       "      <td>0.207584</td>\n",
       "      <td>0.196769</td>\n",
       "    </tr>\n",
       "    <tr>\n",
       "      <th>2</th>\n",
       "      <td>DGRP_732</td>\n",
       "      <td>M</td>\n",
       "      <td>0.016771</td>\n",
       "      <td>1.783274</td>\n",
       "      <td>1.885432</td>\n",
       "      <td>1.737984</td>\n",
       "      <td>48</td>\n",
       "      <td>operant_place</td>\n",
       "      <td>blue</td>\n",
       "      <td>R</td>\n",
       "      <td>...</td>\n",
       "      <td>NaN</td>\n",
       "      <td>NaN</td>\n",
       "      <td>dgrp732_shock</td>\n",
       "      <td>dgrp732_shock_male</td>\n",
       "      <td>operant_place/20230621/csv/dgrp732_shock/male</td>\n",
       "      <td>20230621</td>\n",
       "      <td>riddha</td>\n",
       "      <td>True</td>\n",
       "      <td>0.140436</td>\n",
       "      <td>0.137686</td>\n",
       "    </tr>\n",
       "    <tr>\n",
       "      <th>3</th>\n",
       "      <td>DGRP_309</td>\n",
       "      <td>F</td>\n",
       "      <td>0.017028</td>\n",
       "      <td>1.472865</td>\n",
       "      <td>1.705017</td>\n",
       "      <td>1.962350</td>\n",
       "      <td>1</td>\n",
       "      <td>operant_place</td>\n",
       "      <td>blue</td>\n",
       "      <td>L</td>\n",
       "      <td>...</td>\n",
       "      <td>NaN</td>\n",
       "      <td>NaN</td>\n",
       "      <td>dgrp309_shock</td>\n",
       "      <td>dgrp309_shock_female</td>\n",
       "      <td>operant_place/20230703/csv/dgrp309_shock/female</td>\n",
       "      <td>20230703</td>\n",
       "      <td>riddha</td>\n",
       "      <td>True</td>\n",
       "      <td>0.053567</td>\n",
       "      <td>0.057445</td>\n",
       "    </tr>\n",
       "    <tr>\n",
       "      <th>4</th>\n",
       "      <td>DGRP_437</td>\n",
       "      <td>M</td>\n",
       "      <td>0.017706</td>\n",
       "      <td>1.640324</td>\n",
       "      <td>1.689384</td>\n",
       "      <td>1.834623</td>\n",
       "      <td>10</td>\n",
       "      <td>operant_place</td>\n",
       "      <td>blue</td>\n",
       "      <td>L</td>\n",
       "      <td>...</td>\n",
       "      <td>NaN</td>\n",
       "      <td>NaN</td>\n",
       "      <td>dgrp437_shock</td>\n",
       "      <td>dgrp437_shock_male</td>\n",
       "      <td>operant_place/20230705/csv/dgrp437_shock/male</td>\n",
       "      <td>20230705</td>\n",
       "      <td>riddha</td>\n",
       "      <td>True</td>\n",
       "      <td>0.042431</td>\n",
       "      <td>0.040824</td>\n",
       "    </tr>\n",
       "    <tr>\n",
       "      <th>5</th>\n",
       "      <td>DGRP_309</td>\n",
       "      <td>M</td>\n",
       "      <td>0.017826</td>\n",
       "      <td>1.736349</td>\n",
       "      <td>1.755159</td>\n",
       "      <td>1.873762</td>\n",
       "      <td>9</td>\n",
       "      <td>operant_place</td>\n",
       "      <td>blue</td>\n",
       "      <td>R</td>\n",
       "      <td>...</td>\n",
       "      <td>NaN</td>\n",
       "      <td>NaN</td>\n",
       "      <td>dgrp309_shock</td>\n",
       "      <td>dgrp309_shock_male</td>\n",
       "      <td>operant_place/20230703/csv/dgrp309_shock/male</td>\n",
       "      <td>20230703</td>\n",
       "      <td>riddha</td>\n",
       "      <td>True</td>\n",
       "      <td>0.110822</td>\n",
       "      <td>0.106943</td>\n",
       "    </tr>\n",
       "    <tr>\n",
       "      <th>6</th>\n",
       "      <td>DGRP_354</td>\n",
       "      <td>F</td>\n",
       "      <td>0.018734</td>\n",
       "      <td>1.496644</td>\n",
       "      <td>1.578005</td>\n",
       "      <td>1.880820</td>\n",
       "      <td>40</td>\n",
       "      <td>operant_place</td>\n",
       "      <td>green</td>\n",
       "      <td>L</td>\n",
       "      <td>...</td>\n",
       "      <td>NaN</td>\n",
       "      <td>NaN</td>\n",
       "      <td>dgrp354_shock</td>\n",
       "      <td>dgrp354_shock_female</td>\n",
       "      <td>operant_place/20230621/csv/dgrp354_shock/female</td>\n",
       "      <td>20230621</td>\n",
       "      <td>riddha</td>\n",
       "      <td>True</td>\n",
       "      <td>0.017099</td>\n",
       "      <td>0.002430</td>\n",
       "    </tr>\n",
       "    <tr>\n",
       "      <th>7</th>\n",
       "      <td>DGRP_786</td>\n",
       "      <td>F</td>\n",
       "      <td>0.018789</td>\n",
       "      <td>1.650172</td>\n",
       "      <td>1.683090</td>\n",
       "      <td>1.689623</td>\n",
       "      <td>2</td>\n",
       "      <td>operant_place</td>\n",
       "      <td>blue</td>\n",
       "      <td>M</td>\n",
       "      <td>...</td>\n",
       "      <td>NaN</td>\n",
       "      <td>NaN</td>\n",
       "      <td>dgrp786_shock</td>\n",
       "      <td>dgrp786_shock_female</td>\n",
       "      <td>operant_place/20230705/csv/dgrp786_shock/female</td>\n",
       "      <td>20230705</td>\n",
       "      <td>riddha</td>\n",
       "      <td>True</td>\n",
       "      <td>0.148576</td>\n",
       "      <td>0.154391</td>\n",
       "    </tr>\n",
       "    <tr>\n",
       "      <th>8</th>\n",
       "      <td>DGRP_737</td>\n",
       "      <td>M</td>\n",
       "      <td>0.018805</td>\n",
       "      <td>1.808627</td>\n",
       "      <td>1.864490</td>\n",
       "      <td>2.106834</td>\n",
       "      <td>10</td>\n",
       "      <td>operant_place</td>\n",
       "      <td>blue</td>\n",
       "      <td>L</td>\n",
       "      <td>...</td>\n",
       "      <td>NaN</td>\n",
       "      <td>NaN</td>\n",
       "      <td>dgrp737_shock</td>\n",
       "      <td>dgrp737_shock_male</td>\n",
       "      <td>operant_place/20230707/csv/dgrp737_shock/male</td>\n",
       "      <td>20230707</td>\n",
       "      <td>riddha</td>\n",
       "      <td>True</td>\n",
       "      <td>0.080066</td>\n",
       "      <td>0.069080</td>\n",
       "    </tr>\n",
       "    <tr>\n",
       "      <th>9</th>\n",
       "      <td>DGRP_354</td>\n",
       "      <td>M</td>\n",
       "      <td>0.019798</td>\n",
       "      <td>1.465704</td>\n",
       "      <td>1.632769</td>\n",
       "      <td>1.955570</td>\n",
       "      <td>48</td>\n",
       "      <td>operant_place</td>\n",
       "      <td>green</td>\n",
       "      <td>R</td>\n",
       "      <td>...</td>\n",
       "      <td>NaN</td>\n",
       "      <td>NaN</td>\n",
       "      <td>dgrp354_shock</td>\n",
       "      <td>dgrp354_shock_male</td>\n",
       "      <td>operant_place/20230621/csv/dgrp354_shock/male</td>\n",
       "      <td>20230621</td>\n",
       "      <td>riddha</td>\n",
       "      <td>True</td>\n",
       "      <td>0.094630</td>\n",
       "      <td>0.113490</td>\n",
       "    </tr>\n",
       "    <tr>\n",
       "      <th>10</th>\n",
       "      <td>DGRP_437</td>\n",
       "      <td>F</td>\n",
       "      <td>0.019896</td>\n",
       "      <td>1.616853</td>\n",
       "      <td>1.677944</td>\n",
       "      <td>1.791408</td>\n",
       "      <td>2</td>\n",
       "      <td>operant_place</td>\n",
       "      <td>blue</td>\n",
       "      <td>M</td>\n",
       "      <td>...</td>\n",
       "      <td>NaN</td>\n",
       "      <td>NaN</td>\n",
       "      <td>dgrp437_shock</td>\n",
       "      <td>dgrp437_shock_female</td>\n",
       "      <td>operant_place/20230705/csv/dgrp437_shock/female</td>\n",
       "      <td>20230705</td>\n",
       "      <td>riddha</td>\n",
       "      <td>True</td>\n",
       "      <td>0.157227</td>\n",
       "      <td>0.158835</td>\n",
       "    </tr>\n",
       "    <tr>\n",
       "      <th>11</th>\n",
       "      <td>DGRP_853</td>\n",
       "      <td>M</td>\n",
       "      <td>0.019990</td>\n",
       "      <td>1.646468</td>\n",
       "      <td>1.791665</td>\n",
       "      <td>2.156338</td>\n",
       "      <td>42</td>\n",
       "      <td>operant_place</td>\n",
       "      <td>green</td>\n",
       "      <td>R</td>\n",
       "      <td>...</td>\n",
       "      <td>NaN</td>\n",
       "      <td>NaN</td>\n",
       "      <td>dgrp853_shock</td>\n",
       "      <td>dgrp853_shock_male</td>\n",
       "      <td>operant_place/20230710/csv/dgrp853_shock/male</td>\n",
       "      <td>20230710</td>\n",
       "      <td>riddha</td>\n",
       "      <td>True</td>\n",
       "      <td>0.173586</td>\n",
       "      <td>0.160172</td>\n",
       "    </tr>\n",
       "    <tr>\n",
       "      <th>12</th>\n",
       "      <td>DGRP_786</td>\n",
       "      <td>M</td>\n",
       "      <td>0.021380</td>\n",
       "      <td>1.658725</td>\n",
       "      <td>1.704068</td>\n",
       "      <td>1.609534</td>\n",
       "      <td>10</td>\n",
       "      <td>operant_place</td>\n",
       "      <td>blue</td>\n",
       "      <td>L</td>\n",
       "      <td>...</td>\n",
       "      <td>NaN</td>\n",
       "      <td>NaN</td>\n",
       "      <td>dgrp786_shock</td>\n",
       "      <td>dgrp786_shock_male</td>\n",
       "      <td>operant_place/20230705/csv/dgrp786_shock/male</td>\n",
       "      <td>20230705</td>\n",
       "      <td>riddha</td>\n",
       "      <td>True</td>\n",
       "      <td>0.228288</td>\n",
       "      <td>0.222473</td>\n",
       "    </tr>\n",
       "    <tr>\n",
       "      <th>13</th>\n",
       "      <td>DGRP_850</td>\n",
       "      <td>M</td>\n",
       "      <td>0.021624</td>\n",
       "      <td>1.833879</td>\n",
       "      <td>1.853082</td>\n",
       "      <td>2.141067</td>\n",
       "      <td>9</td>\n",
       "      <td>operant_place</td>\n",
       "      <td>green</td>\n",
       "      <td>R</td>\n",
       "      <td>...</td>\n",
       "      <td>NaN</td>\n",
       "      <td>NaN</td>\n",
       "      <td>dgrp850_shock</td>\n",
       "      <td>dgrp850_shock_male</td>\n",
       "      <td>operant_place/20230703/csv/dgrp850_shock/male</td>\n",
       "      <td>20230703</td>\n",
       "      <td>riddha</td>\n",
       "      <td>True</td>\n",
       "      <td>0.072065</td>\n",
       "      <td>0.069440</td>\n",
       "    </tr>\n",
       "    <tr>\n",
       "      <th>14</th>\n",
       "      <td>DGRP_405</td>\n",
       "      <td>F</td>\n",
       "      <td>0.022453</td>\n",
       "      <td>1.675530</td>\n",
       "      <td>1.729582</td>\n",
       "      <td>2.025458</td>\n",
       "      <td>1</td>\n",
       "      <td>operant_place</td>\n",
       "      <td>blue</td>\n",
       "      <td>L</td>\n",
       "      <td>...</td>\n",
       "      <td>NaN</td>\n",
       "      <td>NaN</td>\n",
       "      <td>dgrp405_shock</td>\n",
       "      <td>dgrp405_shock_female</td>\n",
       "      <td>operant_place/20230703/csv/dgrp405_shock/female</td>\n",
       "      <td>20230703</td>\n",
       "      <td>riddha</td>\n",
       "      <td>True</td>\n",
       "      <td>0.172414</td>\n",
       "      <td>0.178654</td>\n",
       "    </tr>\n",
       "    <tr>\n",
       "      <th>15</th>\n",
       "      <td>DGRP_853</td>\n",
       "      <td>F</td>\n",
       "      <td>0.023340</td>\n",
       "      <td>1.703184</td>\n",
       "      <td>1.724505</td>\n",
       "      <td>2.223834</td>\n",
       "      <td>34</td>\n",
       "      <td>operant_place</td>\n",
       "      <td>green</td>\n",
       "      <td>L</td>\n",
       "      <td>...</td>\n",
       "      <td>NaN</td>\n",
       "      <td>NaN</td>\n",
       "      <td>dgrp853_shock</td>\n",
       "      <td>dgrp853_shock_female</td>\n",
       "      <td>operant_place/20230710/csv/dgrp853_shock/female</td>\n",
       "      <td>20230710</td>\n",
       "      <td>riddha</td>\n",
       "      <td>True</td>\n",
       "      <td>0.221883</td>\n",
       "      <td>0.235297</td>\n",
       "    </tr>\n",
       "    <tr>\n",
       "      <th>16</th>\n",
       "      <td>DGRP_850</td>\n",
       "      <td>F</td>\n",
       "      <td>0.033936</td>\n",
       "      <td>1.648352</td>\n",
       "      <td>1.698413</td>\n",
       "      <td>1.837693</td>\n",
       "      <td>1</td>\n",
       "      <td>operant_place</td>\n",
       "      <td>green</td>\n",
       "      <td>L</td>\n",
       "      <td>...</td>\n",
       "      <td>NaN</td>\n",
       "      <td>NaN</td>\n",
       "      <td>dgrp850_shock</td>\n",
       "      <td>dgrp850_shock_female</td>\n",
       "      <td>operant_place/20230703/csv/dgrp850_shock/female</td>\n",
       "      <td>20230703</td>\n",
       "      <td>riddha</td>\n",
       "      <td>True</td>\n",
       "      <td>0.115575</td>\n",
       "      <td>0.118200</td>\n",
       "    </tr>\n",
       "  </tbody>\n",
       "</table>\n",
       "<p>17 rows × 52 columns</p>\n",
       "</div>"
      ],
      "text/plain": [
       "        DGRP sex    Volume  Entropy0  Entropy1  Entropy2  id       exp_type  \\\n",
       "0   DGRP_732   F  0.015346  1.588548  1.597554  1.260962  40  operant_place   \n",
       "1   DGRP_737   F  0.015415  1.872372  1.885794  2.107636   2  operant_place   \n",
       "2   DGRP_732   M  0.016771  1.783274  1.885432  1.737984  48  operant_place   \n",
       "3   DGRP_309   F  0.017028  1.472865  1.705017  1.962350   1  operant_place   \n",
       "4   DGRP_437   M  0.017706  1.640324  1.689384  1.834623  10  operant_place   \n",
       "5   DGRP_309   M  0.017826  1.736349  1.755159  1.873762   9  operant_place   \n",
       "6   DGRP_354   F  0.018734  1.496644  1.578005  1.880820  40  operant_place   \n",
       "7   DGRP_786   F  0.018789  1.650172  1.683090  1.689623   2  operant_place   \n",
       "8   DGRP_737   M  0.018805  1.808627  1.864490  2.106834  10  operant_place   \n",
       "9   DGRP_354   M  0.019798  1.465704  1.632769  1.955570  48  operant_place   \n",
       "10  DGRP_437   F  0.019896  1.616853  1.677944  1.791408   2  operant_place   \n",
       "11  DGRP_853   M  0.019990  1.646468  1.791665  2.156338  42  operant_place   \n",
       "12  DGRP_786   M  0.021380  1.658725  1.704068  1.609534  10  operant_place   \n",
       "13  DGRP_850   M  0.021624  1.833879  1.853082  2.141067   9  operant_place   \n",
       "14  DGRP_405   F  0.022453  1.675530  1.729582  2.025458   1  operant_place   \n",
       "15  DGRP_853   F  0.023340  1.703184  1.724505  2.223834  34  operant_place   \n",
       "16  DGRP_850   F  0.033936  1.648352  1.698413  1.837693   1  operant_place   \n",
       "\n",
       "   shock_color shock_arm  ... post_incorrect_choices  post_analysis_time  \\\n",
       "0         blue         L  ...                    NaN                 NaN   \n",
       "1         blue         M  ...                    NaN                 NaN   \n",
       "2         blue         R  ...                    NaN                 NaN   \n",
       "3         blue         L  ...                    NaN                 NaN   \n",
       "4         blue         L  ...                    NaN                 NaN   \n",
       "5         blue         R  ...                    NaN                 NaN   \n",
       "6        green         L  ...                    NaN                 NaN   \n",
       "7         blue         M  ...                    NaN                 NaN   \n",
       "8         blue         L  ...                    NaN                 NaN   \n",
       "9        green         R  ...                    NaN                 NaN   \n",
       "10        blue         M  ...                    NaN                 NaN   \n",
       "11       green         R  ...                    NaN                 NaN   \n",
       "12        blue         L  ...                    NaN                 NaN   \n",
       "13       green         R  ...                    NaN                 NaN   \n",
       "14        blue         L  ...                    NaN                 NaN   \n",
       "15       green         L  ...                    NaN                 NaN   \n",
       "16       green         L  ...                    NaN                 NaN   \n",
       "\n",
       "            group             group_sex  \\\n",
       "0   dgrp732_shock  dgrp732_shock_female   \n",
       "1   dgrp737_shock  dgrp737_shock_female   \n",
       "2   dgrp732_shock    dgrp732_shock_male   \n",
       "3   dgrp309_shock  dgrp309_shock_female   \n",
       "4   dgrp437_shock    dgrp437_shock_male   \n",
       "5   dgrp309_shock    dgrp309_shock_male   \n",
       "6   dgrp354_shock  dgrp354_shock_female   \n",
       "7   dgrp786_shock  dgrp786_shock_female   \n",
       "8   dgrp737_shock    dgrp737_shock_male   \n",
       "9   dgrp354_shock    dgrp354_shock_male   \n",
       "10  dgrp437_shock  dgrp437_shock_female   \n",
       "11  dgrp853_shock    dgrp853_shock_male   \n",
       "12  dgrp786_shock    dgrp786_shock_male   \n",
       "13  dgrp850_shock    dgrp850_shock_male   \n",
       "14  dgrp405_shock  dgrp405_shock_female   \n",
       "15  dgrp853_shock  dgrp853_shock_female   \n",
       "16  dgrp850_shock  dgrp850_shock_female   \n",
       "\n",
       "                                             folder  experiment_date  \\\n",
       "0   operant_place/20230621/csv/dgrp732_shock/female         20230621   \n",
       "1   operant_place/20230707/csv/dgrp737_shock/female         20230707   \n",
       "2     operant_place/20230621/csv/dgrp732_shock/male         20230621   \n",
       "3   operant_place/20230703/csv/dgrp309_shock/female         20230703   \n",
       "4     operant_place/20230705/csv/dgrp437_shock/male         20230705   \n",
       "5     operant_place/20230703/csv/dgrp309_shock/male         20230703   \n",
       "6   operant_place/20230621/csv/dgrp354_shock/female         20230621   \n",
       "7   operant_place/20230705/csv/dgrp786_shock/female         20230705   \n",
       "8     operant_place/20230707/csv/dgrp737_shock/male         20230707   \n",
       "9     operant_place/20230621/csv/dgrp354_shock/male         20230621   \n",
       "10  operant_place/20230705/csv/dgrp437_shock/female         20230705   \n",
       "11    operant_place/20230710/csv/dgrp853_shock/male         20230710   \n",
       "12    operant_place/20230705/csv/dgrp786_shock/male         20230705   \n",
       "13    operant_place/20230703/csv/dgrp850_shock/male         20230703   \n",
       "14  operant_place/20230703/csv/dgrp405_shock/female         20230703   \n",
       "15  operant_place/20230710/csv/dgrp853_shock/female         20230710   \n",
       "16  operant_place/20230703/csv/dgrp850_shock/female         20230703   \n",
       "\n",
       "    experiment_by  head_scanned   abs_dev  abs_dev_sex  \n",
       "0          riddha          True  0.164331     0.167038  \n",
       "1          riddha          True  0.207584     0.196769  \n",
       "2          riddha          True  0.140436     0.137686  \n",
       "3          riddha          True  0.053567     0.057445  \n",
       "4          riddha          True  0.042431     0.040824  \n",
       "5          riddha          True  0.110822     0.106943  \n",
       "6          riddha          True  0.017099     0.002430  \n",
       "7          riddha          True  0.148576     0.154391  \n",
       "8          riddha          True  0.080066     0.069080  \n",
       "9          riddha          True  0.094630     0.113490  \n",
       "10         riddha          True  0.157227     0.158835  \n",
       "11         riddha          True  0.173586     0.160172  \n",
       "12         riddha          True  0.228288     0.222473  \n",
       "13         riddha          True  0.072065     0.069440  \n",
       "14         riddha          True  0.172414     0.178654  \n",
       "15         riddha          True  0.221883     0.235297  \n",
       "16         riddha          True  0.115575     0.118200  \n",
       "\n",
       "[17 rows x 52 columns]"
      ]
     },
     "execution_count": 41,
     "metadata": {},
     "output_type": "execute_result"
    }
   ],
   "source": [
    "merged_df"
   ]
  },
  {
   "cell_type": "code",
   "execution_count": 42,
   "id": "5bc5ef98-c70b-4507-b2a2-0ef74164357d",
   "metadata": {
    "tags": []
   },
   "outputs": [],
   "source": [
    "import plotly.express as px"
   ]
  },
  {
   "cell_type": "code",
   "execution_count": null,
   "id": "8cc3b4cf-e017-4821-ace1-b9498f3c9a7e",
   "metadata": {},
   "outputs": [],
   "source": []
  },
  {
   "cell_type": "code",
   "execution_count": 44,
   "id": "809e3d4f-d397-43d8-9a52-2b6ff8a9ed9a",
   "metadata": {
    "tags": []
   },
   "outputs": [
    {
     "data": {
      "application/vnd.plotly.v1+json": {
       "config": {
        "plotlyServerURL": "https://plot.ly"
       },
       "data": [
        {
         "coloraxis": "coloraxis",
         "hovertemplate": "x: %{x}<br>y: %{y}<br>color: %{z}<extra></extra>",
         "name": "0",
         "type": "heatmap",
         "x": [
          "Volume",
          "Entropy0",
          "Entropy1",
          "Entropy2",
          "activity",
          "correct_choices",
          "frac_time_on_shocked"
         ],
         "xaxis": "x",
         "y": [
          "Volume",
          "Entropy0",
          "Entropy1",
          "Entropy2",
          "activity",
          "correct_choices",
          "frac_time_on_shocked"
         ],
         "yaxis": "y",
         "z": [
          [
           1,
           -0.02610933245261606,
           -0.10236223164297627,
           0.18898388650560363,
           0.20117698397297448,
           0.11496354062828781,
           0.47878552767453136
          ],
          [
           -0.02610933245261606,
           1,
           0.859362995651974,
           0.31287296486191085,
           0.0402582811519226,
           -0.0008418791776854298,
           -0.19309353752417122
          ],
          [
           -0.10236223164297627,
           0.859362995651974,
           1,
           0.5104974363585574,
           0.08893953816776519,
           0.005571700195670613,
           -0.11783418908390632
          ],
          [
           0.18898388650560363,
           0.31287296486191085,
           0.5104974363585574,
           1,
           0.26928493912360085,
           0.10873773732352802,
           0.2797984366148463
          ],
          [
           0.20117698397297448,
           0.0402582811519226,
           0.08893953816776519,
           0.26928493912360085,
           1,
           0.9717240546849343,
           0.5238071826939555
          ],
          [
           0.11496354062828781,
           -0.0008418791776854298,
           0.005571700195670613,
           0.10873773732352802,
           0.9717240546849343,
           1,
           0.44767145247206136
          ],
          [
           0.47878552767453136,
           -0.19309353752417122,
           -0.11783418908390632,
           0.2797984366148463,
           0.5238071826939555,
           0.44767145247206136,
           1
          ]
         ]
        }
       ],
       "layout": {
        "autosize": true,
        "coloraxis": {
         "colorscale": [
          [
           0,
           "#0d0887"
          ],
          [
           0.1111111111111111,
           "#46039f"
          ],
          [
           0.2222222222222222,
           "#7201a8"
          ],
          [
           0.3333333333333333,
           "#9c179e"
          ],
          [
           0.4444444444444444,
           "#bd3786"
          ],
          [
           0.5555555555555556,
           "#d8576b"
          ],
          [
           0.6666666666666666,
           "#ed7953"
          ],
          [
           0.7777777777777778,
           "#fb9f3a"
          ],
          [
           0.8888888888888888,
           "#fdca26"
          ],
          [
           1,
           "#f0f921"
          ]
         ]
        },
        "margin": {
         "t": 60
        },
        "template": {
         "data": {
          "bar": [
           {
            "error_x": {
             "color": "#2a3f5f"
            },
            "error_y": {
             "color": "#2a3f5f"
            },
            "marker": {
             "line": {
              "color": "#E5ECF6",
              "width": 0.5
             },
             "pattern": {
              "fillmode": "overlay",
              "size": 10,
              "solidity": 0.2
             }
            },
            "type": "bar"
           }
          ],
          "barpolar": [
           {
            "marker": {
             "line": {
              "color": "#E5ECF6",
              "width": 0.5
             },
             "pattern": {
              "fillmode": "overlay",
              "size": 10,
              "solidity": 0.2
             }
            },
            "type": "barpolar"
           }
          ],
          "carpet": [
           {
            "aaxis": {
             "endlinecolor": "#2a3f5f",
             "gridcolor": "white",
             "linecolor": "white",
             "minorgridcolor": "white",
             "startlinecolor": "#2a3f5f"
            },
            "baxis": {
             "endlinecolor": "#2a3f5f",
             "gridcolor": "white",
             "linecolor": "white",
             "minorgridcolor": "white",
             "startlinecolor": "#2a3f5f"
            },
            "type": "carpet"
           }
          ],
          "choropleth": [
           {
            "colorbar": {
             "outlinewidth": 0,
             "ticks": ""
            },
            "type": "choropleth"
           }
          ],
          "contour": [
           {
            "colorbar": {
             "outlinewidth": 0,
             "ticks": ""
            },
            "colorscale": [
             [
              0,
              "#0d0887"
             ],
             [
              0.1111111111111111,
              "#46039f"
             ],
             [
              0.2222222222222222,
              "#7201a8"
             ],
             [
              0.3333333333333333,
              "#9c179e"
             ],
             [
              0.4444444444444444,
              "#bd3786"
             ],
             [
              0.5555555555555556,
              "#d8576b"
             ],
             [
              0.6666666666666666,
              "#ed7953"
             ],
             [
              0.7777777777777778,
              "#fb9f3a"
             ],
             [
              0.8888888888888888,
              "#fdca26"
             ],
             [
              1,
              "#f0f921"
             ]
            ],
            "type": "contour"
           }
          ],
          "contourcarpet": [
           {
            "colorbar": {
             "outlinewidth": 0,
             "ticks": ""
            },
            "type": "contourcarpet"
           }
          ],
          "heatmap": [
           {
            "colorbar": {
             "outlinewidth": 0,
             "ticks": ""
            },
            "colorscale": [
             [
              0,
              "#0d0887"
             ],
             [
              0.1111111111111111,
              "#46039f"
             ],
             [
              0.2222222222222222,
              "#7201a8"
             ],
             [
              0.3333333333333333,
              "#9c179e"
             ],
             [
              0.4444444444444444,
              "#bd3786"
             ],
             [
              0.5555555555555556,
              "#d8576b"
             ],
             [
              0.6666666666666666,
              "#ed7953"
             ],
             [
              0.7777777777777778,
              "#fb9f3a"
             ],
             [
              0.8888888888888888,
              "#fdca26"
             ],
             [
              1,
              "#f0f921"
             ]
            ],
            "type": "heatmap"
           }
          ],
          "heatmapgl": [
           {
            "colorbar": {
             "outlinewidth": 0,
             "ticks": ""
            },
            "colorscale": [
             [
              0,
              "#0d0887"
             ],
             [
              0.1111111111111111,
              "#46039f"
             ],
             [
              0.2222222222222222,
              "#7201a8"
             ],
             [
              0.3333333333333333,
              "#9c179e"
             ],
             [
              0.4444444444444444,
              "#bd3786"
             ],
             [
              0.5555555555555556,
              "#d8576b"
             ],
             [
              0.6666666666666666,
              "#ed7953"
             ],
             [
              0.7777777777777778,
              "#fb9f3a"
             ],
             [
              0.8888888888888888,
              "#fdca26"
             ],
             [
              1,
              "#f0f921"
             ]
            ],
            "type": "heatmapgl"
           }
          ],
          "histogram": [
           {
            "marker": {
             "pattern": {
              "fillmode": "overlay",
              "size": 10,
              "solidity": 0.2
             }
            },
            "type": "histogram"
           }
          ],
          "histogram2d": [
           {
            "colorbar": {
             "outlinewidth": 0,
             "ticks": ""
            },
            "colorscale": [
             [
              0,
              "#0d0887"
             ],
             [
              0.1111111111111111,
              "#46039f"
             ],
             [
              0.2222222222222222,
              "#7201a8"
             ],
             [
              0.3333333333333333,
              "#9c179e"
             ],
             [
              0.4444444444444444,
              "#bd3786"
             ],
             [
              0.5555555555555556,
              "#d8576b"
             ],
             [
              0.6666666666666666,
              "#ed7953"
             ],
             [
              0.7777777777777778,
              "#fb9f3a"
             ],
             [
              0.8888888888888888,
              "#fdca26"
             ],
             [
              1,
              "#f0f921"
             ]
            ],
            "type": "histogram2d"
           }
          ],
          "histogram2dcontour": [
           {
            "colorbar": {
             "outlinewidth": 0,
             "ticks": ""
            },
            "colorscale": [
             [
              0,
              "#0d0887"
             ],
             [
              0.1111111111111111,
              "#46039f"
             ],
             [
              0.2222222222222222,
              "#7201a8"
             ],
             [
              0.3333333333333333,
              "#9c179e"
             ],
             [
              0.4444444444444444,
              "#bd3786"
             ],
             [
              0.5555555555555556,
              "#d8576b"
             ],
             [
              0.6666666666666666,
              "#ed7953"
             ],
             [
              0.7777777777777778,
              "#fb9f3a"
             ],
             [
              0.8888888888888888,
              "#fdca26"
             ],
             [
              1,
              "#f0f921"
             ]
            ],
            "type": "histogram2dcontour"
           }
          ],
          "mesh3d": [
           {
            "colorbar": {
             "outlinewidth": 0,
             "ticks": ""
            },
            "type": "mesh3d"
           }
          ],
          "parcoords": [
           {
            "line": {
             "colorbar": {
              "outlinewidth": 0,
              "ticks": ""
             }
            },
            "type": "parcoords"
           }
          ],
          "pie": [
           {
            "automargin": true,
            "type": "pie"
           }
          ],
          "scatter": [
           {
            "fillpattern": {
             "fillmode": "overlay",
             "size": 10,
             "solidity": 0.2
            },
            "type": "scatter"
           }
          ],
          "scatter3d": [
           {
            "line": {
             "colorbar": {
              "outlinewidth": 0,
              "ticks": ""
             }
            },
            "marker": {
             "colorbar": {
              "outlinewidth": 0,
              "ticks": ""
             }
            },
            "type": "scatter3d"
           }
          ],
          "scattercarpet": [
           {
            "marker": {
             "colorbar": {
              "outlinewidth": 0,
              "ticks": ""
             }
            },
            "type": "scattercarpet"
           }
          ],
          "scattergeo": [
           {
            "marker": {
             "colorbar": {
              "outlinewidth": 0,
              "ticks": ""
             }
            },
            "type": "scattergeo"
           }
          ],
          "scattergl": [
           {
            "marker": {
             "colorbar": {
              "outlinewidth": 0,
              "ticks": ""
             }
            },
            "type": "scattergl"
           }
          ],
          "scattermapbox": [
           {
            "marker": {
             "colorbar": {
              "outlinewidth": 0,
              "ticks": ""
             }
            },
            "type": "scattermapbox"
           }
          ],
          "scatterpolar": [
           {
            "marker": {
             "colorbar": {
              "outlinewidth": 0,
              "ticks": ""
             }
            },
            "type": "scatterpolar"
           }
          ],
          "scatterpolargl": [
           {
            "marker": {
             "colorbar": {
              "outlinewidth": 0,
              "ticks": ""
             }
            },
            "type": "scatterpolargl"
           }
          ],
          "scatterternary": [
           {
            "marker": {
             "colorbar": {
              "outlinewidth": 0,
              "ticks": ""
             }
            },
            "type": "scatterternary"
           }
          ],
          "surface": [
           {
            "colorbar": {
             "outlinewidth": 0,
             "ticks": ""
            },
            "colorscale": [
             [
              0,
              "#0d0887"
             ],
             [
              0.1111111111111111,
              "#46039f"
             ],
             [
              0.2222222222222222,
              "#7201a8"
             ],
             [
              0.3333333333333333,
              "#9c179e"
             ],
             [
              0.4444444444444444,
              "#bd3786"
             ],
             [
              0.5555555555555556,
              "#d8576b"
             ],
             [
              0.6666666666666666,
              "#ed7953"
             ],
             [
              0.7777777777777778,
              "#fb9f3a"
             ],
             [
              0.8888888888888888,
              "#fdca26"
             ],
             [
              1,
              "#f0f921"
             ]
            ],
            "type": "surface"
           }
          ],
          "table": [
           {
            "cells": {
             "fill": {
              "color": "#EBF0F8"
             },
             "line": {
              "color": "white"
             }
            },
            "header": {
             "fill": {
              "color": "#C8D4E3"
             },
             "line": {
              "color": "white"
             }
            },
            "type": "table"
           }
          ]
         },
         "layout": {
          "annotationdefaults": {
           "arrowcolor": "#2a3f5f",
           "arrowhead": 0,
           "arrowwidth": 1
          },
          "autotypenumbers": "strict",
          "coloraxis": {
           "colorbar": {
            "outlinewidth": 0,
            "ticks": ""
           }
          },
          "colorscale": {
           "diverging": [
            [
             0,
             "#8e0152"
            ],
            [
             0.1,
             "#c51b7d"
            ],
            [
             0.2,
             "#de77ae"
            ],
            [
             0.3,
             "#f1b6da"
            ],
            [
             0.4,
             "#fde0ef"
            ],
            [
             0.5,
             "#f7f7f7"
            ],
            [
             0.6,
             "#e6f5d0"
            ],
            [
             0.7,
             "#b8e186"
            ],
            [
             0.8,
             "#7fbc41"
            ],
            [
             0.9,
             "#4d9221"
            ],
            [
             1,
             "#276419"
            ]
           ],
           "sequential": [
            [
             0,
             "#0d0887"
            ],
            [
             0.1111111111111111,
             "#46039f"
            ],
            [
             0.2222222222222222,
             "#7201a8"
            ],
            [
             0.3333333333333333,
             "#9c179e"
            ],
            [
             0.4444444444444444,
             "#bd3786"
            ],
            [
             0.5555555555555556,
             "#d8576b"
            ],
            [
             0.6666666666666666,
             "#ed7953"
            ],
            [
             0.7777777777777778,
             "#fb9f3a"
            ],
            [
             0.8888888888888888,
             "#fdca26"
            ],
            [
             1,
             "#f0f921"
            ]
           ],
           "sequentialminus": [
            [
             0,
             "#0d0887"
            ],
            [
             0.1111111111111111,
             "#46039f"
            ],
            [
             0.2222222222222222,
             "#7201a8"
            ],
            [
             0.3333333333333333,
             "#9c179e"
            ],
            [
             0.4444444444444444,
             "#bd3786"
            ],
            [
             0.5555555555555556,
             "#d8576b"
            ],
            [
             0.6666666666666666,
             "#ed7953"
            ],
            [
             0.7777777777777778,
             "#fb9f3a"
            ],
            [
             0.8888888888888888,
             "#fdca26"
            ],
            [
             1,
             "#f0f921"
            ]
           ]
          },
          "colorway": [
           "#636efa",
           "#EF553B",
           "#00cc96",
           "#ab63fa",
           "#FFA15A",
           "#19d3f3",
           "#FF6692",
           "#B6E880",
           "#FF97FF",
           "#FECB52"
          ],
          "font": {
           "color": "#2a3f5f"
          },
          "geo": {
           "bgcolor": "white",
           "lakecolor": "white",
           "landcolor": "#E5ECF6",
           "showlakes": true,
           "showland": true,
           "subunitcolor": "white"
          },
          "hoverlabel": {
           "align": "left"
          },
          "hovermode": "closest",
          "mapbox": {
           "style": "light"
          },
          "paper_bgcolor": "white",
          "plot_bgcolor": "#E5ECF6",
          "polar": {
           "angularaxis": {
            "gridcolor": "white",
            "linecolor": "white",
            "ticks": ""
           },
           "bgcolor": "#E5ECF6",
           "radialaxis": {
            "gridcolor": "white",
            "linecolor": "white",
            "ticks": ""
           }
          },
          "scene": {
           "xaxis": {
            "backgroundcolor": "#E5ECF6",
            "gridcolor": "white",
            "gridwidth": 2,
            "linecolor": "white",
            "showbackground": true,
            "ticks": "",
            "zerolinecolor": "white"
           },
           "yaxis": {
            "backgroundcolor": "#E5ECF6",
            "gridcolor": "white",
            "gridwidth": 2,
            "linecolor": "white",
            "showbackground": true,
            "ticks": "",
            "zerolinecolor": "white"
           },
           "zaxis": {
            "backgroundcolor": "#E5ECF6",
            "gridcolor": "white",
            "gridwidth": 2,
            "linecolor": "white",
            "showbackground": true,
            "ticks": "",
            "zerolinecolor": "white"
           }
          },
          "shapedefaults": {
           "line": {
            "color": "#2a3f5f"
           }
          },
          "ternary": {
           "aaxis": {
            "gridcolor": "white",
            "linecolor": "white",
            "ticks": ""
           },
           "baxis": {
            "gridcolor": "white",
            "linecolor": "white",
            "ticks": ""
           },
           "bgcolor": "#E5ECF6",
           "caxis": {
            "gridcolor": "white",
            "linecolor": "white",
            "ticks": ""
           }
          },
          "title": {
           "x": 0.05
          },
          "xaxis": {
           "automargin": true,
           "gridcolor": "white",
           "linecolor": "white",
           "ticks": "",
           "title": {
            "standoff": 15
           },
           "zerolinecolor": "white",
           "zerolinewidth": 2
          },
          "yaxis": {
           "automargin": true,
           "gridcolor": "white",
           "linecolor": "white",
           "ticks": "",
           "title": {
            "standoff": 15
           },
           "zerolinecolor": "white",
           "zerolinewidth": 2
          }
         }
        },
        "xaxis": {
         "anchor": "y",
         "autorange": true,
         "constrain": "domain",
         "domain": [
          0.4421850079744817,
          0.5578149920255183
         ],
         "range": [
          -0.5,
          6.5
         ],
         "scaleanchor": "y",
         "type": "category"
        },
        "yaxis": {
         "anchor": "x",
         "autorange": true,
         "constrain": "domain",
         "domain": [
          0,
          1
         ],
         "range": [
          6.5,
          -0.5
         ],
         "type": "category"
        }
       }
      },
      "image/png": "[encoded data removed]",
      "text/html": [
       "<div>                            <div id=\"65a21771-bb7a-4020-84e2-e5d6967bad24\" class=\"plotly-graph-div\" style=\"height:525px; width:100%;\"></div>            <script type=\"text/javascript\">                require([\"plotly\"], function(Plotly) {                    window.PLOTLYENV=window.PLOTLYENV || {};                                    if (document.getElementById(\"65a21771-bb7a-4020-84e2-e5d6967bad24\")) {                    Plotly.newPlot(                        \"65a21771-bb7a-4020-84e2-e5d6967bad24\",                        [{\"coloraxis\":\"coloraxis\",\"name\":\"0\",\"x\":[\"Volume\",\"Entropy0\",\"Entropy1\",\"Entropy2\",\"activity\",\"correct_choices\",\"frac_time_on_shocked\"],\"y\":[\"Volume\",\"Entropy0\",\"Entropy1\",\"Entropy2\",\"activity\",\"correct_choices\",\"frac_time_on_shocked\"],\"z\":[[1.0,-0.02610933245261606,-0.10236223164297627,0.18898388650560363,0.20117698397297448,0.11496354062828781,0.47878552767453136],[-0.02610933245261606,1.0,0.859362995651974,0.31287296486191085,0.0402582811519226,-0.0008418791776854298,-0.19309353752417122],[-0.10236223164297627,0.859362995651974,1.0,0.5104974363585574,0.08893953816776519,0.005571700195670613,-0.11783418908390632],[0.18898388650560363,0.31287296486191085,0.5104974363585574,1.0,0.26928493912360085,0.10873773732352802,0.2797984366148463],[0.20117698397297448,0.0402582811519226,0.08893953816776519,0.26928493912360085,1.0,0.9717240546849343,0.5238071826939555],[0.11496354062828781,-0.0008418791776854298,0.005571700195670613,0.10873773732352802,0.9717240546849343,1.0,0.44767145247206136],[0.47878552767453136,-0.19309353752417122,-0.11783418908390632,0.2797984366148463,0.5238071826939555,0.44767145247206136,1.0]],\"type\":\"heatmap\",\"xaxis\":\"x\",\"yaxis\":\"y\",\"hovertemplate\":\"x: %{x}\\u003cbr\\u003ey: %{y}\\u003cbr\\u003ecolor: %{z}\\u003cextra\\u003e\\u003c\\u002fextra\\u003e\"}],                        {\"template\":{\"data\":{\"histogram2dcontour\":[{\"type\":\"histogram2dcontour\",\"colorbar\":{\"outlinewidth\":0,\"ticks\":\"\"},\"colorscale\":[[0.0,\"#0d0887\"],[0.1111111111111111,\"#46039f\"],[0.2222222222222222,\"#7201a8\"],[0.3333333333333333,\"#9c179e\"],[0.4444444444444444,\"#bd3786\"],[0.5555555555555556,\"#d8576b\"],[0.6666666666666666,\"#ed7953\"],[0.7777777777777778,\"#fb9f3a\"],[0.8888888888888888,\"#fdca26\"],[1.0,\"#f0f921\"]]}],\"choropleth\":[{\"type\":\"choropleth\",\"colorbar\":{\"outlinewidth\":0,\"ticks\":\"\"}}],\"histogram2d\":[{\"type\":\"histogram2d\",\"colorbar\":{\"outlinewidth\":0,\"ticks\":\"\"},\"colorscale\":[[0.0,\"#0d0887\"],[0.1111111111111111,\"#46039f\"],[0.2222222222222222,\"#7201a8\"],[0.3333333333333333,\"#9c179e\"],[0.4444444444444444,\"#bd3786\"],[0.5555555555555556,\"#d8576b\"],[0.6666666666666666,\"#ed7953\"],[0.7777777777777778,\"#fb9f3a\"],[0.8888888888888888,\"#fdca26\"],[1.0,\"#f0f921\"]]}],\"heatmap\":[{\"type\":\"heatmap\",\"colorbar\":{\"outlinewidth\":0,\"ticks\":\"\"},\"colorscale\":[[0.0,\"#0d0887\"],[0.1111111111111111,\"#46039f\"],[0.2222222222222222,\"#7201a8\"],[0.3333333333333333,\"#9c179e\"],[0.4444444444444444,\"#bd3786\"],[0.5555555555555556,\"#d8576b\"],[0.6666666666666666,\"#ed7953\"],[0.7777777777777778,\"#fb9f3a\"],[0.8888888888888888,\"#fdca26\"],[1.0,\"#f0f921\"]]}],\"heatmapgl\":[{\"type\":\"heatmapgl\",\"colorbar\":{\"outlinewidth\":0,\"ticks\":\"\"},\"colorscale\":[[0.0,\"#0d0887\"],[0.1111111111111111,\"#46039f\"],[0.2222222222222222,\"#7201a8\"],[0.3333333333333333,\"#9c179e\"],[0.4444444444444444,\"#bd3786\"],[0.5555555555555556,\"#d8576b\"],[0.6666666666666666,\"#ed7953\"],[0.7777777777777778,\"#fb9f3a\"],[0.8888888888888888,\"#fdca26\"],[1.0,\"#f0f921\"]]}],\"contourcarpet\":[{\"type\":\"contourcarpet\",\"colorbar\":{\"outlinewidth\":0,\"ticks\":\"\"}}],\"contour\":[{\"type\":\"contour\",\"colorbar\":{\"outlinewidth\":0,\"ticks\":\"\"},\"colorscale\":[[0.0,\"#0d0887\"],[0.1111111111111111,\"#46039f\"],[0.2222222222222222,\"#7201a8\"],[0.3333333333333333,\"#9c179e\"],[0.4444444444444444,\"#bd3786\"],[0.5555555555555556,\"#d8576b\"],[0.6666666666666666,\"#ed7953\"],[0.7777777777777778,\"#fb9f3a\"],[0.8888888888888888,\"#fdca26\"],[1.0,\"#f0f921\"]]}],\"surface\":[{\"type\":\"surface\",\"colorbar\":{\"outlinewidth\":0,\"ticks\":\"\"},\"colorscale\":[[0.0,\"#0d0887\"],[0.1111111111111111,\"#46039f\"],[0.2222222222222222,\"#7201a8\"],[0.3333333333333333,\"#9c179e\"],[0.4444444444444444,\"#bd3786\"],[0.5555555555555556,\"#d8576b\"],[0.6666666666666666,\"#ed7953\"],[0.7777777777777778,\"#fb9f3a\"],[0.8888888888888888,\"#fdca26\"],[1.0,\"#f0f921\"]]}],\"mesh3d\":[{\"type\":\"mesh3d\",\"colorbar\":{\"outlinewidth\":0,\"ticks\":\"\"}}],\"scatter\":[{\"fillpattern\":{\"fillmode\":\"overlay\",\"size\":10,\"solidity\":0.2},\"type\":\"scatter\"}],\"parcoords\":[{\"type\":\"parcoords\",\"line\":{\"colorbar\":{\"outlinewidth\":0,\"ticks\":\"\"}}}],\"scatterpolargl\":[{\"type\":\"scatterpolargl\",\"marker\":{\"colorbar\":{\"outlinewidth\":0,\"ticks\":\"\"}}}],\"bar\":[{\"error_x\":{\"color\":\"#2a3f5f\"},\"error_y\":{\"color\":\"#2a3f5f\"},\"marker\":{\"line\":{\"color\":\"#E5ECF6\",\"width\":0.5},\"pattern\":{\"fillmode\":\"overlay\",\"size\":10,\"solidity\":0.2}},\"type\":\"bar\"}],\"scattergeo\":[{\"type\":\"scattergeo\",\"marker\":{\"colorbar\":{\"outlinewidth\":0,\"ticks\":\"\"}}}],\"scatterpolar\":[{\"type\":\"scatterpolar\",\"marker\":{\"colorbar\":{\"outlinewidth\":0,\"ticks\":\"\"}}}],\"histogram\":[{\"marker\":{\"pattern\":{\"fillmode\":\"overlay\",\"size\":10,\"solidity\":0.2}},\"type\":\"histogram\"}],\"scattergl\":[{\"type\":\"scattergl\",\"marker\":{\"colorbar\":{\"outlinewidth\":0,\"ticks\":\"\"}}}],\"scatter3d\":[{\"type\":\"scatter3d\",\"line\":{\"colorbar\":{\"outlinewidth\":0,\"ticks\":\"\"}},\"marker\":{\"colorbar\":{\"outlinewidth\":0,\"ticks\":\"\"}}}],\"scattermapbox\":[{\"type\":\"scattermapbox\",\"marker\":{\"colorbar\":{\"outlinewidth\":0,\"ticks\":\"\"}}}],\"scatterternary\":[{\"type\":\"scatterternary\",\"marker\":{\"colorbar\":{\"outlinewidth\":0,\"ticks\":\"\"}}}],\"scattercarpet\":[{\"type\":\"scattercarpet\",\"marker\":{\"colorbar\":{\"outlinewidth\":0,\"ticks\":\"\"}}}],\"carpet\":[{\"aaxis\":{\"endlinecolor\":\"#2a3f5f\",\"gridcolor\":\"white\",\"linecolor\":\"white\",\"minorgridcolor\":\"white\",\"startlinecolor\":\"#2a3f5f\"},\"baxis\":{\"endlinecolor\":\"#2a3f5f\",\"gridcolor\":\"white\",\"linecolor\":\"white\",\"minorgridcolor\":\"white\",\"startlinecolor\":\"#2a3f5f\"},\"type\":\"carpet\"}],\"table\":[{\"cells\":{\"fill\":{\"color\":\"#EBF0F8\"},\"line\":{\"color\":\"white\"}},\"header\":{\"fill\":{\"color\":\"#C8D4E3\"},\"line\":{\"color\":\"white\"}},\"type\":\"table\"}],\"barpolar\":[{\"marker\":{\"line\":{\"color\":\"#E5ECF6\",\"width\":0.5},\"pattern\":{\"fillmode\":\"overlay\",\"size\":10,\"solidity\":0.2}},\"type\":\"barpolar\"}],\"pie\":[{\"automargin\":true,\"type\":\"pie\"}]},\"layout\":{\"autotypenumbers\":\"strict\",\"colorway\":[\"#636efa\",\"#EF553B\",\"#00cc96\",\"#ab63fa\",\"#FFA15A\",\"#19d3f3\",\"#FF6692\",\"#B6E880\",\"#FF97FF\",\"#FECB52\"],\"font\":{\"color\":\"#2a3f5f\"},\"hovermode\":\"closest\",\"hoverlabel\":{\"align\":\"left\"},\"paper_bgcolor\":\"white\",\"plot_bgcolor\":\"#E5ECF6\",\"polar\":{\"bgcolor\":\"#E5ECF6\",\"angularaxis\":{\"gridcolor\":\"white\",\"linecolor\":\"white\",\"ticks\":\"\"},\"radialaxis\":{\"gridcolor\":\"white\",\"linecolor\":\"white\",\"ticks\":\"\"}},\"ternary\":{\"bgcolor\":\"#E5ECF6\",\"aaxis\":{\"gridcolor\":\"white\",\"linecolor\":\"white\",\"ticks\":\"\"},\"baxis\":{\"gridcolor\":\"white\",\"linecolor\":\"white\",\"ticks\":\"\"},\"caxis\":{\"gridcolor\":\"white\",\"linecolor\":\"white\",\"ticks\":\"\"}},\"coloraxis\":{\"colorbar\":{\"outlinewidth\":0,\"ticks\":\"\"}},\"colorscale\":{\"sequential\":[[0.0,\"#0d0887\"],[0.1111111111111111,\"#46039f\"],[0.2222222222222222,\"#7201a8\"],[0.3333333333333333,\"#9c179e\"],[0.4444444444444444,\"#bd3786\"],[0.5555555555555556,\"#d8576b\"],[0.6666666666666666,\"#ed7953\"],[0.7777777777777778,\"#fb9f3a\"],[0.8888888888888888,\"#fdca26\"],[1.0,\"#f0f921\"]],\"sequentialminus\":[[0.0,\"#0d0887\"],[0.1111111111111111,\"#46039f\"],[0.2222222222222222,\"#7201a8\"],[0.3333333333333333,\"#9c179e\"],[0.4444444444444444,\"#bd3786\"],[0.5555555555555556,\"#d8576b\"],[0.6666666666666666,\"#ed7953\"],[0.7777777777777778,\"#fb9f3a\"],[0.8888888888888888,\"#fdca26\"],[1.0,\"#f0f921\"]],\"diverging\":[[0,\"#8e0152\"],[0.1,\"#c51b7d\"],[0.2,\"#de77ae\"],[0.3,\"#f1b6da\"],[0.4,\"#fde0ef\"],[0.5,\"#f7f7f7\"],[0.6,\"#e6f5d0\"],[0.7,\"#b8e186\"],[0.8,\"#7fbc41\"],[0.9,\"#4d9221\"],[1,\"#276419\"]]},\"xaxis\":{\"gridcolor\":\"white\",\"linecolor\":\"white\",\"ticks\":\"\",\"title\":{\"standoff\":15},\"zerolinecolor\":\"white\",\"automargin\":true,\"zerolinewidth\":2},\"yaxis\":{\"gridcolor\":\"white\",\"linecolor\":\"white\",\"ticks\":\"\",\"title\":{\"standoff\":15},\"zerolinecolor\":\"white\",\"automargin\":true,\"zerolinewidth\":2},\"scene\":{\"xaxis\":{\"backgroundcolor\":\"#E5ECF6\",\"gridcolor\":\"white\",\"linecolor\":\"white\",\"showbackground\":true,\"ticks\":\"\",\"zerolinecolor\":\"white\",\"gridwidth\":2},\"yaxis\":{\"backgroundcolor\":\"#E5ECF6\",\"gridcolor\":\"white\",\"linecolor\":\"white\",\"showbackground\":true,\"ticks\":\"\",\"zerolinecolor\":\"white\",\"gridwidth\":2},\"zaxis\":{\"backgroundcolor\":\"#E5ECF6\",\"gridcolor\":\"white\",\"linecolor\":\"white\",\"showbackground\":true,\"ticks\":\"\",\"zerolinecolor\":\"white\",\"gridwidth\":2}},\"shapedefaults\":{\"line\":{\"color\":\"#2a3f5f\"}},\"annotationdefaults\":{\"arrowcolor\":\"#2a3f5f\",\"arrowhead\":0,\"arrowwidth\":1},\"geo\":{\"bgcolor\":\"white\",\"landcolor\":\"#E5ECF6\",\"subunitcolor\":\"white\",\"showland\":true,\"showlakes\":true,\"lakecolor\":\"white\"},\"title\":{\"x\":0.05},\"mapbox\":{\"style\":\"light\"}}},\"xaxis\":{\"anchor\":\"y\",\"domain\":[0.0,1.0],\"scaleanchor\":\"y\",\"constrain\":\"domain\"},\"yaxis\":{\"anchor\":\"x\",\"domain\":[0.0,1.0],\"autorange\":\"reversed\",\"constrain\":\"domain\"},\"coloraxis\":{\"colorscale\":[[0.0,\"#0d0887\"],[0.1111111111111111,\"#46039f\"],[0.2222222222222222,\"#7201a8\"],[0.3333333333333333,\"#9c179e\"],[0.4444444444444444,\"#bd3786\"],[0.5555555555555556,\"#d8576b\"],[0.6666666666666666,\"#ed7953\"],[0.7777777777777778,\"#fb9f3a\"],[0.8888888888888888,\"#fdca26\"],[1.0,\"#f0f921\"]]},\"margin\":{\"t\":60}},                        {\"responsive\": true}                    ).then(function(){\n",
       "                            \n",
       "var gd = document.getElementById('65a21771-bb7a-4020-84e2-e5d6967bad24');\n",
       "var x = new MutationObserver(function (mutations, observer) {{\n",
       "        var display = window.getComputedStyle(gd).display;\n",
       "        if (!display || display === 'none') {{\n",
       "            console.log([gd, 'removed!']);\n",
       "            Plotly.purge(gd);\n",
       "            observer.disconnect();\n",
       "        }}\n",
       "}});\n",
       "\n",
       "// Listen for the removal of the full notebook cells\n",
       "var notebookContainer = gd.closest('#notebook-container');\n",
       "if (notebookContainer) {{\n",
       "    x.observe(notebookContainer, {childList: true});\n",
       "}}\n",
       "\n",
       "// Listen for the clearing of the current output cell\n",
       "var outputEl = gd.closest('.output');\n",
       "if (outputEl) {{\n",
       "    x.observe(outputEl, {childList: true});\n",
       "}}\n",
       "\n",
       "                        })                };                });            </script>        </div>"
      ]
     },
     "metadata": {},
     "output_type": "display_data"
    }
   ],
   "source": [
    "# Calculer la matrice de corrélation\n",
    "correlation_matrix = merged_df[[\"Volume\",\"Entropy0\",\"Entropy1\",\"Entropy2\",\"activity\",\"correct_choices\",\"frac_time_on_shocked\"]].corr()\n",
    "\n",
    "# Créer un heatmap interactif avec Plotly\n",
    "fig = px.imshow(correlation_matrix)\n",
    "fig.show()"
   ]
  },
  {
   "cell_type": "code",
   "execution_count": 45,
   "id": "5b385db5-0ed0-41fe-bd47-0c837f7351d1",
   "metadata": {
    "tags": []
   },
   "outputs": [
    {
     "data": {
      "text/html": [
       "<div>\n",
       "<style scoped>\n",
       "    .dataframe tbody tr th:only-of-type {\n",
       "        vertical-align: middle;\n",
       "    }\n",
       "\n",
       "    .dataframe tbody tr th {\n",
       "        vertical-align: top;\n",
       "    }\n",
       "\n",
       "    .dataframe thead th {\n",
       "        text-align: right;\n",
       "    }\n",
       "</style>\n",
       "<table border=\"1\" class=\"dataframe\">\n",
       "  <thead>\n",
       "    <tr style=\"text-align: right;\">\n",
       "      <th></th>\n",
       "      <th>Volume</th>\n",
       "      <th>Entropy0</th>\n",
       "      <th>Entropy1</th>\n",
       "      <th>Entropy2</th>\n",
       "      <th>activity</th>\n",
       "      <th>correct_choices</th>\n",
       "      <th>frac_time_on_shocked</th>\n",
       "    </tr>\n",
       "  </thead>\n",
       "  <tbody>\n",
       "    <tr>\n",
       "      <th>Volume</th>\n",
       "      <td>1.000000</td>\n",
       "      <td>-0.026109</td>\n",
       "      <td>-0.102362</td>\n",
       "      <td>0.188984</td>\n",
       "      <td>0.201177</td>\n",
       "      <td>0.114964</td>\n",
       "      <td>0.478786</td>\n",
       "    </tr>\n",
       "    <tr>\n",
       "      <th>Entropy0</th>\n",
       "      <td>-0.026109</td>\n",
       "      <td>1.000000</td>\n",
       "      <td>0.859363</td>\n",
       "      <td>0.312873</td>\n",
       "      <td>0.040258</td>\n",
       "      <td>-0.000842</td>\n",
       "      <td>-0.193094</td>\n",
       "    </tr>\n",
       "    <tr>\n",
       "      <th>Entropy1</th>\n",
       "      <td>-0.102362</td>\n",
       "      <td>0.859363</td>\n",
       "      <td>1.000000</td>\n",
       "      <td>0.510497</td>\n",
       "      <td>0.088940</td>\n",
       "      <td>0.005572</td>\n",
       "      <td>-0.117834</td>\n",
       "    </tr>\n",
       "    <tr>\n",
       "      <th>Entropy2</th>\n",
       "      <td>0.188984</td>\n",
       "      <td>0.312873</td>\n",
       "      <td>0.510497</td>\n",
       "      <td>1.000000</td>\n",
       "      <td>0.269285</td>\n",
       "      <td>0.108738</td>\n",
       "      <td>0.279798</td>\n",
       "    </tr>\n",
       "    <tr>\n",
       "      <th>activity</th>\n",
       "      <td>0.201177</td>\n",
       "      <td>0.040258</td>\n",
       "      <td>0.088940</td>\n",
       "      <td>0.269285</td>\n",
       "      <td>1.000000</td>\n",
       "      <td>0.971724</td>\n",
       "      <td>0.523807</td>\n",
       "    </tr>\n",
       "    <tr>\n",
       "      <th>correct_choices</th>\n",
       "      <td>0.114964</td>\n",
       "      <td>-0.000842</td>\n",
       "      <td>0.005572</td>\n",
       "      <td>0.108738</td>\n",
       "      <td>0.971724</td>\n",
       "      <td>1.000000</td>\n",
       "      <td>0.447671</td>\n",
       "    </tr>\n",
       "    <tr>\n",
       "      <th>frac_time_on_shocked</th>\n",
       "      <td>0.478786</td>\n",
       "      <td>-0.193094</td>\n",
       "      <td>-0.117834</td>\n",
       "      <td>0.279798</td>\n",
       "      <td>0.523807</td>\n",
       "      <td>0.447671</td>\n",
       "      <td>1.000000</td>\n",
       "    </tr>\n",
       "  </tbody>\n",
       "</table>\n",
       "</div>"
      ],
      "text/plain": [
       "                        Volume  Entropy0  Entropy1  Entropy2  activity  \\\n",
       "Volume                1.000000 -0.026109 -0.102362  0.188984  0.201177   \n",
       "Entropy0             -0.026109  1.000000  0.859363  0.312873  0.040258   \n",
       "Entropy1             -0.102362  0.859363  1.000000  0.510497  0.088940   \n",
       "Entropy2              0.188984  0.312873  0.510497  1.000000  0.269285   \n",
       "activity              0.201177  0.040258  0.088940  0.269285  1.000000   \n",
       "correct_choices       0.114964 -0.000842  0.005572  0.108738  0.971724   \n",
       "frac_time_on_shocked  0.478786 -0.193094 -0.117834  0.279798  0.523807   \n",
       "\n",
       "                      correct_choices  frac_time_on_shocked  \n",
       "Volume                       0.114964              0.478786  \n",
       "Entropy0                    -0.000842             -0.193094  \n",
       "Entropy1                     0.005572             -0.117834  \n",
       "Entropy2                     0.108738              0.279798  \n",
       "activity                     0.971724              0.523807  \n",
       "correct_choices              1.000000              0.447671  \n",
       "frac_time_on_shocked         0.447671              1.000000  "
      ]
     },
     "execution_count": 45,
     "metadata": {},
     "output_type": "execute_result"
    }
   ],
   "source": [
    "correlation_matrix"
   ]
  },
  {
   "cell_type": "code",
   "execution_count": 5,
   "id": "5a4b1077-fb25-436c-af2f-11304ce11a01",
   "metadata": {
    "tags": []
   },
   "outputs": [
    {
     "ename": "NameError",
     "evalue": "name 'merged_df' is not defined",
     "output_type": "error",
     "traceback": [
      "\u001b[0;31m---------------------------------------------------------------------------\u001b[0m",
      "\u001b[0;31mNameError\u001b[0m                                 Traceback (most recent call last)",
      "Cell \u001b[0;32mIn[5], line 1\u001b[0m\n\u001b[0;32m----> 1\u001b[0m data \u001b[38;5;241m=\u001b[39m merged_df[[\u001b[38;5;124m\"\u001b[39m\u001b[38;5;124mVolume\u001b[39m\u001b[38;5;124m\"\u001b[39m,\u001b[38;5;124m\"\u001b[39m\u001b[38;5;124mEntropy0\u001b[39m\u001b[38;5;124m\"\u001b[39m,\u001b[38;5;124m\"\u001b[39m\u001b[38;5;124mEntropy1\u001b[39m\u001b[38;5;124m\"\u001b[39m,\u001b[38;5;124m\"\u001b[39m\u001b[38;5;124mEntropy2\u001b[39m\u001b[38;5;124m\"\u001b[39m,\u001b[38;5;124m\"\u001b[39m\u001b[38;5;124mactivity\u001b[39m\u001b[38;5;124m\"\u001b[39m,\u001b[38;5;124m\"\u001b[39m\u001b[38;5;124mcorrect_choices\u001b[39m\u001b[38;5;124m\"\u001b[39m,\u001b[38;5;124m\"\u001b[39m\u001b[38;5;124mfrac_time_on_shocked\u001b[39m\u001b[38;5;124m\"\u001b[39m]]\n",
      "\u001b[0;31mNameError\u001b[0m: name 'merged_df' is not defined"
     ]
    }
   ],
   "source": [
    "data = merged_df[[\"Volume\",\"Entropy0\",\"Entropy1\",\"Entropy2\",\"activity\",\"correct_choices\",\"frac_time_on_shocked\"]]\n",
    "#data.to_csv(\"/Users/skumar/Documents/PhD/BrainAnalysis/Behavior/data.csv\", index=False)"
   ]
  },
  {
   "cell_type": "code",
   "execution_count": 4,
   "id": "3705b519-03ad-4df5-8c95-eccb7975810b",
   "metadata": {
    "tags": []
   },
   "outputs": [
    {
     "ename": "NameError",
     "evalue": "name 'data' is not defined",
     "output_type": "error",
     "traceback": [
      "\u001b[0;31m---------------------------------------------------------------------------\u001b[0m",
      "\u001b[0;31mNameError\u001b[0m                                 Traceback (most recent call last)",
      "Cell \u001b[0;32mIn[4], line 2\u001b[0m\n\u001b[1;32m      1\u001b[0m \u001b[38;5;28;01mfrom\u001b[39;00m \u001b[38;5;21;01mpandas\u001b[39;00m\u001b[38;5;21;01m.\u001b[39;00m\u001b[38;5;21;01mplotting\u001b[39;00m \u001b[38;5;28;01mimport\u001b[39;00m scatter_matrix\n\u001b[0;32m----> 2\u001b[0m scatter_matrix(data, alpha\u001b[38;5;241m=\u001b[39m\u001b[38;5;241m0.5\u001b[39m, figsize\u001b[38;5;241m=\u001b[39m(\u001b[38;5;241m10\u001b[39m, \u001b[38;5;241m6\u001b[39m), diagonal\u001b[38;5;241m=\u001b[39m\u001b[38;5;124m'\u001b[39m\u001b[38;5;124mkde\u001b[39m\u001b[38;5;124m'\u001b[39m)\n",
      "\u001b[0;31mNameError\u001b[0m: name 'data' is not defined"
     ]
    }
   ],
   "source": [
    "from pandas.plotting import scatter_matrix\n",
    "scatter_matrix(data, alpha=0.5, figsize=(10, 6), diagonal='kde');"
   ]
  },
  {
   "cell_type": "code",
   "execution_count": 25,
   "id": "5b127390-bd5f-43bb-b12c-2b7cc0335c2f",
   "metadata": {
    "tags": []
   },
   "outputs": [
    {
     "ename": "ModuleNotFoundError",
     "evalue": "No module named 'pymc'",
     "output_type": "error",
     "traceback": [
      "\u001b[0;31m---------------------------------------------------------------------------\u001b[0m",
      "\u001b[0;31mModuleNotFoundError\u001b[0m                       Traceback (most recent call last)",
      "Cell \u001b[0;32mIn[25], line 1\u001b[0m\n\u001b[0;32m----> 1\u001b[0m \u001b[38;5;28;01mimport\u001b[39;00m \u001b[38;5;21;01mpymc\u001b[39;00m \u001b[38;5;28;01mas\u001b[39;00m \u001b[38;5;21;01mpm\u001b[39;00m\n\u001b[1;32m      2\u001b[0m \u001b[38;5;28;01mimport\u001b[39;00m \u001b[38;5;21;01mpandas\u001b[39;00m \u001b[38;5;28;01mas\u001b[39;00m \u001b[38;5;21;01mpd\u001b[39;00m\n\u001b[1;32m      3\u001b[0m \u001b[38;5;28;01mimport\u001b[39;00m \u001b[38;5;21;01mnumpy\u001b[39;00m \u001b[38;5;28;01mas\u001b[39;00m \u001b[38;5;21;01mnp\u001b[39;00m\n",
      "\u001b[0;31mModuleNotFoundError\u001b[0m: No module named 'pymc'"
     ]
    }
   ],
   "source": [
    "import pymc as pm\n",
    "import pandas as pd\n",
    "import numpy as np\n",
    "\n",
    "# Step 1: Load and preprocess the data\n",
    "data = merged_df[[\"Volume\",\"activity\",\"correct_choices\",\"frac_time_on_shocked\"]]# Replace 'your_data.csv' with your actual data file\n",
    "# Assuming the columns are 'frac_time_on_shocked', 'Volume', 'activity', and 'correct_choices'\n",
    "frac_time = data['frac_time_on_shocked']\n",
    "volume = data['Volume']\n",
    "activity = data['activity']\n",
    "correct_choices = data['correct_choices']\n",
    "\n",
    "# Step 2: Define the prior distributions\n",
    "with pm.Model() as model:\n",
    "    # Priors for the parameters\n",
    "    intercept = pm.Normal('intercept', mu=0, sd=10)\n",
    "    coef_volume = pm.Normal('coef_volume', mu=0, sd=10)\n",
    "    coef_activity = pm.Normal('coef_activity', mu=0, sd=10)\n",
    "    coef_correct_choices = pm.Normal('coef_correct_choices', mu=0, sd=10)\n",
    "    \n",
    "    # Step 3: Define the linear regression model\n",
    "    mu = intercept + coef_volume * volume + coef_activity * activity + coef_correct_choices * correct_choices\n",
    "    sigma = pm.Exponential('sigma', lam=1)  # Prior for the error term\n",
    "    \n",
    "    # Step 4: Define the likelihood\n",
    "    likelihood = pm.Normal('likelihood', mu=mu, sd=sigma, observed=frac_time)\n",
    "    \n",
    "    # Step 5: Perform the sampling\n",
    "    trace = pm.sample(2000, tune=1000)  # Use more samples and tune for better results\n",
    "\n",
    "# Step 6: Examine the results\n",
    "pm.summary(trace)  # Summary statistics of the posterior distributions\n",
    "pm.traceplot(trace)  # Plot the posterior distributions\n"
   ]
  },
  {
   "cell_type": "code",
   "execution_count": null,
   "id": "d3788a81-71d6-4748-8512-1f888d58a128",
   "metadata": {},
   "outputs": [],
   "source": []
  },
  {
   "cell_type": "code",
   "execution_count": null,
   "id": "b63764b8-51a5-4f40-928d-e950dae22be4",
   "metadata": {},
   "outputs": [],
   "source": []
  },
  {
   "cell_type": "code",
   "execution_count": null,
   "id": "ce4fddde-6e0c-4c3b-89f4-dc265d549854",
   "metadata": {},
   "outputs": [],
   "source": []
  }
 ],
 "metadata": {
  "kernelspec": {
   "display_name": "Python3",
   "language": "python",
   "name": "python3"
  },
  "language_info": {
   "codemirror_mode": {
    "name": "ipython",
    "version": 3
   },
   "file_extension": ".py",
   "mimetype": "text/x-python",
   "name": "python",
   "nbconvert_exporter": "python",
   "pygments_lexer": "ipython3",
   "version": "3.11.4"
  }
 },
 "nbformat": 4,
 "nbformat_minor": 5
}
